{
 "cells": [
  {
   "metadata": {
    "ExecuteTime": {
     "end_time": "2025-06-04T20:56:34.999071Z",
     "start_time": "2025-06-04T20:56:34.932966Z"
    }
   },
   "cell_type": "code",
   "source": [
    "import numpy as np\n",
    "from rashomon.hasse import enumerate_policies\n",
    "from allocation import compute_initial_boundary_probs, allocate_wave, assign_treatments\n",
    "from data_gen import get_beta_underlying_causal, generate_outcomes"
   ],
   "id": "1214612f34cc7791",
   "outputs": [],
   "execution_count": 5
  },
  {
   "metadata": {},
   "cell_type": "markdown",
   "source": "# Finding optimal parameters for the RPS",
   "id": "6dfdf8d143fad161"
  },
  {
   "metadata": {},
   "cell_type": "markdown",
   "source": "### (Setup) First-wave allocation and outcomes",
   "id": "2a542eec8e7b6f3c"
  },
  {
   "metadata": {
    "ExecuteTime": {
     "end_time": "2025-06-04T20:56:37.369292Z",
     "start_time": "2025-06-04T20:56:35.536723Z"
    }
   },
   "cell_type": "code",
   "source": [
    "M = 8\n",
    "R = 5\n",
    "policies = enumerate_policies(M, R)\n",
    "K = len(policies)\n",
    "\n",
    "H = 3  # TODO choice\n",
    "n1 = 500\n",
    "boundary_probs = compute_initial_boundary_probs(policies, R, H)\n",
    "n1_alloc = allocate_wave(boundary_probs, n1)"
   ],
   "id": "798f73bb6d3e34f6",
   "outputs": [],
   "execution_count": 6
  },
  {
   "metadata": {
    "ExecuteTime": {
     "end_time": "2025-06-04T20:56:38.603072Z",
     "start_time": "2025-06-04T20:56:37.850112Z"
    }
   },
   "cell_type": "code",
   "source": [
    "beta = get_beta_underlying_causal(policies, M, R, kind=\"poly\")\n",
    "\n",
    "D1 = assign_treatments(n_alloc=n1_alloc)\n",
    "N1 = D1.shape[0]\n",
    "\n",
    "sigma_noise = 10\n",
    "outcome_seed = 53\n",
    "y1 = generate_outcomes(D=D1, beta=beta, sigma_noise=sigma_noise, random_seed=outcome_seed)"
   ],
   "id": "9c50311582c2f154",
   "outputs": [],
   "execution_count": 7
  },
  {
   "metadata": {},
   "cell_type": "markdown",
   "source": "## Code and visualization for parameters",
   "id": "4a0d218da56ca0d6"
  },
  {
   "metadata": {
    "ExecuteTime": {
     "end_time": "2025-06-04T20:56:44.110398Z",
     "start_time": "2025-06-04T20:56:44.098155Z"
    }
   },
   "cell_type": "code",
   "source": "H = np.inf # start with no cap on number of pools, rely on loss-threshold to prune partitions?",
   "id": "a62da2ee62805aa5",
   "outputs": [],
   "execution_count": 8
  },
  {
   "metadata": {},
   "cell_type": "markdown",
   "source": [
    "**In progress:** defining functions to tune and find best lambda and theta. Also create plot of error and size.\n",
    "**Note on below code:** currently just an outline, needs coherence and checks on the equations + a principled way of picking lambda and theta"
   ],
   "id": "e29927da0ccad683"
  },
  {
   "metadata": {
    "ExecuteTime": {
     "end_time": "2025-06-04T20:56:45.647738Z",
     "start_time": "2025-06-04T20:56:45.643438Z"
    }
   },
   "cell_type": "code",
   "source": [
    "# lambda_grid = np.array([0.001, 0.01, 0.1, 1.0, 10.0, 100.0])\n",
    "#\n",
    "# results_lambda = tune_lambda(\n",
    "#     policies=policies,\n",
    "#     D1=D1,\n",
    "#     y1=y1,\n",
    "#     R=R,\n",
    "#     H=H,\n",
    "#     lambda_grid=lambda_grid\n",
    "# )"
   ],
   "id": "f41253fec42382bf",
   "outputs": [],
   "execution_count": 9
  },
  {
   "metadata": {
    "ExecuteTime": {
     "end_time": "2025-06-04T20:56:45.820970Z",
     "start_time": "2025-06-04T20:56:45.819041Z"
    }
   },
   "cell_type": "code",
   "source": [
    "# results_theta = tune_theta(\n",
    "#     policies=policies,\n",
    "#     D1=D1,\n",
    "#     y1=y1,\n",
    "#     R=R,\n",
    "#     H=H,\n",
    "#     lambda_fixed=lambda_star,\n",
    "#     theta_grid=np.linspace(0.0, 10.0, 41)\n",
    "# )"
   ],
   "id": "deeca5c07ac9ae7c",
   "outputs": [],
   "execution_count": 10
  },
  {
   "metadata": {
    "ExecuteTime": {
     "end_time": "2025-06-04T20:56:45.989368Z",
     "start_time": "2025-06-04T20:56:45.986656Z"
    }
   },
   "cell_type": "code",
   "source": [
    "# ---- need a lambda_star\n",
    "# # Plot |RPS_1| vs. θ on log‐scale\n",
    "# fig, ax = plt.subplots(figsize=(6, 5))\n",
    "# ax.spines['top'].set_visible(False)\n",
    "# ax.spines['right'].set_visible(False)\n",
    "#\n",
    "# ax.plot(results_theta['theta'], results_theta['rps_size'],\n",
    "#         color='dodgerblue', linewidth=2)\n",
    "# ax.set_yscale('log')\n",
    "# ax.set_xlabel(r\"$\\theta$\")\n",
    "# ax.set_ylabel(r\"$|\\mathrm{RPS}_1(\\theta)|$\")\n",
    "# plt.title(f\"|RPS₁| vs. θ at λ = {lambda_star}\")\n",
    "# plt.tight_layout()\n",
    "# plt.show()\n"
   ],
   "id": "32568d927e0f0081",
   "outputs": [],
   "execution_count": 11
  },
  {
   "metadata": {
    "ExecuteTime": {
     "end_time": "2025-06-04T20:56:46.130939Z",
     "start_time": "2025-06-04T20:56:46.128958Z"
    }
   },
   "cell_type": "code",
   "source": [
    "# -- but need a theta and lambda\n",
    "# build the RPS after the first wave\n",
    "# R_set, R_profiles = RAggregate(M, R, H, D1, y1, theta, reg=lambda_reg)"
   ],
   "id": "71588b31c03147e6",
   "outputs": [],
   "execution_count": 12
  },
  {
   "metadata": {},
   "cell_type": "markdown",
   "source": "Check losses and sizes for the RPS (currently needs reworking)",
   "id": "c93ade8a8fffb06b"
  },
  {
   "metadata": {
    "ExecuteTime": {
     "end_time": "2025-06-04T20:56:46.413859Z",
     "start_time": "2025-06-04T20:56:46.411573Z"
    }
   },
   "cell_type": "code",
   "source": [
    "# num_partitions = len(R_set)\n",
    "# num_profiles   = len(R_profiles)\n",
    "#\n",
    "# model_losses = np.zeros(num_partitions, dtype=float)\n",
    "# model_sizes = np.zeros(num_partitions, dtype=int)\n",
    "#\n",
    "# for i, r_set in enumerate(R_set):\n",
    "#     loss_r = 0.0\n",
    "#     size_r = 0\n",
    "#     for k in range(num_profiles):\n",
    "#         idx_subpart = r_set[k]\n",
    "#         loss_k = R_profiles[k].loss[idx_subpart]\n",
    "#         sigma_k = R_profiles[k].sigma[idx_subpart]\n",
    "#         pools_k = R_profiles[k].pools[idx_subpart]\n",
    "#\n",
    "#         loss_r += loss_k\n",
    "#         # If sigma_k is None and loss_k==0, it means no cuts in that profile => size contribution = 0\n",
    "#         if not (sigma_k is None and loss_k == 0):\n",
    "#             size_r += pools_k\n",
    "#\n",
    "#     model_losses[i] = loss_r\n",
    "#     model_sizes[i]  = size_r\n",
    "#\n",
    "# # compute q0 = min model_losses and form eps‐array\n",
    "# q0 = np.min(model_losses)\n",
    "# sorted_losses = np.sort(model_losses)"
   ],
   "id": "5688f8c1f5c77825",
   "outputs": [],
   "execution_count": 13
  },
  {
   "metadata": {
    "ExecuteTime": {
     "end_time": "2025-06-04T20:56:47.212906Z",
     "start_time": "2025-06-04T20:56:47.210221Z"
    }
   },
   "cell_type": "code",
   "source": [
    "# TODO check equations\n",
    "# sorted_epsilon = sorted_losses / q0 - 1.0\n",
    "# # compute “unnormalized posteriors” proportional to exp(-Q_i)\n",
    "# sorted_posteriors = np.exp(-sorted_losses)\n",
    "#\n",
    "# # x‐axis is sorted_epsilon; the y‐axis is “how many partitions \\leq eps”:\n",
    "# num_models = np.arange(1, num_partitions + 1)\n",
    "#\n",
    "# # choose eps*\n",
    "# threshold = 0.05\n",
    "# idx_threshold = int(threshold * num_partitions)\n",
    "# eps_star = sorted_epsilon[idx_threshold]\n",
    "# y_star = idx_threshold + 1 # because num_models starts at 1"
   ],
   "id": "2450db6ae6252410",
   "outputs": [],
   "execution_count": 14
  },
  {
   "metadata": {},
   "cell_type": "markdown",
   "source": "Get plot (as in original Rashomon paper) of eps vs. size",
   "id": "f3af40078f87589e"
  },
  {
   "metadata": {
    "ExecuteTime": {
     "end_time": "2025-06-04T20:56:48.471161Z",
     "start_time": "2025-06-04T20:56:48.465042Z"
    }
   },
   "cell_type": "code",
   "source": [
    "# # plot eps vs. |RPS1|\n",
    "# fig, ax = plt.subplots(figsize=(6, 5))\n",
    "# ax.spines['top'].set_visible(False)\n",
    "# ax.spines['right'].set_visible(False)\n",
    "#\n",
    "# # Dashed lines at (eps*, |RPS(eps*)|):\n",
    "# ax.plot([eps_star, eps_star], [0, y_star], color='k', ls='--')\n",
    "# ax.plot([0, eps_star], [y_star, y_star], color='k', ls='--')\n",
    "#\n",
    "# ax.plot(sorted_epsilon, num_models, color='dodgerblue', linewidth=2)\n",
    "# ax.set_xlabel(r\"$\\epsilon = \\frac{Q(\\Sigma) - Q_{\\min}}{Q_{\\min}}$\")\n",
    "# ax.set_ylabel(\"Number of partitions in RPS$_1$\")\n",
    "# ax.set_yscale(\"log\")\n",
    "#\n",
    "# ax.set_xlim(0, sorted_epsilon.max())\n",
    "# ax.set_ylim(1, num_models.max())\n",
    "#\n",
    "# plt.tight_layout()\n",
    "# plt.show()"
   ],
   "id": "bd91302d167d5564",
   "outputs": [],
   "execution_count": 15
  },
  {
   "metadata": {},
   "cell_type": "markdown",
   "source": "Create final RPS with the optimal parameters found above.",
   "id": "e1c3ceac23d8e0f2"
  },
  {
   "metadata": {
    "ExecuteTime": {
     "end_time": "2025-06-04T20:56:49.612229Z",
     "start_time": "2025-06-04T20:56:49.608990Z"
    }
   },
   "cell_type": "code",
   "source": [
    "# R_set_final, R_profiles_final = RAggregate(\n",
    "#     M=len(policies[0]),\n",
    "#     R=R,\n",
    "#     H=H,\n",
    "#     D=D1,\n",
    "#     y=y1,\n",
    "#     theta=theta_star,\n",
    "#     reg=lambda_star\n",
    "# )\n",
    "# print(\"Final |RPS1| =\", len(R_set_final))"
   ],
   "id": "83595759e0d1790f",
   "outputs": [],
   "execution_count": 16
  },
  {
   "metadata": {},
   "cell_type": "code",
   "outputs": [],
   "execution_count": null,
   "source": "",
   "id": "ca3a8d24b51e1b3e"
  }
 ],
 "metadata": {
  "kernelspec": {
   "display_name": "Python 3",
   "language": "python",
   "name": "python3"
  },
  "language_info": {
   "codemirror_mode": {
    "name": "ipython",
    "version": 2
   },
   "file_extension": ".py",
   "mimetype": "text/x-python",
   "name": "python",
   "nbconvert_exporter": "python",
   "pygments_lexer": "ipython2",
   "version": "2.7.6"
  }
 },
 "nbformat": 4,
 "nbformat_minor": 5
}
