{
 "cells": [
  {
   "metadata": {},
   "cell_type": "markdown",
   "source": "# Test: treatment structure and first-wave allocation",
   "id": "54ee59f344fd23a6"
  },
  {
   "metadata": {
    "ExecuteTime": {
     "end_time": "2025-06-04T20:39:52.124158Z",
     "start_time": "2025-06-04T20:39:52.112156Z"
    }
   },
   "cell_type": "code",
   "source": [
    "import numpy as np\n",
    "import pandas as pd\n",
    "import matplotlib.pyplot as plt\n",
    "from rashomon.hasse import enumerate_policies\n",
    "from first_wave import compute_boundary_probs, allocate_wave"
   ],
   "id": "ebc03e3f9d43418a",
   "outputs": [],
   "execution_count": 4
  },
  {
   "metadata": {},
   "cell_type": "markdown",
   "source": "We get our full lattice and then allocate the first wave of nodes according to their probability of lying on a partition boundary.",
   "id": "374fec20cf4feafa"
  },
  {
   "metadata": {
    "ExecuteTime": {
     "end_time": "2025-06-04T20:40:35.940947Z",
     "start_time": "2025-06-04T20:40:35.930435Z"
    }
   },
   "cell_type": "code",
   "source": [
    "M = 2 # needs to be 2 for visualization\n",
    "R = 5\n",
    "H = 3 # sparsity for boundary probability, taken as given, TODO choice\n",
    "n1 = 100 # total first wave sample size"
   ],
   "id": "ea8d36d3b8f69ba5",
   "outputs": [],
   "execution_count": 12
  },
  {
   "metadata": {
    "ExecuteTime": {
     "end_time": "2025-06-04T20:40:36.387591Z",
     "start_time": "2025-06-04T20:40:36.384623Z"
    }
   },
   "cell_type": "code",
   "source": [
    "# lattice - enumerate all R^M policies\n",
    "policies = enumerate_policies(M, R)\n",
    "K = len(policies)\n",
    "print(f\"Enumerated K = R^M = {K} policies (each as an M‐tuple).\")\n",
    "\n",
    "# compute boundary probabilities for each policy\n",
    "boundary_probs = compute_boundary_probs(policies, R, H)\n",
    "\n",
    "# allocate first-wave counts n1(v)\n",
    "n1_alloc = allocate_wave(boundary_probs, n1)"
   ],
   "id": "71278d8315f41fb7",
   "outputs": [
    {
     "name": "stdout",
     "output_type": "stream",
     "text": [
      "Enumerated K = R^M = 25 policies (each as an M‐tuple).\n"
     ]
    }
   ],
   "execution_count": 13
  },
  {
   "metadata": {
    "ExecuteTime": {
     "end_time": "2025-06-04T20:40:41.278664Z",
     "start_time": "2025-06-04T20:40:41.272271Z"
    }
   },
   "cell_type": "code",
   "source": [
    "# check allocation counts\n",
    "total_alloc = int(n1_alloc.sum())\n",
    "print(f\"Should allocate {n1} total samples.\")\n",
    "print(f\"Total allocated n1 across all policies: {total_alloc}\")"
   ],
   "id": "637bf07419f0bae1",
   "outputs": [
    {
     "name": "stdout",
     "output_type": "stream",
     "text": [
      "Should allocate 100 total samples.\n",
      "Total allocated n1 across all policies: 100\n"
     ]
    }
   ],
   "execution_count": 14
  },
  {
   "metadata": {},
   "cell_type": "markdown",
   "source": "### set up DataFrame for visualization",
   "id": "7258baf698fb7733"
  },
  {
   "metadata": {
    "ExecuteTime": {
     "end_time": "2025-06-04T20:41:25.742066Z",
     "start_time": "2025-06-04T20:41:25.721386Z"
    }
   },
   "cell_type": "code",
   "source": [
    "# get v1 and v2 from policies, works for both list of tuples and array\n",
    "v1 = [v[0] for v in policies]\n",
    "v2 = [v[1] for v in policies]\n",
    "\n",
    "df = pd.DataFrame({\n",
    "    \"v1\": v1,\n",
    "    \"v2\": v2,\n",
    "    \"boundary_prob\": boundary_probs,\n",
    "    \"n1_alloc\": n1_alloc\n",
    "})\n",
    "\n",
    "# set up in grid form. works also for non-uniform R\n",
    "grid_probs = df.pivot(index=\"v1\", columns=\"v2\", values=\"boundary_prob\")\n",
    "grid_alloc = df.pivot(index=\"v1\", columns=\"v2\", values=\"n1_alloc\")"
   ],
   "id": "c418aedde8306f82",
   "outputs": [],
   "execution_count": 16
  },
  {
   "metadata": {},
   "cell_type": "markdown",
   "source": "### plot heatmaps for boundary probabilities and first-wave allocations",
   "id": "13940a206acf9a9a"
  },
  {
   "metadata": {
    "ExecuteTime": {
     "end_time": "2025-06-04T20:46:06.858418Z",
     "start_time": "2025-06-04T20:46:06.708002Z"
    }
   },
   "cell_type": "code",
   "source": [
    "# plot heatmaps\n",
    "fig, axs = plt.subplots(1, 2, figsize=(12, 5))\n",
    "\n",
    "# boundary‐probability heatmap\n",
    "im1 = axs[0].imshow(\n",
    "    grid_probs.values,\n",
    "    origin=\"lower\",\n",
    "    aspect=\"equal\",\n",
    "    vmin=grid_probs.values.min(),\n",
    "    vmax=grid_probs.values.max(),\n",
    "    cmap='Reds',\n",
    "    interpolation='nearest'\n",
    ")\n",
    "axs[0].set_title(\"Boundary Probability Heatmap\")\n",
    "axs[0].set_xlabel(\"v2 level\")\n",
    "axs[0].set_ylabel(\"v1 level\")\n",
    "\n",
    "# if R was a list of different levels, use its max per‐feature to label ticks, otherwise just use R\n",
    "if np.isscalar(R):\n",
    "    max_v1 = R - 1\n",
    "    max_v2 = R - 1\n",
    "else:\n",
    "    R_arr = np.array(R, dtype=int)\n",
    "    max_v1 = R_arr[0] - 1\n",
    "    max_v2 = R_arr[1] - 1\n",
    "\n",
    "axs[0].set_xticks(np.arange(max_v2 + 1))\n",
    "axs[0].set_yticks(np.arange(max_v1 + 1))\n",
    "fig.colorbar(im1, ax=axs[0], fraction=0.046, pad=0.04)\n",
    "\n",
    "# first‐wave allocation heatmap\n",
    "im2 = axs[1].imshow(\n",
    "    grid_alloc.values,\n",
    "    origin=\"lower\",\n",
    "    aspect=\"equal\",\n",
    "    vmin=grid_alloc.values.min(),\n",
    "    vmax=grid_alloc.values.max(),\n",
    "    cmap='Reds',\n",
    "    interpolation='nearest'\n",
    ")\n",
    "axs[1].set_title(\"First Wave Allocation (n1_alloc)\")\n",
    "axs[1].set_xlabel(\"v2 level\")\n",
    "axs[1].set_ylabel(\"v1 level\")\n",
    "axs[1].set_xticks(np.arange(max_v2 + 1))\n",
    "axs[1].set_yticks(np.arange(max_v1 + 1))\n",
    "fig.colorbar(im2, ax=axs[1], fraction=0.046, pad=0.04)\n",
    "\n",
    "plt.tight_layout()\n",
    "plt.show()"
   ],
   "id": "63465d4b2f630045",
   "outputs": [
    {
     "data": {
      "text/plain": [
       "<Figure size 1200x500 with 4 Axes>"
      ],
      "image/png": "[encoded data removed]"
     },
     "metadata": {},
     "output_type": "display_data"
    }
   ],
   "execution_count": 20
  },
  {
   "metadata": {},
   "cell_type": "markdown",
   "source": "# Test: underlying causal model",
   "id": "a73aff804978d0da"
  },
  {
   "metadata": {
    "ExecuteTime": {
     "end_time": "2025-06-04T20:46:33.964539Z",
     "start_time": "2025-06-04T20:46:33.948751Z"
    }
   },
   "cell_type": "code",
   "source": [
    "from data_gen import get_beta_underlying_causal\n",
    "from rashomon.hasse import enumerate_policies\n",
    "\n",
    "#small M and R for quick checks\n",
    "M = 3\n",
    "R = 4\n",
    "\n",
    "policies = enumerate_policies(M, R)\n",
    "\n",
    "# current list of possibilities for causal model\n",
    "kinds = [\n",
    "    \"bump_sin\",\n",
    "    \"sin_prod\",\n",
    "    \"poly\",\n",
    "    \"gauss\",\n",
    "    \"linear_only\",\n",
    "    \"simple_interaction\",\n",
    "    \"pairwise_sparse\",\n",
    "    \"quadratic_form\",\n",
    "    \"rbf_mixture\",\n",
    "    \"neural_net_tanh\",\n",
    "    \"poly_degree_3\"\n",
    "]"
   ],
   "id": "initial_id",
   "outputs": [],
   "execution_count": 21
  },
  {
   "metadata": {
    "ExecuteTime": {
     "end_time": "2025-06-04T20:46:35.883612Z",
     "start_time": "2025-06-04T20:46:35.871323Z"
    }
   },
   "cell_type": "code",
   "source": [
    "# loop over each kind, compute beta, print basic diagnostics\n",
    "for kind in kinds:\n",
    "    try:\n",
    "        beta_vals = get_beta_underlying_causal(policies, M, R, kind=kind)\n",
    "        print(f\"Kind = {kind!r}\")\n",
    "        print(f\"  Shape: {beta_vals.shape}\")\n",
    "        print(f\"  First 5 values: {beta_vals[:5]!r}\")\n",
    "        print(f\"  Min: {beta_vals.min():.6f}, Max: {beta_vals.max():.6f}, Mean: {beta_vals.mean():.6f}\")\n",
    "        print(\"-\" * 60)\n",
    "    except Exception as e:\n",
    "        print(f\"Kind = {kind!r} raised an error: {e}\")\n",
    "        print(\"-\" * 60)"
   ],
   "id": "2f37b2188ad8f17b",
   "outputs": [
    {
     "name": "stdout",
     "output_type": "stream",
     "text": [
      "Kind = 'bump_sin' raised an error: Unknown kind='bump_sin'. Valid options:\n",
      "  'bump_sin', 'sin_prod', 'poly', 'gauss',\n",
      "  'linear_only', 'simple_interaction', 'pairwise_sparse', 'quadratic_form',\n",
      "  'rbf_mixture', 'neural_net_tanh', 'poly_degree_3'.\n",
      "------------------------------------------------------------\n",
      "Kind = 'sin_prod'\n",
      "  Shape: (64,)\n",
      "  First 5 values: array([0., 0., 0., 0., 0.])\n",
      "  Min: 0.000000, Max: 0.649519, Mean: 0.081190\n",
      "------------------------------------------------------------\n",
      "Kind = 'poly'\n",
      "  Shape: (64,)\n",
      "  First 5 values: array([0.        , 0.11111111, 0.44444444, 1.        , 0.11111111])\n",
      "  Min: 0.000000, Max: 3.000000, Mean: 1.166667\n",
      "------------------------------------------------------------\n",
      "Kind = 'gauss'\n",
      "  Shape: (64,)\n",
      "  First 5 values: array([8.48182352e-05, 1.36415209e-03, 1.36415209e-03, 8.48182352e-05,\n",
      "       1.36415209e-03])\n",
      "  Min: 0.000085, Max: 0.352866, Mean: 0.052858\n",
      "------------------------------------------------------------\n",
      "Kind = 'linear_only'\n",
      "  Shape: (64,)\n",
      "  First 5 values: array([0.        , 0.33333333, 0.66666667, 1.        , 0.33333333])\n",
      "  Min: 0.000000, Max: 3.000000, Mean: 1.500000\n",
      "------------------------------------------------------------\n",
      "Kind = 'simple_interaction'\n",
      "  Shape: (64,)\n",
      "  First 5 values: array([0., 0., 0., 0., 0.])\n",
      "  Min: 0.000000, Max: 1.000000, Mean: 0.250000\n",
      "------------------------------------------------------------\n",
      "Kind = 'pairwise_sparse'\n",
      "  Shape: (64,)\n",
      "  First 5 values: array([0.        , 0.33333333, 0.66666667, 1.        , 0.33333333])\n",
      "  Min: 0.000000, Max: 4.400000, Mean: 1.850000\n",
      "------------------------------------------------------------\n",
      "Kind = 'quadratic_form'\n",
      "  Shape: (64,)\n",
      "  First 5 values: array([0.        , 0.44444444, 1.11111111, 2.        , 0.44444444])\n",
      "  Min: 0.000000, Max: 8.000000, Mean: 3.166667\n",
      "------------------------------------------------------------\n",
      "Kind = 'rbf_mixture'\n",
      "  Shape: (64,)\n",
      "  First 5 values: array([0.09737214, 0.21478124, 0.04652802, 0.0015906 , 0.19403834])\n",
      "  Min: 0.000149, Max: 1.251740, Mean: 0.155240\n",
      "------------------------------------------------------------\n",
      "Kind = 'neural_net_tanh'\n",
      "  Shape: (64,)\n",
      "  First 5 values: array([-2.88474331, -2.41576188, -1.70830708, -0.77473232, -2.91171651])\n",
      "  Min: -2.911717, Max: 2.332004, Mean: -0.437211\n",
      "------------------------------------------------------------\n",
      "Kind = 'poly_degree_3'\n",
      "  Shape: (64,)\n",
      "  First 5 values: array([0.        , 0.03703704, 0.2962963 , 1.        , 0.03703704])\n",
      "  Min: 0.000000, Max: 4.500000, Mean: 1.291667\n",
      "------------------------------------------------------------\n"
     ]
    }
   ],
   "execution_count": 22
  }
 ],
 "metadata": {
  "kernelspec": {
   "display_name": "Python 3",
   "language": "python",
   "name": "python3"
  },
  "language_info": {
   "codemirror_mode": {
    "name": "ipython",
    "version": 2
   },
   "file_extension": ".py",
   "mimetype": "text/x-python",
   "name": "python",
   "nbconvert_exporter": "python",
   "pygments_lexer": "ipython2",
   "version": "2.7.6"
  }
 },
 "nbformat": 4,
 "nbformat_minor": 5
}
