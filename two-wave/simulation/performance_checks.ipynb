{
 "cells": [
  {
   "metadata": {},
   "cell_type": "markdown",
   "source": "### Tests: underlying causal model",
   "id": "a73aff804978d0da"
  },
  {
   "metadata": {
    "ExecuteTime": {
     "end_time": "2025-06-04T20:13:14.357065Z",
     "start_time": "2025-06-04T20:13:14.351209Z"
    }
   },
   "cell_type": "code",
   "source": [
    "from data_gen import get_beta_underlying_causal\n",
    "from rashomon.hasse import enumerate_policies\n",
    "\n",
    "#small M and R for quick checks\n",
    "M = 3\n",
    "R = 4\n",
    "\n",
    "policies = enumerate_policies(M, R)\n",
    "\n",
    "kinds = [\n",
    "    \"bump_sin\",\n",
    "    \"sin_prod\",\n",
    "    \"poly\",\n",
    "    \"gauss\",\n",
    "    \"linear_only\",\n",
    "    \"simple_interaction\",\n",
    "    \"pairwise_sparse\",\n",
    "    \"quadratic_form\",\n",
    "    \"rbf_mixture\",\n",
    "    \"neural_net_tanh\",\n",
    "    \"poly_degree_3\"\n",
    "]"
   ],
   "id": "initial_id",
   "outputs": [],
   "execution_count": 1
  },
  {
   "metadata": {
    "ExecuteTime": {
     "end_time": "2025-06-04T20:13:17.287983Z",
     "start_time": "2025-06-04T20:13:17.278790Z"
    }
   },
   "cell_type": "code",
   "source": [
    "# loop over each kind, compute beta, print basic diagnostics\n",
    "for kind in kinds:\n",
    "    try:\n",
    "        beta_vals = get_beta_underlying_causal(policies, M, R, kind=kind)\n",
    "        print(f\"Kind = {kind!r}\")\n",
    "        print(f\"  Shape: {beta_vals.shape}\")\n",
    "        print(f\"  First 5 values: {beta_vals[:5]!r}\")\n",
    "        print(f\"  Min: {beta_vals.min():.6f}, Max: {beta_vals.max():.6f}, Mean: {beta_vals.mean():.6f}\")\n",
    "        print(\"-\" * 60)\n",
    "    except Exception as e:\n",
    "        print(f\"Kind = {kind!r} raised an error: {e}\")\n",
    "        print(\"-\" * 60)"
   ],
   "id": "2f37b2188ad8f17b",
   "outputs": [
    {
     "name": "stdout",
     "output_type": "stream",
     "text": [
      "Kind = 'bump_sin' raised an error: Unknown kind='bump_sin'. Valid options:\n",
      "  'bump_sin', 'sin_prod', 'poly', 'gauss',\n",
      "  'linear_only', 'simple_interaction', 'pairwise_sparse', 'quadratic_form',\n",
      "  'rbf_mixture', 'neural_net_tanh', 'poly_degree_3'.\n",
      "------------------------------------------------------------\n",
      "Kind = 'sin_prod'\n",
      "  Shape: (64,)\n",
      "  First 5 values: array([0., 0., 0., 0., 0.])\n",
      "  Min: 0.000000, Max: 0.649519, Mean: 0.081190\n",
      "------------------------------------------------------------\n",
      "Kind = 'poly'\n",
      "  Shape: (64,)\n",
      "  First 5 values: array([0.        , 0.11111111, 0.44444444, 1.        , 0.11111111])\n",
      "  Min: 0.000000, Max: 3.000000, Mean: 1.166667\n",
      "------------------------------------------------------------\n",
      "Kind = 'gauss'\n",
      "  Shape: (64,)\n",
      "  First 5 values: array([8.48182352e-05, 1.36415209e-03, 1.36415209e-03, 8.48182352e-05,\n",
      "       1.36415209e-03])\n",
      "  Min: 0.000085, Max: 0.352866, Mean: 0.052858\n",
      "------------------------------------------------------------\n",
      "Kind = 'linear_only'\n",
      "  Shape: (64,)\n",
      "  First 5 values: array([0.        , 0.33333333, 0.66666667, 1.        , 0.33333333])\n",
      "  Min: 0.000000, Max: 3.000000, Mean: 1.500000\n",
      "------------------------------------------------------------\n",
      "Kind = 'simple_interaction'\n",
      "  Shape: (64,)\n",
      "  First 5 values: array([0., 0., 0., 0., 0.])\n",
      "  Min: 0.000000, Max: 1.000000, Mean: 0.250000\n",
      "------------------------------------------------------------\n",
      "Kind = 'pairwise_sparse'\n",
      "  Shape: (64,)\n",
      "  First 5 values: array([0.        , 0.33333333, 0.66666667, 1.        , 0.33333333])\n",
      "  Min: 0.000000, Max: 4.400000, Mean: 1.850000\n",
      "------------------------------------------------------------\n",
      "Kind = 'quadratic_form'\n",
      "  Shape: (64,)\n",
      "  First 5 values: array([0.        , 0.44444444, 1.11111111, 2.        , 0.44444444])\n",
      "  Min: 0.000000, Max: 8.000000, Mean: 3.166667\n",
      "------------------------------------------------------------\n",
      "Kind = 'rbf_mixture'\n",
      "  Shape: (64,)\n",
      "  First 5 values: array([0.09737214, 0.21478124, 0.04652802, 0.0015906 , 0.19403834])\n",
      "  Min: 0.000149, Max: 1.251740, Mean: 0.155240\n",
      "------------------------------------------------------------\n",
      "Kind = 'neural_net_tanh'\n",
      "  Shape: (64,)\n",
      "  First 5 values: array([-2.88474331, -2.41576188, -1.70830708, -0.77473232, -2.91171651])\n",
      "  Min: -2.911717, Max: 2.332004, Mean: -0.437211\n",
      "------------------------------------------------------------\n",
      "Kind = 'poly_degree_3'\n",
      "  Shape: (64,)\n",
      "  First 5 values: array([0.        , 0.03703704, 0.2962963 , 1.        , 0.03703704])\n",
      "  Min: 0.000000, Max: 4.500000, Mean: 1.291667\n",
      "------------------------------------------------------------\n"
     ]
    }
   ],
   "execution_count": 2
  },
  {
   "metadata": {},
   "cell_type": "code",
   "outputs": [],
   "execution_count": null,
   "source": "",
   "id": "e7da2a1d32fb030b"
  }
 ],
 "metadata": {
  "kernelspec": {
   "display_name": "Python 3",
   "language": "python",
   "name": "python3"
  },
  "language_info": {
   "codemirror_mode": {
    "name": "ipython",
    "version": 2
   },
   "file_extension": ".py",
   "mimetype": "text/x-python",
   "name": "python",
   "nbconvert_exporter": "python",
   "pygments_lexer": "ipython2",
   "version": "2.7.6"
  }
 },
 "nbformat": 4,
 "nbformat_minor": 5
}
