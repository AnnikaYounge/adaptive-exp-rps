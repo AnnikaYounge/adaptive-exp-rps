{
 "cells": [
  {
   "metadata": {},
   "cell_type": "markdown",
   "source": "# Archive: Multi-wave RPS Algorithm (2+ waves)",
   "id": "3821486d2362d731"
  },
  {
   "metadata": {
    "ExecuteTime": {
     "end_time": "2025-07-07T19:49:25.347976Z",
     "start_time": "2025-07-07T19:49:25.343560Z"
    }
   },
   "cell_type": "code",
   "source": [
    "import numpy as np\n",
    "from allocation import compute_initial_boundary_probs, compute_wave_boundary_probs, allocate_wave, assign_treatments\n",
    "from data_gen import get_beta_underlying_causal, generate_outcomes\n",
    "from rashomon.hasse import enumerate_policies\n",
    "from construct_RPS import construct_RPS"
   ],
   "id": "5242302164f6663e",
   "outputs": [],
   "execution_count": 4
  },
  {
   "metadata": {},
   "cell_type": "markdown",
   "source": "### 1. First-wave allocation",
   "id": "df6535a12f16459b"
  },
  {
   "metadata": {
    "ExecuteTime": {
     "end_time": "2025-07-07T19:49:27.071137Z",
     "start_time": "2025-07-07T19:49:27.051288Z"
    }
   },
   "cell_type": "code",
   "source": [
    "# get lattice\n",
    "M = 4\n",
    "R = [2,3,3,4]\n",
    "H = 20\n",
    "n1 = 500\n",
    "\n",
    "R_vec = np.full(M, R) if np.isscalar(R) else np.array(R) # allow for heterogeneity in levels\n",
    "policies = enumerate_policies(M, R)\n",
    "policies = np.array(enumerate_policies(M, R))\n",
    "K = len(policies[0])\n",
    "\n",
    "boundary_probs = compute_initial_boundary_probs(policies, R, H)\n",
    "n1_alloc = allocate_wave(boundary_probs, n1)\n",
    "\n",
    "beta = get_beta_underlying_causal(policies, M, R, kind=\"gauss\")\n",
    "\n",
    "D = assign_treatments(n1_alloc)\n",
    "\n",
    "sigma_noise = 5\n",
    "outcome_seed = 53\n",
    "\n",
    "y = generate_outcomes(D=D, beta=beta, sigma_noise=sigma_noise, random_seed=outcome_seed)"
   ],
   "id": "193da5cfc81258b5",
   "outputs": [],
   "execution_count": 5
  },
  {
   "metadata": {},
   "cell_type": "markdown",
   "source": "### 2. Construct first-wave RPS",
   "id": "d65ec763ab104f39"
  },
  {
   "metadata": {
    "ExecuteTime": {
     "end_time": "2025-07-07T19:52:42.923024Z",
     "start_time": "2025-07-07T19:52:42.915223Z"
    }
   },
   "cell_type": "code",
   "source": [
    "lambda_r = 0.01\n",
    "eps = 0.05\n",
    "verbose = True"
   ],
   "id": "bf3efc3328c7bf10",
   "outputs": [],
   "execution_count": 6
  },
  {
   "metadata": {
    "ExecuteTime": {
     "end_time": "2025-07-07T19:52:49.094648Z",
     "start_time": "2025-07-07T19:52:49.036916Z"
    }
   },
   "cell_type": "code",
   "source": [
    "R_set, R_profiles, theta_global, policies, profiles, profile_to_policies, profile_to_indices, nonempty_profile_ids = construct_RPS(policies, M, R, D, y, H, eps, lambda_r, verbose=False)\n",
    "\n",
    "print(f\"RPS has: {len(R_set)} feasible partitions over {len(R_profiles)} observed profiles.\")"
   ],
   "id": "1749e681207bae85",
   "outputs": [
    {
     "name": "stdout",
     "output_type": "stream",
     "text": [
      "RPS has: 57 feasible partitions over 14 observed profiles.\n"
     ]
    }
   ],
   "execution_count": 7
  },
  {
   "metadata": {},
   "cell_type": "markdown",
   "source": "### 3. Next-wave allocation and simulation",
   "id": "e216bc08a51b126c"
  },
  {
   "metadata": {
    "ExecuteTime": {
     "end_time": "2025-06-30T20:26:55.693623Z",
     "start_time": "2025-06-30T20:26:55.691304Z"
    }
   },
   "cell_type": "code",
   "source": [
    "# n2 = 500\n",
    "#\n",
    "# boundary_probs_2 = compute_wave_boundary_probs(R_set, R_profiles, policies, profiles, profile_to_policies, profile_to_indices, nonempty_profile_ids)\n",
    "#\n",
    "# alloc2 = allocate_wave(boundary_probs_2, n2)\n",
    "# D2 = assign_treatments(alloc2)\n",
    "# y2 = generate_outcomes(D=D2, beta=beta, sigma_noise=sigma_noise, random_seed=55)\n",
    "# D = np.vstack([D1, D2])\n",
    "# y = np.concatenate([y1, y2])"
   ],
   "id": "3542cb980c3cfd85",
   "outputs": [],
   "execution_count": 5
  },
  {
   "metadata": {
    "ExecuteTime": {
     "end_time": "2025-07-07T19:54:48.022961Z",
     "start_time": "2025-07-07T19:54:47.903036Z"
    }
   },
   "cell_type": "code",
   "source": [
    "num_waves = 2\n",
    "n_per_wave = [500, 500] # includes first wave\n",
    "\n",
    "for wave in range(2, num_waves+1):\n",
    "    print(f\"--- Wave {wave}: allocation, simulation, RPS update ---\")\n",
    "\n",
    "    # get boundary probabilities\n",
    "    boundary_probs = compute_wave_boundary_probs(\n",
    "        R_set, R_profiles, policies, profiles, profile_to_policies, profile_to_indices, nonempty_profile_ids\n",
    "    )\n",
    "\n",
    "    # allocate number of observations to each policy\n",
    "    alloc = allocate_wave(boundary_probs, n_per_wave[wave-1])\n",
    "\n",
    "    # give each observation its policy number\n",
    "    D_wave = assign_treatments(alloc)\n",
    "\n",
    "    # simulate outcomes\n",
    "    y_wave = generate_outcomes(D=D_wave, beta=beta, sigma_noise=sigma_noise, random_seed=1 + wave)\n",
    "\n",
    "\n",
    "    # Ensure everything is 1D first\n",
    "    D = D.reshape(-1)\n",
    "    D_wave = D_wave.reshape(-1)\n",
    "    y = y.reshape(-1)\n",
    "    y_wave = y_wave.reshape(-1)\n",
    "\n",
    "    # Concatenate\n",
    "    D = np.concatenate([D, D_wave])\n",
    "    y = np.concatenate([y, y_wave])\n",
    "\n",
    "    # Recompute RPS after new data\n",
    "    R_set, R_profiles, theta_global, policies, profiles, profile_to_policies, profile_to_indices, nonempty_profile_ids = construct_RPS(\n",
    "        policies, M, R, D, y, H, eps, lambda_r, verbose=False\n",
    "    )\n",
    "    # TODO check the recalculation of theta each time\n",
    "\n",
    "    print(f\"After wave {wave}: RPS has: {len(R_set)} feasible partitions over {len(R_profiles)} observed profiles.\")"
   ],
   "id": "ff94627c8ac1d262",
   "outputs": [
    {
     "name": "stdout",
     "output_type": "stream",
     "text": [
      "--- Wave 2: allocation, simulation, RPS update ---\n",
      "After wave 2: RPS has: 191 feasible partitions over 14 observed profiles.\n"
     ]
    }
   ],
   "execution_count": 8
  },
  {
   "metadata": {},
   "cell_type": "markdown",
   "source": "### 4. Get final RPS predictions\n",
   "id": "cb98e1a00c0b0876"
  },
  {
   "metadata": {
    "ExecuteTime": {
     "end_time": "2025-06-30T20:26:56.210385Z",
     "start_time": "2025-06-30T20:26:56.206727Z"
    }
   },
   "cell_type": "code",
   "source": [
    "from rashomon.loss import compute_policy_means, compute_pool_means\n",
    "from rashomon.metrics import make_predictions\n",
    "from rashomon.extract_pools import extract_pools"
   ],
   "id": "16735baba5bcb94f",
   "outputs": [],
   "execution_count": 7
  },
  {
   "metadata": {},
   "cell_type": "markdown",
   "source": "#### 4.1. Get MAP partition from RPS",
   "id": "913e1ed85b3d8886"
  },
  {
   "metadata": {
    "ExecuteTime": {
     "end_time": "2025-06-30T20:26:57.981806Z",
     "start_time": "2025-06-30T20:26:57.974136Z"
    }
   },
   "cell_type": "code",
   "source": [
    "# find the MAP partition from RPS\n",
    "all_losses = []\n",
    "for r_set in R_set:\n",
    "    loss_r = 0.0\n",
    "    for k, idx in enumerate(r_set):\n",
    "        if R_profiles[k] is not None:\n",
    "            loss_r += R_profiles[k].loss[idx]\n",
    "    all_losses.append(loss_r)\n",
    "all_losses = np.array(all_losses)\n",
    "MAP_idx = np.argmin(all_losses)\n",
    "MAP_r_set = R_set[MAP_idx]\n",
    "print(f\"MAP partition index: {MAP_idx}, loss: {all_losses[MAP_idx]:.4f}\")"
   ],
   "id": "2dc7fe73d2b2c854",
   "outputs": [
    {
     "name": "stdout",
     "output_type": "stream",
     "text": [
      "MAP partition index: 94, loss: 26.0773\n"
     ]
    }
   ],
   "execution_count": 8
  },
  {
   "metadata": {},
   "cell_type": "markdown",
   "source": "#### Policy means, pool means, and predictions",
   "id": "190c2ba1bbb86b5"
  },
  {
   "metadata": {},
   "cell_type": "markdown",
   "source": "We now get the policy means, pool means, and predictions. We again have to remap the local/global indices as done in our RPS construction (or the original rashomon tutorial).",
   "id": "66d1017514782606"
  },
  {
   "metadata": {
    "ExecuteTime": {
     "end_time": "2025-06-30T20:26:59.318872Z",
     "start_time": "2025-06-30T20:26:59.310434Z"
    }
   },
   "cell_type": "code",
   "source": [
    "K = len(policies)\n",
    "pi_policies_MAP = np.full(K, -1, dtype=int)  # initialize all as unassigned\n",
    "\n",
    "for k, rp in enumerate(R_profiles):\n",
    "    profile_id = nonempty_profile_ids[k]\n",
    "    profile_mask = np.array(profiles[profile_id], dtype=bool)\n",
    "\n",
    "    # Remap local policies as done in RPS construction\n",
    "    local_policies = [tuple(np.array(p)[profile_mask]) for p in profile_to_policies[profile_id]]\n",
    "    if len(local_policies) == 0:\n",
    "        continue  # skip empty\n",
    "    arr = np.array(local_policies)\n",
    "    for j in range(arr.shape[1]):\n",
    "        _, arr[:, j] = np.unique(arr[:, j], return_inverse=True)\n",
    "    local_policies_remap = [tuple(row) for row in arr]\n",
    "\n",
    "    sigma = rp.sigma[MAP_r_set[k]]\n",
    "    _, pi_policies_local = extract_pools(local_policies_remap, sigma)\n",
    "\n",
    "    # Map back to global indices\n",
    "    for local_idx, global_idx in enumerate(profile_to_indices[profile_id]):\n",
    "        pi_policies_MAP[global_idx] = pi_policies_local[local_idx]\n",
    "\n",
    "# Now get the set of pools from these assignments\n",
    "pool_ids = np.unique(pi_policies_MAP[pi_policies_MAP != -1])\n",
    "pi_pools_MAP = {pool_id: np.where(pi_policies_MAP == pool_id)[0].tolist() for pool_id in pool_ids}\n",
    "\n",
    "n_pools = len(pi_pools_MAP)\n",
    "print(f\"Final pools in MAP partition: {n_pools}\")\n",
    "\n",
    "# Compute policy means, pool means, predictions\n",
    "y = y.reshape(-1, 1)\n",
    "D = D.reshape(-1, 1)\n",
    "policy_means = compute_policy_means(D, y, len(policies))\n",
    "pool_means = compute_pool_means(policy_means, pi_pools_MAP)\n",
    "y_pred = make_predictions(D, pi_policies_MAP, pool_means)"
   ],
   "id": "3ad1da008d29968",
   "outputs": [
    {
     "name": "stdout",
     "output_type": "stream",
     "text": [
      "Final pools in MAP partition: 12\n"
     ]
    }
   ],
   "execution_count": 9
  },
  {
   "metadata": {},
   "cell_type": "code",
   "outputs": [],
   "execution_count": null,
   "source": "",
   "id": "a603b91a03d37625"
  }
 ],
 "metadata": {
  "kernelspec": {
   "display_name": "Python 3",
   "language": "python",
   "name": "python3"
  },
  "language_info": {
   "codemirror_mode": {
    "name": "ipython",
    "version": 2
   },
   "file_extension": ".py",
   "mimetype": "text/x-python",
   "name": "python",
   "nbconvert_exporter": "python",
   "pygments_lexer": "ipython2",
   "version": "2.7.6"
  }
 },
 "nbformat": 4,
 "nbformat_minor": 5
}
