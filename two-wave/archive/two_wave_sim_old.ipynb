{
 "cells": [
  {
   "metadata": {},
   "cell_type": "markdown",
   "source": "# Two-wave RPS Algorithm Walk-Through",
   "id": "3821486d2362d731"
  },
  {
   "metadata": {
    "ExecuteTime": {
     "end_time": "2025-07-08T03:32:24.339039Z",
     "start_time": "2025-07-08T03:32:24.280268Z"
    }
   },
   "cell_type": "code",
   "source": [
    "import numpy as np\n",
    "from rashomon.hasse import enumerate_policies\n",
    "import allocation\n",
    "from data_gen import generate_outcomes"
   ],
   "id": "5242302164f6663e",
   "outputs": [],
   "execution_count": 31
  },
  {
   "metadata": {},
   "cell_type": "markdown",
   "source": "## 1. First-wave allocation",
   "id": "df6535a12f16459b"
  },
  {
   "metadata": {
    "ExecuteTime": {
     "end_time": "2025-07-08T00:06:10.527887Z",
     "start_time": "2025-07-08T00:06:10.524751Z"
    }
   },
   "cell_type": "code",
   "source": [
    "M = 3\n",
    "R = [4,3,3]\n",
    "H = 12  # sparsity parameter\n",
    "n1 = 100  # total first‐wave sample size"
   ],
   "id": "4a09643623ab4e71",
   "outputs": [],
   "execution_count": 2
  },
  {
   "metadata": {
    "ExecuteTime": {
     "end_time": "2025-07-08T00:06:10.994150Z",
     "start_time": "2025-07-08T00:06:10.988576Z"
    }
   },
   "cell_type": "code",
   "source": [
    "R_vec = np.full(M, R) if np.isscalar(R) else np.array(R) # allow for heterogeneity in levels\n",
    "assert R_vec.shape == (M,)\n",
    "policies = np.array(enumerate_policies(M, R))"
   ],
   "id": "193da5cfc81258b5",
   "outputs": [],
   "execution_count": 3
  },
  {
   "metadata": {
    "ExecuteTime": {
     "end_time": "2025-07-08T00:06:11.725518Z",
     "start_time": "2025-07-08T00:06:11.721444Z"
    }
   },
   "cell_type": "code",
   "source": [
    "K = len(policies)\n",
    "print(f\"Found K = {K} policies (each policy is an {M}-tuple).\")"
   ],
   "id": "60b17ffb539766c5",
   "outputs": [
    {
     "name": "stdout",
     "output_type": "stream",
     "text": [
      "Found K = 36 policies (each policy is an 3-tuple).\n"
     ]
    }
   ],
   "execution_count": 4
  },
  {
   "metadata": {},
   "cell_type": "markdown",
   "source": "### 1.1. Compute initial boundary probabilities",
   "id": "efa1b9357e39e38f"
  },
  {
   "metadata": {
    "ExecuteTime": {
     "end_time": "2025-07-08T00:06:13.501622Z",
     "start_time": "2025-07-08T00:06:13.496127Z"
    }
   },
   "cell_type": "code",
   "source": [
    "# MODULAR version: boundary_probs_1 = allocation.compute_initial_boundary_probs(policies, R, H)\n",
    "\n",
    "K = len(policies)\n",
    "if np.isscalar(R):\n",
    "    R_arr = np.array([R] * M, dtype=int)\n",
    "else:\n",
    "    R_arr = np.array(R, dtype=int)\n",
    "    if R_arr.size != M:\n",
    "        raise ValueError(f\"R must be an int or list/array of length M={M}, instead got size {R_arr.size}.\")\n",
    "\n",
    "boundary_probs_1 = np.zeros(K, dtype=float)\n",
    "for idx in range(K):\n",
    "    v = policies[idx]\n",
    "\n",
    "    M = len(v)\n",
    "    # from formula in paper\n",
    "    term = 1.0\n",
    "    for i in range(M):\n",
    "        R_i = R_arr[i]\n",
    "        ratio = 2 * min(int(v[i]), R_i - 1 - int(v[i])) / (R_i - 1)\n",
    "        term *= (1 - ratio) ** (H - 1)\n",
    "    boundary_probs_1[idx] = 1 - term"
   ],
   "id": "6dcc0a9d2d342815",
   "outputs": [],
   "execution_count": 5
  },
  {
   "metadata": {},
   "cell_type": "markdown",
   "source": "### 1.2 Allocate observations to policies",
   "id": "7ccef72dcd7d8a05"
  },
  {
   "metadata": {
    "ExecuteTime": {
     "end_time": "2025-07-08T00:07:40.877736Z",
     "start_time": "2025-07-08T00:07:40.866506Z"
    }
   },
   "cell_type": "code",
   "source": [
    "# MODULAR version: n1_alloc = allocation.allocate_wave(boundary_probs_1, n1)\n",
    "\n",
    "total_prob = boundary_probs_1.sum()\n",
    "if total_prob == 0:\n",
    "    raise ValueError(\"Sum of boundary probabilities is zero. Check H or R.\")\n",
    "normalized = boundary_probs_1 / total_prob\n",
    "\n",
    "# get direct allocation (could be fractional)\n",
    "dir_alloc = normalized * n1\n",
    "\n",
    "# floor to integers\n",
    "n1_alloc = np.floor(dir_alloc).astype(int)\n",
    "remainder = dir_alloc - n1_alloc\n",
    "shortage = n1 - int(n1_alloc.sum())\n",
    "\n",
    "# distribute the remaining samples to the largest remainders\n",
    "if shortage > 0:\n",
    "    idx_sorted = np.argsort(remainder)\n",
    "    top_indices = idx_sorted[-shortage:]\n",
    "    n1_alloc[top_indices] += 1\n",
    "\n",
    "print(f\"First‐wave allocation sums to {int(n1_alloc.sum())} (should be {n1}).\")"
   ],
   "id": "b785eae3a2e97097",
   "outputs": [
    {
     "name": "stdout",
     "output_type": "stream",
     "text": [
      "First‐wave allocation sums to 100 (should be 100).\n"
     ]
    }
   ],
   "execution_count": 6
  },
  {
   "metadata": {},
   "cell_type": "markdown",
   "source": "## 2. Simulating first-wave outcomes",
   "id": "db2cf32df91f077f"
  },
  {
   "metadata": {},
   "cell_type": "markdown",
   "source": "### 2.1. Get underlying true outcomes for each policy",
   "id": "40b27de7369e0a89"
  },
  {
   "metadata": {},
   "cell_type": "markdown",
   "source": [
    "We generate a np.array `beta` of true effects for each node. We pass our lattice `policies`, `M` and `R`, and then specify a `kind` of underlying causal model.\n",
    "\n",
    "There are a range of options, all of which are continuous and non-trivial: they exhibit locally correlated effects and avoid brittle cancellations in effects. The options range from simple (polynomial, gaussian, basic interaction) to complex (radial basis function, mimic of a simple neural-net-like function)"
   ],
   "id": "783d2bf35aa2605f"
  },
  {
   "metadata": {
    "ExecuteTime": {
     "end_time": "2025-07-08T00:10:01.114724Z",
     "start_time": "2025-07-08T00:10:01.105397Z"
    }
   },
   "cell_type": "code",
   "source": [
    "# beta = get_beta_underlying_causal(policies, M, R, kind=\"gauss\")\n",
    "def phi(policy):\n",
    "    \"\"\"Ground truth function (edit as needed for your scenario).\"\"\"\n",
    "    x = np.array(policy)\n",
    "    return 2 * x[0] + 0.5 * x[1]**2 + x[0]*x[2] + 0.2 * x[1] * x[2]\n",
    "beta = np.array([phi(p) for p in policies])"
   ],
   "id": "37f3b09738cfdc4e",
   "outputs": [],
   "execution_count": 8
  },
  {
   "metadata": {},
   "cell_type": "markdown",
   "source": "We do not, as we did previously in the original Rashomon module, use a different distribution for each true pool from a random 'true' partition sigma_true. This is not used in this simulation due to our specifications on the underlying causal model (e.g. continuous, locally correlated effects, etc), but we nevertheless include first-pass code at generating a true partition and getting a piecewise beta if we did wish to include it.\n",
   "id": "b868d319dd663f4b"
  },
  {
   "metadata": {
    "ExecuteTime": {
     "end_time": "2025-07-08T00:10:02.726388Z",
     "start_time": "2025-07-08T00:10:02.720682Z"
    }
   },
   "cell_type": "code",
   "source": [
    "# partition_seed = 123\n",
    "# sigma_true, pi_pools_true, pi_policies_true = generate_true_partition(policies, R,random_seed=partition_seed)\n",
    "# beta = get_beta_piecewise(policies, sigma_true, pi_pools_true, pi_policies_true, 0.5, 1, 10)"
   ],
   "id": "c0124dca96a59a16",
   "outputs": [],
   "execution_count": 9
  },
  {
   "metadata": {},
   "cell_type": "markdown",
   "source": "### 2.2. Get simulated outcomes",
   "id": "2da35411df714784"
  },
  {
   "metadata": {},
   "cell_type": "markdown",
   "source": "We now track the first-wave assignment and generate the outcomes with additional noise",
   "id": "96414d2d89e71d3c"
  },
  {
   "metadata": {
    "ExecuteTime": {
     "end_time": "2025-07-08T00:10:03.808260Z",
     "start_time": "2025-07-08T00:10:03.804977Z"
    }
   },
   "cell_type": "code",
   "source": [
    "# MODULAR version: D1 = allocation.assign_treatments(n1_alloc)\n",
    "\n",
    "total = int(n1_alloc.sum())\n",
    "D1 = np.zeros(total, dtype=int)\n",
    "pos = 0\n",
    "for idx, count in enumerate(n1_alloc):\n",
    "    if count > 0:\n",
    "        D1[pos : pos + count] = idx\n",
    "        pos += count\n",
    "\n",
    "print(\"D shape:\", D1.shape)"
   ],
   "id": "4cb7d7c5a1785390",
   "outputs": [
    {
     "name": "stdout",
     "output_type": "stream",
     "text": [
      "D shape: (100,)\n"
     ]
    }
   ],
   "execution_count": 10
  },
  {
   "metadata": {
    "ExecuteTime": {
     "end_time": "2025-07-08T00:10:29.826256Z",
     "start_time": "2025-07-08T00:10:29.814841Z"
    }
   },
   "cell_type": "code",
   "source": [
    "# generate outcomes y1\n",
    "sigma_noise = 5\n",
    "outcome_seed = 53\n",
    "y1 = generate_outcomes(D=D1, beta=beta, sigma_noise=sigma_noise, random_seed=outcome_seed)\n",
    "print(\"Overall mean outcome:\", np.mean(y1))\n",
    "print(\"Overall std outcome:\", np.std(y1))"
   ],
   "id": "a9a34a6d63a9e449",
   "outputs": [
    {
     "name": "stdout",
     "output_type": "stream",
     "text": [
      "Overall mean outcome: 5.5550266752544255\n",
      "Overall std outcome: 5.898318566561542\n"
     ]
    }
   ],
   "execution_count": 11
  },
  {
   "metadata": {},
   "cell_type": "markdown",
   "source": "## 3. Construct the RPS",
   "id": "d65ec763ab104f39"
  },
  {
   "metadata": {
    "ExecuteTime": {
     "end_time": "2025-07-08T00:10:32.367983Z",
     "start_time": "2025-07-08T00:10:32.062163Z"
    }
   },
   "cell_type": "code",
   "source": [
    "import numpy as np\n",
    "from rashomon.hasse import enumerate_profiles, policy_to_profile\n",
    "from rashomon.aggregate import (\n",
    "    RAggregate_profile,\n",
    "    subset_data,\n",
    "    find_profile_lower_bound,\n",
    ")\n",
    "from rashomon import loss"
   ],
   "id": "6dbeb16e2bb5cc0f",
   "outputs": [],
   "execution_count": 12
  },
  {
   "metadata": {
    "ExecuteTime": {
     "end_time": "2025-07-08T00:10:33.709465Z",
     "start_time": "2025-07-08T00:10:33.706132Z"
    }
   },
   "cell_type": "code",
   "source": [
    "lambda_r = 0.01\n",
    "eps = 0.05 # chosen tolerance\n",
    "verbose = True"
   ],
   "id": "bf3efc3328c7bf10",
   "outputs": [],
   "execution_count": 13
  },
  {
   "metadata": {},
   "cell_type": "markdown",
   "source": [
    "### 3.1. Mapping profiles\n",
    "\n",
    "We build a map between profiles and policies to observe which profiles contain data and which are as yet unobserved."
   ],
   "id": "79d14a9611edccf9"
  },
  {
   "metadata": {
    "ExecuteTime": {
     "end_time": "2025-07-08T00:10:34.873549Z",
     "start_time": "2025-07-08T00:10:34.866159Z"
    }
   },
   "cell_type": "code",
   "source": [
    "N = len(D1)\n",
    "M = len(policies[0])\n",
    "\n",
    "# Build profiles and maps between policies\n",
    "profiles, profile_map = enumerate_profiles(M)\n",
    "profile_to_policies = {k: [] for k in range(len(profiles))}\n",
    "profile_to_indices = {k: [] for k in range(len(profiles))}\n",
    "for i, pol in enumerate(policies):\n",
    "    pid = profile_map[policy_to_profile(pol)]\n",
    "    profile_to_policies[pid].append(pol)\n",
    "    profile_to_indices[pid].append(i)"
   ],
   "id": "1749e681207bae85",
   "outputs": [],
   "execution_count": 14
  },
  {
   "metadata": {},
   "cell_type": "markdown",
   "source": "### 3.2. Find losses and get threshold theta",
   "id": "e4072950f741e8c3"
  },
  {
   "metadata": {},
   "cell_type": "markdown",
   "source": "We then find the lower bound losses for each profile. We subset the relevant data for the profile, mask and get the corresponding policies, and then compute the policy means to find the profile loss lower bound. We find the best loss overall and calculate the total sum of lower bounds.",
   "id": "e2d1abf7b35c14bf"
  },
  {
   "metadata": {
    "ExecuteTime": {
     "end_time": "2025-07-08T00:10:36.162877Z",
     "start_time": "2025-07-08T00:10:36.149044Z"
    }
   },
   "cell_type": "code",
   "source": [
    "# Get just the profiles and profile_ids with data and track losses\n",
    "valid_pids = []\n",
    "lower_bounds = []\n",
    "for profile_id, profile in enumerate(profiles):\n",
    "    Dk, yk = subset_data(D1, y1, profile_to_indices[profile_id]) # using rashomon.aggregate, get correct subset of data\n",
    "    if Dk is None:\n",
    "        continue\n",
    "    mask = np.array(profile, dtype=bool)\n",
    "    # corresponding policies for this profile id\n",
    "    reduced_policies = [tuple(np.array(p)[mask]) for p in profile_to_policies[profile_id]]\n",
    "\n",
    "    # get losses and track lower bounds\n",
    "    pm = loss.compute_policy_means(Dk, yk, len(reduced_policies))\n",
    "    profile_lb = find_profile_lower_bound(Dk, yk, pm)\n",
    "    lower_bounds.append(profile_lb / N)\n",
    "    valid_pids.append(profile_id)SD\n",
    "\n",
    "lower_bounds = np.array(lower_bounds)\n",
    "best_loss = lower_bounds.min()\n",
    "print(f\"best_loss = {best_loss:.5f}\")\n",
    "lower_bounds = np.array(lower_bounds)\n",
    "total_lb = lower_bounds.sum()"
   ],
   "id": "6eec71b727a66623",
   "outputs": [
    {
     "name": "stdout",
     "output_type": "stream",
     "text": [
      "best_loss = 0.68255\n"
     ]
    }
   ],
   "execution_count": 15
  },
  {
   "metadata": {
    "ExecuteTime": {
     "end_time": "2025-07-08T00:10:36.739671Z",
     "start_time": "2025-07-08T00:10:36.737477Z"
    }
   },
   "cell_type": "code",
   "source": [
    "# calculate rashomon threshold\n",
    "theta_global = total_lb * (1 + eps) # get loss threshold in absolute reference to sum of lower bounds\n",
    "if verbose:\n",
    "    print(f\"theta_global = {theta_global:.5f} from sum of lower bounds {total_lb:.5f}\")"
   ],
   "id": "beff4c16f6f47792",
   "outputs": [
    {
     "name": "stdout",
     "output_type": "stream",
     "text": [
      "theta_global = 20.12003 from sum of lower bounds 19.16194\n"
     ]
    }
   ],
   "execution_count": 16
  },
  {
   "metadata": {},
   "cell_type": "markdown",
   "source": "### 3.3. Construct the RPS for each profile",
   "id": "9513341e613d6d4d"
  },
  {
   "metadata": {
    "ExecuteTime": {
     "end_time": "2025-07-08T00:10:39.137264Z",
     "start_time": "2025-07-08T00:10:39.120451Z"
    }
   },
   "cell_type": "code",
   "source": [
    "R_profiles = []\n",
    "nonempty_profile_ids = []\n",
    "for i, profile_id in enumerate(valid_pids):\n",
    "    profile_mask = np.array(profiles[profile_id], dtype=bool)\n",
    "    M_k = profile_mask.sum()\n",
    "\n",
    "    # Compute reduced policies using only active features for this profile\n",
    "    reduced_policies = [tuple(np.array(p)[profile_mask]) for p in profile_to_policies[profile_id]]\n",
    "\n",
    "    # Compute number of levels for each local (profile) feature\n",
    "    R_k = np.array([len(set([p[feat] for p in reduced_policies])) for feat in range(M_k)])\n",
    "\n",
    "    # Remap each feature in reduced_policies to contiguous 0-based values\n",
    "    reduced_policies_arr = np.array(reduced_policies)\n",
    "    for j in range(reduced_policies_arr.shape[1]):\n",
    "        _, reduced_policies_arr[:, j] = np.unique(reduced_policies_arr[:, j], return_inverse=True)\n",
    "    reduced_policies = [tuple(row) for row in reduced_policies_arr]\n",
    "    R_k = np.array([len(np.unique(reduced_policies_arr[:, j])) for j in range(M_k)])\n",
    "\n",
    "    # Value-mapping-based subsetting and remapping\n",
    "    # This gives Dk (local indices) and yk (outcomes)\n",
    "    policy_indices_this_profile = profile_to_indices[profile_id]\n",
    "    mask = np.isin(D1, policy_indices_this_profile)\n",
    "    Dk = D1[mask]\n",
    "    yk = y1[mask]\n",
    "\n",
    "    # Now remap Dk from global policy indices to local indices in reduced_policies\n",
    "    Dk = np.asarray(Dk).reshape(-1)\n",
    "    policy_map = {idx: j for j, idx in enumerate(policy_indices_this_profile)}\n",
    "    assert all(ix in policy_map for ix in Dk), f\"Found Dk values not in mapping for profile {profile_id}\"\n",
    "    Dk_local = np.vectorize(policy_map.get)(Dk)      # map to local indices, shape (n,)\n",
    "    assert yk.shape[0] == Dk_local.shape[0], \"Dk_local and yk must have the same length\"\n",
    "\n",
    "    # Need to have Dk as a 1D array for the loss functions\n",
    "    # Compute policy means with local indices\n",
    "    pm = loss.compute_policy_means(Dk_local, yk, len(reduced_policies))\n",
    "    assert pm.shape[0] == len(reduced_policies), \"policy_means length mismatch\"\n",
    "\n",
    "    # get profile threshold\n",
    "    theta_k = max(0.0, theta_global - (total_lb - lower_bounds[i]))\n",
    "\n",
    "    # Need to reshape np array because the RAggregate_profile expects shape (n,1)\n",
    "    Dk_local = Dk_local.reshape(-1, 1)\n",
    "    yk = yk.reshape(-1, 1)\n",
    "    # get rashomon set for each profile\n",
    "    rashomon_profile = RAggregate_profile(\n",
    "        M=M_k,\n",
    "        R=R_k,\n",
    "        H=H,\n",
    "        D=Dk_local,  # Already local indices\n",
    "        y=yk,\n",
    "        theta=theta_k,\n",
    "        profile=tuple(profiles[profile_id]),\n",
    "        reg=lambda_r,\n",
    "        policies=reduced_policies,\n",
    "        policy_means=pm,\n",
    "        normalize=N\n",
    "    )\n",
    "\n",
    "    # calculate losses for non-empty profiles and add to list of profiles\n",
    "    Dk = np.asarray(Dk).reshape(-1) # loss functions again want a 1d array for D, but keep y 2d\n",
    "    if len(rashomon_profile) > 0:\n",
    "        rashomon_profile.calculate_loss(Dk_local, yk, reduced_policies, pm, lambda_r, normalize=N)\n",
    "        R_profiles.append(rashomon_profile)\n",
    "        nonempty_profile_ids.append(profile_id)\n",
    "    if verbose:\n",
    "        print(f\"Profile {profile_id}: M_k={M_k}, #policies={len(reduced_policies)}, theta_k={theta_k:.5f}, RPS size={len(rashomon_profile)}\")"
   ],
   "id": "18ba919ee77399d0",
   "outputs": [
    {
     "name": "stdout",
     "output_type": "stream",
     "text": [
      "Profile 1: M_k=1, #policies=2, theta_k=2.34215, RPS size=1\n",
      "Profile 2: M_k=1, #policies=2, theta_k=2.50604, RPS size=1\n",
      "Profile 3: M_k=2, #policies=4, theta_k=5.30727, RPS size=1\n",
      "Profile 4: M_k=1, #policies=3, theta_k=1.64065, RPS size=1\n",
      "Profile 5: M_k=2, #policies=6, theta_k=2.83749, RPS size=2\n",
      "Profile 6: M_k=2, #policies=6, theta_k=3.59373, RPS size=2\n",
      "Profile 7: M_k=3, #policies=12, theta_k=7.64129, RPS size=2\n"
     ]
    }
   ],
   "execution_count": 17
  },
  {
   "metadata": {
    "ExecuteTime": {
     "end_time": "2025-07-08T00:10:51.042045Z",
     "start_time": "2025-07-08T00:10:51.033479Z"
    }
   },
   "cell_type": "code",
   "source": [
    "# if none of the profiles have a rashomon set, observed RPS is empty\n",
    "if len(R_profiles) == 0:\n",
    "    if verbose:\n",
    "        print(\"No profiles have feasible Rashomon sets; global RPS is empty.\")"
   ],
   "id": "aebb5f736b7a1180",
   "outputs": [],
   "execution_count": 18
  },
  {
   "metadata": {
    "ExecuteTime": {
     "end_time": "2025-07-08T00:10:51.385922Z",
     "start_time": "2025-07-08T00:10:51.378557Z"
    }
   },
   "cell_type": "code",
   "source": [
    "excluded_profiles = [profile_id for profile_id in valid_pids if profile_id not in nonempty_profile_ids]\n",
    "if verbose:\n",
    "    if len(excluded_profiles) > 0:\n",
    "        print(f\"Skipped profile number due to empty Rashomon set: {excluded_profiles}\")\n",
    "    else:\n",
    "        print(\"All profiles with data have non-empty Rashomon sets.\")"
   ],
   "id": "f3545a0db14eaccc",
   "outputs": [
    {
     "name": "stdout",
     "output_type": "stream",
     "text": [
      "All profiles with data have non-empty Rashomon sets.\n"
     ]
    }
   ],
   "execution_count": 19
  },
  {
   "metadata": {
    "ExecuteTime": {
     "end_time": "2025-07-08T00:10:53.111780Z",
     "start_time": "2025-07-08T00:10:53.107592Z"
    }
   },
   "cell_type": "code",
   "source": [
    "# Visual check on losses\n",
    "for idx, rp in enumerate(R_profiles):\n",
    "    losses = np.array(rp.loss)\n",
    "    print(f\"Profile {nonempty_profile_ids[idx]}: min loss = {losses.min():.4f}, max loss = {losses.max():.4f}\")"
   ],
   "id": "fd0a5c87c5b0480b",
   "outputs": [
    {
     "name": "stdout",
     "output_type": "stream",
     "text": [
      "Profile 1: min loss = 1.4041, max loss = 1.4041\n",
      "Profile 2: min loss = 1.5679, max loss = 1.5679\n",
      "Profile 3: min loss = 4.3892, max loss = 4.3892\n",
      "Profile 4: min loss = 0.7126, max loss = 0.7126\n",
      "Profile 5: min loss = 1.9394, max loss = 5.0033\n",
      "Profile 6: min loss = 2.6956, max loss = 4.2876\n",
      "Profile 7: min loss = 6.8032, max loss = 8.9012\n"
     ]
    }
   ],
   "execution_count": 20
  },
  {
   "metadata": {},
   "cell_type": "markdown",
   "source": "### 3.4. Construct full RPS across all observed profiles",
   "id": "880994568701a873"
  },
  {
   "metadata": {
    "ExecuteTime": {
     "end_time": "2025-07-08T00:12:33.595279Z",
     "start_time": "2025-07-08T00:12:33.584228Z"
    }
   },
   "cell_type": "code",
   "source": [
    "# Assemble observed RPS via find_feasible_combinations from RAggregate\n",
    "from rashomon.aggregate import find_feasible_combinations\n",
    "R_set = find_feasible_combinations(R_profiles, 30, H)\n",
    "if verbose:\n",
    "    print(f\"RPS has: {len(R_set)} feasible partitions over {len(R_profiles)} observed profiles.\")"
   ],
   "id": "863353d88dea3fe5",
   "outputs": [
    {
     "name": "stdout",
     "output_type": "stream",
     "text": [
      "RPS has: 8 feasible partitions over 7 observed profiles.\n"
     ]
    }
   ],
   "execution_count": 23
  },
  {
   "metadata": {},
   "cell_type": "markdown",
   "source": "We note that directly constructing the RPS from the original Rashomon module does not work here. In particular, not all profiles necessarily have observations, and the original module return an empty RPS in that case. In particular, we need to correctly subset and mask the profiles, compute loss, and track indices, each of which have slightly different assumptions in the original module.",
   "id": "550fb5a98dfcbeb8"
  },
  {
   "metadata": {},
   "cell_type": "markdown",
   "source": "## 5. Second-wave allocation",
   "id": "e216bc08a51b126c"
  },
  {
   "metadata": {},
   "cell_type": "markdown",
   "source": "### (5.0.) Quick validity checks from first-wave",
   "id": "56eb57fd15349844"
  },
  {
   "metadata": {
    "ExecuteTime": {
     "end_time": "2025-07-08T00:12:34.733770Z",
     "start_time": "2025-07-08T00:12:34.713127Z"
    }
   },
   "cell_type": "code",
   "source": [
    "print(f\"Number of profiles: {len(profiles)}\")\n",
    "print(f\"Number of R_profiles (number of profiles with data): {len(R_profiles)}\")\n",
    "print(f\"Final RPS size (len(R_set)): {len(R_set)}\")\n",
    "\n",
    "assert len(D1) == len(y1), \"Mismatch: D and y must have same length.\"\n",
    "print(\"CHECKED: Assignment and outcome vectors are same length.\")\n",
    "\n",
    "K, M = np.array(policies).shape\n",
    "assert K > 0 and M > 0, \"Policies array shape invalid.\"\n",
    "print(f\"CHECKED: Lattice has {K} policies of {M} features each.\")\n",
    "\n",
    "assert len(R_profiles) > 0, \"No nonempty profiles in R_profiles!\"\n",
    "assert len(R_set) > 0, \"RPS is empty! No feasible partitions found.\"\n",
    "print(\"CHECKED: All observed profiles are nonempty, and RPS is nonempty.\")\n",
    "\n",
    "for pid, indices in profile_to_indices.items():\n",
    "    assert all(0 <= ix < K for ix in indices), f\"Profile {pid} has out-of-bounds policy indices.\"\n",
    "print(\"CHECKED: All profile_to_indices entries are valid global policy indices.\")\n",
    "\n",
    "for idx, rp in enumerate(R_profiles):\n",
    "    assert hasattr(rp, 'sigma'), f\"R_profile {idx} missing 'sigma'.\"\n",
    "    assert hasattr(rp, 'loss'), f\"R_profile {idx} missing 'loss'.\"\n",
    "    assert len(rp.sigma) == len(rp.loss), f\"R_profile {idx}: sigma/loss length mismatch.\"\n",
    "    assert np.all(np.isfinite(rp.loss)), f\"R_profile {idx}: loss contains NaN or inf.\"\n",
    "print(\"CHECKED: All R_profiles have matching, finite loss and partition arrays.\")\n",
    "\n",
    "if hasattr(R_profiles[0], 'profile'):\n",
    "    for rp in R_profiles:\n",
    "        pid = rp.profile if hasattr(rp, 'profile') else None\n",
    "        if pid is not None:\n",
    "            assert pid in profile_to_indices, f\"R_profile profile id {pid} not in profile_to_indices.\"\n",
    "print(\"CHECKED: All R_profiles have valid profile IDs.\")\n",
    "\n",
    "#--- RPS partition indices in range ---\n",
    "for partition in R_set:\n",
    "    assert all(0 <= idx < len(R_profiles[k].sigma) for k, idx in enumerate(partition)), \\\n",
    "        f\"Partition {partition} has out-of-range index.\"\n",
    "print(\"CHECKED: All RPS partitions refer to valid indices in R_profiles.\")"
   ],
   "id": "3542cb980c3cfd85",
   "outputs": [
    {
     "name": "stdout",
     "output_type": "stream",
     "text": [
      "Number of profiles: 8\n",
      "Number of R_profiles (number of profiles with data): 7\n",
      "Final RPS size (len(R_set)): 8\n",
      "CHECKED: Assignment and outcome vectors are same length.\n",
      "CHECKED: Lattice has 36 policies of 3 features each.\n",
      "CHECKED: All observed profiles are nonempty, and RPS is nonempty.\n",
      "CHECKED: All profile_to_indices entries are valid global policy indices.\n",
      "CHECKED: All R_profiles have matching, finite loss and partition arrays.\n",
      "CHECKED: All R_profiles have valid profile IDs.\n",
      "CHECKED: All RPS partitions refer to valid indices in R_profiles.\n"
     ]
    }
   ],
   "execution_count": 24
  },
  {
   "metadata": {},
   "cell_type": "markdown",
   "source": "### 5.1. Next wave allocation weights",
   "id": "2021f8892e2fd44c"
  },
  {
   "metadata": {
    "ExecuteTime": {
     "end_time": "2025-07-08T00:12:36.718199Z",
     "start_time": "2025-07-08T00:12:36.713272Z"
    }
   },
   "cell_type": "code",
   "source": "from rashomon.extract_pools import lattice_edges, extract_pools",
   "id": "fb7562d9d0fbd867",
   "outputs": [],
   "execution_count": 25
  },
  {
   "metadata": {
    "ExecuteTime": {
     "end_time": "2025-07-08T00:12:37.131682Z",
     "start_time": "2025-07-08T00:12:37.121080Z"
    }
   },
   "cell_type": "code",
   "source": [
    "# precompute all lattice edges\n",
    "lattice_ed = lattice_edges(policies)  # policies holds the full enumerated lattice\n",
    "\n",
    "K = len(policies)\n",
    "boundary_counts = np.zeros(K, float)\n",
    "\n",
    "# compute posterior weights for each RPS partition\n",
    "Q = np.array([\n",
    "    sum(R_profiles[k].loss[part[k]] for k in range(len(R_profiles)))\n",
    "    for part in R_set\n",
    "])\n",
    "post_weights = np.exp(-Q - Q.min())\n",
    "post_weights /= post_weights.sum()"
   ],
   "id": "76354b97999ecc77",
   "outputs": [],
   "execution_count": 26
  },
  {
   "metadata": {
    "ExecuteTime": {
     "end_time": "2025-07-08T00:12:37.613202Z",
     "start_time": "2025-07-08T00:12:37.594992Z"
    }
   },
   "cell_type": "code",
   "source": [
    "for part, w_i in zip(R_set, post_weights):\n",
    "    pi_policies_profiles = {}\n",
    "    for k, rp in enumerate(R_profiles):\n",
    "        profile_id = nonempty_profile_ids[k]\n",
    "        profile_mask = np.array(profiles[profile_id], dtype=bool)\n",
    "\n",
    "        # Mask and remap as in RPS construction\n",
    "        local_policies = [tuple(np.array(p)[profile_mask]) for p in profile_to_policies[profile_id]]\n",
    "        if len(local_policies) == 0:\n",
    "            continue  # skip empty\n",
    "        arr = np.array(local_policies)\n",
    "        for j in range(arr.shape[1]):\n",
    "            _, arr[:, j] = np.unique(arr[:, j], return_inverse=True)\n",
    "        local_policies_remap = [tuple(row) for row in arr]\n",
    "\n",
    "        # Use the same remapped local_policies as when RPS was constructed\n",
    "        sigma = rp.sigma[part[k]]\n",
    "        _, pi_policies_local = extract_pools(local_policies_remap, sigma)\n",
    "\n",
    "        # Map from local index to global index\n",
    "        for local_idx, global_idx in enumerate(profile_to_indices[profile_id]):\n",
    "            pi_policies_profiles[global_idx] = pi_policies_local[local_idx]\n",
    "\n",
    "    # Build full K-vector: -1 for not-in-any-profile\n",
    "    pi_policies = np.full(K, -1, dtype=int)\n",
    "    for global_idx, pool_id in pi_policies_profiles.items():\n",
    "        pi_policies[global_idx] = pool_id\n",
    "\n",
    "    # Only count boundaries between *observed* nodes\n",
    "    for u, v in lattice_ed:\n",
    "        if pi_policies[u] != -1 and pi_policies[v] != -1 and pi_policies[u] != pi_policies[v]:\n",
    "            boundary_counts[u] += w_i\n",
    "            boundary_counts[v] += w_i\n",
    "\n",
    "if boundary_counts.sum() == 0:\n",
    "    raise ValueError(\"No boundaries detected in second-wave allocation. Check RPS content.\")\n",
    "\n",
    "boundary_probs_2 = boundary_counts / boundary_counts.sum()\n",
    "print(f\"Second-wave boundary allocation probabilities sum to {boundary_probs_2.sum():.4f}\")\n",
    "print(f\"Nonzero probabilities: {np.count_nonzero(boundary_probs_2)} of {K} policies.\")"
   ],
   "id": "2332e3d683d833c0",
   "outputs": [
    {
     "name": "stdout",
     "output_type": "stream",
     "text": [
      "Second-wave boundary allocation probabilities sum to 1.0000\n",
      "Nonzero probabilities: 35 of 36 policies.\n"
     ]
    }
   ],
   "execution_count": 27
  },
  {
   "metadata": {},
   "cell_type": "markdown",
   "source": "### 5.2. Allocate and simulate second-wave outcomes",
   "id": "d9c18734529360f5"
  },
  {
   "metadata": {},
   "cell_type": "markdown",
   "source": "We now use the modular versions for concision. See first section for exact code.",
   "id": "6ed2890b1cf25cf6"
  },
  {
   "metadata": {
    "ExecuteTime": {
     "end_time": "2025-07-08T00:12:46.270160Z",
     "start_time": "2025-07-08T00:12:46.263492Z"
    }
   },
   "cell_type": "code",
   "source": [
    "n2 = 500\n",
    "\n",
    "# allocate nodes to each policy and get D2\n",
    "alloc2 = allocation.allocate_wave(boundary_probs_2, n2)\n",
    "assert alloc2.sum() == n2\n",
    "\n",
    "D2 = allocation.assign_treatments(alloc2)"
   ],
   "id": "32e7503cc1049c5",
   "outputs": [],
   "execution_count": 28
  },
  {
   "metadata": {},
   "cell_type": "markdown",
   "source": "We then simulate outcomes, again using our true outcomes.",
   "id": "2aa847ebd0f1db1"
  },
  {
   "metadata": {
    "ExecuteTime": {
     "end_time": "2025-07-08T00:12:46.965636Z",
     "start_time": "2025-07-08T00:12:46.958630Z"
    }
   },
   "cell_type": "code",
   "source": [
    "# still the same beta for the underlying causal function\n",
    "y2 = generate_outcomes(D=D2, beta=beta, sigma_noise=sigma_noise, random_seed=55)"
   ],
   "id": "acd28a52bb73fac2",
   "outputs": [],
   "execution_count": 29
  },
  {
   "metadata": {},
   "cell_type": "markdown",
   "source": "### ... see two_wave_sim.ipynb for final construction of RPS, now using a modular approach",
   "id": "92a22682dd242649"
  }
 ],
 "metadata": {
  "kernelspec": {
   "display_name": "Python 3",
   "language": "python",
   "name": "python3"
  },
  "language_info": {
   "codemirror_mode": {
    "name": "ipython",
    "version": 2
   },
   "file_extension": ".py",
   "mimetype": "text/x-python",
   "name": "python",
   "nbconvert_exporter": "python",
   "pygments_lexer": "ipython2",
   "version": "2.7.6"
  }
 },
 "nbformat": 4,
 "nbformat_minor": 5
}
