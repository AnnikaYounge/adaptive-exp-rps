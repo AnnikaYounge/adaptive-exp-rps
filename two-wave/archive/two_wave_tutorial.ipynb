{
 "cells": [
  {
   "cell_type": "code",
   "id": "initial_id",
   "metadata": {
    "collapsed": true,
    "ExecuteTime": {
     "end_time": "2025-07-11T15:54:51.359322Z",
     "start_time": "2025-07-11T15:54:51.347245Z"
    }
   },
   "source": [
    "import numpy as np\n",
    "from rashomon.hasse import enumerate_policies, enumerate_profiles, policy_to_profile\n",
    "from rashomon.aggregate import RAggregate\n",
    "from rashomon.metrics import find_best_policies\n",
    "from rashomon.extract_pools import lattice_edges, extract_pools, aggregate_pools\n",
    "from rashomon.aggregate import subset_data, find_profile_lower_bound\n",
    "from rashomon.loss import compute_policy_means, compute_pool_means\n",
    "import matplotlib.pyplot as plt\n",
    "from rashomon.metrics import compute_all_metrics, make_predictions\n"
   ],
   "outputs": [],
   "execution_count": 6
  },
  {
   "metadata": {},
   "cell_type": "markdown",
   "source": "# ALGORITHM 1: TWO-WAVE",
   "id": "eb352bebdcd45839"
  },
  {
   "metadata": {},
   "cell_type": "markdown",
   "source": "## 1. Enumerate policies and profiles, build mappings",
   "id": "a5da813b91eb3f7f"
  },
  {
   "metadata": {
    "ExecuteTime": {
     "end_time": "2025-07-11T15:54:51.933773Z",
     "start_time": "2025-07-11T15:54:51.930020Z"
    }
   },
   "cell_type": "code",
   "source": [
    "# ------------------------\n",
    "# 1. ENUMERATE POLICIES AND PROFILES\n",
    "# ------------------------\n",
    "M = 3  # number of features\n",
    "R = np.array([4, 3, 3])  # levels per feature\n",
    "\n",
    "\n",
    "# Enumerate all policies and profiles\n",
    "all_policies = enumerate_policies(M, R)\n",
    "num_policies = len(all_policies)\n",
    "profiles, profile_map = enumerate_profiles(M)\n",
    "num_profiles = len(profiles)\n",
    "\n",
    "# Profile index mappings (always by int index, not tuple)\n",
    "policies_profiles = {}\n",
    "policies_ids_profiles = {}\n",
    "\n",
    "for k, profile in enumerate(profiles):\n",
    "    # Find indices in all_policies whose profile matches this profile\n",
    "    idxs = [i for i, p in enumerate(all_policies) if policy_to_profile(p) == profile]\n",
    "    policies_ids_profiles[k] = idxs\n",
    "    policies_profiles[k] = [all_policies[i] for i in idxs]\n",
    "\n",
    "# Masked policies (remove baseline features for each profile)\n",
    "policies_profiles_masked = {}\n",
    "for k, profile in enumerate(profiles):\n",
    "    profile_mask = [bool(v) for v in profile]\n",
    "    masked_policies = [tuple([pol[i] for i in range(M) if profile_mask[i]]) for pol in policies_profiles[k]]\n",
    "    policies_profiles_masked[k] = masked_policies"
   ],
   "id": "8e80353c771b73f",
   "outputs": [],
   "execution_count": 7
  },
  {
   "metadata": {},
   "cell_type": "markdown",
   "source": "Get a safe value for H.",
   "id": "d3a0b5459a9b3da"
  },
  {
   "metadata": {
    "ExecuteTime": {
     "end_time": "2025-07-11T15:54:52.198423Z",
     "start_time": "2025-07-11T15:54:52.194842Z"
    }
   },
   "cell_type": "code",
   "source": [
    "def get_max_possible_H(policies_profiles):\n",
    "    \"\"\"\n",
    "    Returns robust (pre-allocation) max H across all profiles.\n",
    "    \"\"\"\n",
    "    max_H = max(len(policies) for policies in policies_profiles.values())\n",
    "    profile_H = {k: len(policies) for k, policies in policies_profiles.items()}\n",
    "    return profile_H, max_H\n",
    "\n",
    "# Usage:\n",
    "profile_H, max_H = get_max_possible_H(policies_profiles)\n",
    "print(f\"Profile-wise max pools: {profile_H}\")\n",
    "print(f\"Robust (safe) H for experiment: {robust_H}\")\n",
    "\n",
    "H = max_H # H is our chosen max number of pools per profile\n",
    "lambda_reg = 0.1 # reg parameter\n",
    "epsilon = 0.05"
   ],
   "id": "f5de3b2e2b274da8",
   "outputs": [
    {
     "name": "stdout",
     "output_type": "stream",
     "text": [
      "Profile-wise max pools: {0: 1, 1: 2, 2: 2, 3: 4, 4: 3, 5: 6, 6: 6, 7: 12}\n",
      "Robust (safe) H for experiment: 12\n"
     ]
    }
   ],
   "execution_count": 8
  },
  {
   "metadata": {},
   "cell_type": "markdown",
   "source": "## set up the underlying causal function and get ground truths",
   "id": "9b677569b5194c0c"
  },
  {
   "metadata": {
    "ExecuteTime": {
     "end_time": "2025-07-11T15:54:52.447801Z",
     "start_time": "2025-07-11T15:54:52.445470Z"
    }
   },
   "cell_type": "code",
   "source": [
    "# Define causal function\n",
    "def phi(policy):\n",
    "    \"\"\"Ground truth function (edit as needed for your scenario).\"\"\"\n",
    "    x = np.array(policy)\n",
    "    return 2 * x[0] + 0.5 * x[1]**2 + x[0]*x[2] + 0.2 * x[1] * x[2]"
   ],
   "id": "30f01d63b47db3de",
   "outputs": [],
   "execution_count": 9
  },
  {
   "metadata": {
    "ExecuteTime": {
     "end_time": "2025-07-11T15:54:52.572004Z",
     "start_time": "2025-07-11T15:54:52.566754Z"
    }
   },
   "cell_type": "code",
   "source": [
    "# Vector of ground truth means, in policy-index order\n",
    "oracle_beta = np.array([phi(p) for p in all_policies])\n",
    "\n",
    "# Full rankin g: indices sorted by oracle mean (descending)\n",
    "oracle_full_order = np.argsort(-oracle_beta)  # highest first\n",
    "\n",
    "# Map policy index to oracle rank (1=best)\n",
    "oracle_ranks = np.empty_like(oracle_full_order)\n",
    "oracle_ranks[oracle_full_order] = np.arange(1, len(oracle_beta)+1)\n",
    "\n",
    "# Top-k indices, policies, and values\n",
    "num_top = 10\n",
    "top_k_indices = oracle_full_order[:num_top]\n",
    "top_k_policies = [all_policies[i] for i in top_k_indices]\n",
    "top_k_values = oracle_beta[top_k_indices]\n",
    "\n",
    "for rank, (idx, pol, val) in enumerate(zip(top_k_indices, top_k_policies, top_k_values), 1):\n",
    "    print(f\"Rank {rank}: Index {idx}, Policy {list(map(int, pol))}, Value {val:.4f}\")"
   ],
   "id": "9f61cd05aa810b53",
   "outputs": [
    {
     "name": "stdout",
     "output_type": "stream",
     "text": [
      "Rank 1: Index 35, Policy [3, 2, 2], Value 14.8000\n",
      "Rank 2: Index 32, Policy [3, 1, 2], Value 12.9000\n",
      "Rank 3: Index 29, Policy [3, 0, 2], Value 12.0000\n",
      "Rank 4: Index 34, Policy [3, 2, 1], Value 11.4000\n",
      "Rank 5: Index 26, Policy [2, 2, 2], Value 10.8000\n",
      "Rank 6: Index 31, Policy [3, 1, 1], Value 9.7000\n",
      "Rank 7: Index 28, Policy [3, 0, 1], Value 9.0000\n",
      "Rank 8: Index 23, Policy [2, 1, 2], Value 8.9000\n",
      "Rank 9: Index 25, Policy [2, 2, 1], Value 8.4000\n",
      "Rank 10: Index 33, Policy [3, 2, 0], Value 8.0000\n"
     ]
    }
   ],
   "execution_count": 10
  },
  {
   "metadata": {},
   "cell_type": "markdown",
   "source": "## determine boundary probabilities and allocation",
   "id": "458d31d64684851f"
  },
  {
   "metadata": {
    "ExecuteTime": {
     "end_time": "2025-07-11T15:54:52.817309Z",
     "start_time": "2025-07-11T15:54:52.813481Z"
    }
   },
   "cell_type": "code",
   "source": [
    "# first-wave boundary probability calculation\n",
    "def boundary_probability(policy, R, H):\n",
    "    prod = 1.0\n",
    "    for i in range(len(policy)):\n",
    "        vi = policy[i]\n",
    "        Ri = R[i]\n",
    "        numerator = 2 * min(vi, Ri - 1 - vi)\n",
    "        denom = Ri - 1\n",
    "        if denom == 0:\n",
    "            continue\n",
    "        factor = 1 - numerator / denom\n",
    "        prod *= factor**(H-1)\n",
    "    return 1 - prod\n",
    "\n",
    "def compute_boundary_probabilities(all_policies, R, H):\n",
    "    \"\"\"Returns an array of probabilities for all policies.\"\"\"\n",
    "    return np.array([boundary_probability(p, R, H) for p in all_policies])\n"
   ],
   "id": "b2574306b889284d",
   "outputs": [],
   "execution_count": 11
  },
  {
   "metadata": {
    "ExecuteTime": {
     "end_time": "2025-07-11T15:54:52.943445Z",
     "start_time": "2025-07-11T15:54:52.939736Z"
    }
   },
   "cell_type": "code",
   "source": [
    "def get_allocations(probs, n1):\n",
    "    \"\"\"\n",
    "    probs: array of length num_policies (boundary probabilities for each arm)\n",
    "    n1: total first-wave sample size\n",
    "    Returns integer allocation array (sum = n1)\n",
    "    \"\"\"\n",
    "    total_prob = probs.sum()\n",
    "    alloc_floats = n1 * probs / total_prob\n",
    "    # Integer allocation: round, then correct for sum\n",
    "    alloc_ints = np.floor(alloc_floats).astype(int)\n",
    "    remainder = n1 - alloc_ints.sum()\n",
    "    # Distribute remaining units to policies with largest fractional part\n",
    "    if remainder > 0:\n",
    "        frac = alloc_floats - alloc_ints\n",
    "        idx_sorted = np.argsort(-frac)  # descending fractional part\n",
    "        for i in idx_sorted[:remainder]:\n",
    "            alloc_ints[i] += 1\n",
    "    return alloc_ints"
   ],
   "id": "155a0b4905c8f7fb",
   "outputs": [],
   "execution_count": 12
  },
  {
   "metadata": {},
   "cell_type": "markdown",
   "source": "Get the boundary probabilities and allocate.",
   "id": "83389a8c37aacda6"
  },
  {
   "metadata": {
    "ExecuteTime": {
     "end_time": "2025-07-11T15:54:53.192796Z",
     "start_time": "2025-07-11T15:54:53.184552Z"
    }
   },
   "cell_type": "code",
   "source": [
    "n1 = 100\n",
    "boundary_probs = compute_boundary_probabilities(all_policies, R, H)\n",
    "alloc1 = get_allocations(boundary_probs, n1)\n",
    "\n",
    "print(f\"Total allocated: {alloc1.sum()} (should be {n1})\")"
   ],
   "id": "8109b6dabbc44c79",
   "outputs": [
    {
     "name": "stdout",
     "output_type": "stream",
     "text": [
      "Total allocated: 100 (should be 100)\n"
     ]
    }
   ],
   "execution_count": 13
  },
  {
   "metadata": {},
   "cell_type": "markdown",
   "source": "## create assignments and generate data",
   "id": "7bc7a3426951b82e"
  },
  {
   "metadata": {
    "ExecuteTime": {
     "end_time": "2025-07-11T15:54:53.440938Z",
     "start_time": "2025-07-11T15:54:53.435990Z"
    }
   },
   "cell_type": "code",
   "source": [
    "def create_assignments_from_alloc(alloc):\n",
    "    \"\"\"\n",
    "    Given integer allocation vector over policies, returns a (n_1, 1) array of policy indices.\n",
    "    \"\"\"\n",
    "    D = []\n",
    "    for i, count in enumerate(alloc):\n",
    "        if count > 0:\n",
    "            D.extend([i] * count)\n",
    "    D = np.array(D, dtype=int).reshape(-1, 1)\n",
    "    return D"
   ],
   "id": "e3951c0091fffc54",
   "outputs": [],
   "execution_count": 14
  },
  {
   "metadata": {
    "ExecuteTime": {
     "end_time": "2025-07-11T15:54:53.583915Z",
     "start_time": "2025-07-11T15:54:53.581399Z"
    }
   },
   "cell_type": "code",
   "source": "D1 = create_assignments_from_alloc(alloc1)  # (n_1, 1)",
   "id": "6739cf170c637cfa",
   "outputs": [],
   "execution_count": 15
  },
  {
   "metadata": {
    "ExecuteTime": {
     "end_time": "2025-07-11T15:54:53.697321Z",
     "start_time": "2025-07-11T15:54:53.694305Z"
    }
   },
   "cell_type": "code",
   "source": [
    "def generate_data_from_assignments(D, all_policies, phi, sig=1.0):\n",
    "    \"\"\"\n",
    "    For a given list of policy indices (D), generate features X and outcomes y using phi.\n",
    "    Arguments:\n",
    "        D: (n, 1) array of assigned policy indices (ints from 0 to num_policies-1)\n",
    "        all_policies: list of policy tuples (global)\n",
    "        phi: function mapping policy tuple -> expected outcome\n",
    "        var: outcome noise variance (can be scalar or array-like of same length as D)\n",
    "    Returns:\n",
    "        X: (n, M) array of assigned policy features\n",
    "        y: (n, 1) array of outcomes\n",
    "    \"\"\"\n",
    "    n = D.shape[0]\n",
    "    X = np.zeros((n, len(all_policies[0])))\n",
    "    y = np.zeros((n, 1))\n",
    "    for i in range(n):\n",
    "        v = all_policies[D[i, 0]]\n",
    "        X[i, :] = v\n",
    "        mu_i = phi(v)\n",
    "        y[i, 0] = np.random.normal(loc=mu_i, scale=sig)\n",
    "    return X, y"
   ],
   "id": "31caada0ff03a1ac",
   "outputs": [],
   "execution_count": 16
  },
  {
   "metadata": {
    "ExecuteTime": {
     "end_time": "2025-07-11T15:54:53.789402Z",
     "start_time": "2025-07-11T15:54:53.781172Z"
    }
   },
   "cell_type": "code",
   "source": [
    "# Now generate X1 and y1 using the assignment-based generator:\n",
    "X1, y1 = generate_data_from_assignments(D1, all_policies, phi, sig=4)\n",
    "\n",
    "print(f\"Wave 1 assignments (policy indices): {D1[:10].flatten()}\")\n",
    "print(f\"Total n_1: {len(D1)} (should match allocation sum: {alloc1.sum()})\")"
   ],
   "id": "9297ee4f9a33e7",
   "outputs": [
    {
     "name": "stdout",
     "output_type": "stream",
     "text": [
      "Wave 1 assignments (policy indices): [1 1 1 1 3 3 3 4 4 4]\n",
      "Total n_1: 100 (should match allocation sum: 100)\n"
     ]
    }
   ],
   "execution_count": 17
  },
  {
   "metadata": {},
   "cell_type": "markdown",
   "source": "Print the minimum feasible value for H now that we know which profiles are observed here and which are unobserved.",
   "id": "b55124b99dba6490"
  },
  {
   "metadata": {
    "ExecuteTime": {
     "end_time": "2025-07-11T15:54:54.035810Z",
     "start_time": "2025-07-11T15:54:54.029460Z"
    }
   },
   "cell_type": "code",
   "source": [
    "def get_min_feasible_H(D, all_policies, profiles, policies_ids_profiles):\n",
    "    \"\"\"\n",
    "    Returns the minimum feasible H for each profile (dict),\n",
    "    and the global max across all observed profiles.\n",
    "    \"\"\"\n",
    "    unique_policies_per_profile = {}\n",
    "    for k in policies_ids_profiles:\n",
    "        idxs = set(policies_ids_profiles[k])\n",
    "        # Which units in D are assigned to profile k?\n",
    "        mask = np.isin(D.flatten(), list(idxs))\n",
    "        observed = D[mask].flatten() if np.any(mask) else []\n",
    "        num_unique = len(np.unique(observed))\n",
    "        unique_policies_per_profile[k] = num_unique\n",
    "    global_H = max(unique_policies_per_profile.values())\n",
    "    return unique_policies_per_profile, global_H\n",
    "\n",
    "# Example usage (after D1 is constructed):\n",
    "unique_policies, min_H = get_min_feasible_H(D1, all_policies, profiles, policies_ids_profiles)\n",
    "print(f\"Unique policies per profile: {unique_policies}\")\n",
    "print(f\"Set H >= {min_H} for feasibility.\")"
   ],
   "id": "9aaa46f86f09fd8b",
   "outputs": [
    {
     "name": "stdout",
     "output_type": "stream",
     "text": [
      "Unique policies per profile: {0: 0, 1: 1, 2: 1, 3: 3, 4: 2, 5: 5, 6: 5, 7: 11}\n",
      "Set H >= 11 for feasibility.\n"
     ]
    }
   ],
   "execution_count": 18
  },
  {
   "metadata": {},
   "cell_type": "markdown",
   "source": "## Enumerate RPS",
   "id": "7b4b5ddeac813fee"
  },
  {
   "metadata": {
    "ExecuteTime": {
     "end_time": "2025-07-11T15:54:54.268076Z",
     "start_time": "2025-07-11T15:54:54.264592Z"
    }
   },
   "cell_type": "code",
   "source": [
    "# Get mappings for profile subsets\n",
    "def subset_wave_data_by_profile(D1, y1, all_policies, profiles, policies_ids_profiles):\n",
    "    \"\"\"\n",
    "    For each profile, subset D1/y1 to only units assigned to this profile.\n",
    "    Returns:\n",
    "        D1_profiles: dict k -> (n_k, 1) policy indices (profile-local, 0-based)\n",
    "        y1_profiles: dict k -> (n_k, 1) outcomes\n",
    "        global_to_local: dict k -> dict mapping global policy idx to profile-local idx\n",
    "    \"\"\"\n",
    "    D1_profiles = {}\n",
    "    y1_profiles = {}\n",
    "    global_to_local = {}\n",
    "    for k, idxs in policies_ids_profiles.items():\n",
    "        # Build set for fast membership\n",
    "        idxs_set = set(idxs)\n",
    "        # Mask: which units in D1 assigned to this profile?\n",
    "        mask = np.array([d[0] in idxs_set for d in D1])\n",
    "        if not np.any(mask):\n",
    "            continue  # no data for this profile\n",
    "        D1_k = D1[mask].flatten()\n",
    "        y1_k = y1[mask]\n",
    "        # Remap global indices to profile-local (as expected by RAggregate)\n",
    "        glob2loc = {glob: loc for loc, glob in enumerate(idxs)}\n",
    "        D1_k_profile = np.array([glob2loc[d] for d in D1_k]).reshape(-1, 1)\n",
    "        D1_profiles[k] = D1_k_profile\n",
    "        y1_profiles[k] = y1_k\n",
    "        global_to_local[k] = glob2loc\n",
    "    return D1_profiles, y1_profiles, global_to_local"
   ],
   "id": "5e8137f010ecbd95",
   "outputs": [],
   "execution_count": 19
  },
  {
   "metadata": {
    "ExecuteTime": {
     "end_time": "2025-07-11T15:54:54.379157Z",
     "start_time": "2025-07-11T15:54:54.375832Z"
    }
   },
   "cell_type": "code",
   "source": [
    "# Compute policy means for each profile\n",
    "\n",
    "def compute_profile_policy_means(D1_profiles, y1_profiles, policies_profiles):\n",
    "    \"\"\"\n",
    "    For each profile, compute policy means/counts.\n",
    "    Returns: dict k -> policy_means (num_policies_in_profile, 2)\n",
    "    \"\"\"\n",
    "    profile_policy_means = {}\n",
    "    for k in D1_profiles.keys():\n",
    "        n_policies = len(policies_profiles[k])\n",
    "        pm = compute_policy_means(D1_profiles[k], y1_profiles[k], n_policies)\n",
    "        profile_policy_means[k] = pm\n",
    "    return profile_policy_means"
   ],
   "id": "df2e39c12a275e9e",
   "outputs": [],
   "execution_count": 20
  },
  {
   "metadata": {
    "ExecuteTime": {
     "end_time": "2025-07-11T15:54:54.504212Z",
     "start_time": "2025-07-11T15:54:54.501320Z"
    }
   },
   "cell_type": "code",
   "source": [
    "def build_global_wave_data(D1_profiles, y1_profiles, policies_profiles, profiles, policies_ids_profiles):\n",
    "    \"\"\"\n",
    "    Stacks all observed profiles into arrays for RAggregate.\n",
    "    (!!) converts local profile indices back to global indices using policies_ids_profiles.\n",
    "    Returns D1_full (global indices), y1_full\n",
    "    \"\"\"\n",
    "    # TODO make sure local to global is applied everywhere\n",
    "    D_list, y_list = [], []\n",
    "    for k in D1_profiles.keys():\n",
    "        idxs = policies_ids_profiles[k]\n",
    "        D1_k_profile = D1_profiles[k].flatten()\n",
    "        # Map each local index back to its global policy index for this profile\n",
    "        D1_k_global = np.array([idxs[local_idx] for local_idx in D1_k_profile]).reshape(-1, 1)\n",
    "        D_list.append(D1_k_global)\n",
    "        y_list.append(y1_profiles[k])\n",
    "    D1_full = np.vstack(D_list)\n",
    "    y1_full = np.vstack(y_list)\n",
    "    return D1_full, y1_full"
   ],
   "id": "3d15618e4fa3fa4e",
   "outputs": [],
   "execution_count": 21
  },
  {
   "metadata": {
    "ExecuteTime": {
     "end_time": "2025-07-11T15:54:54.636595Z",
     "start_time": "2025-07-11T15:54:54.634807Z"
    }
   },
   "cell_type": "code",
   "source": [
    "# # basic RPS construction\n",
    "# def construct_RPS_basic(M, R, H, D1, y1, theta, reg=0.001, num_workers=1, verbose=False):\n",
    "#     R_set, R_profiles = RAggregate(M, R, H, D1, y1, theta, reg=reg, num_workers=num_workers, verbose=verbose)\n",
    "#     return R_set, R_profiles"
   ],
   "id": "c77adf8ade1f1c3b",
   "outputs": [],
   "execution_count": 22
  },
  {
   "metadata": {
    "ExecuteTime": {
     "end_time": "2025-07-11T15:54:54.745897Z",
     "start_time": "2025-07-11T15:54:54.743524Z"
    }
   },
   "cell_type": "code",
   "source": [
    "# get top k policies for adaptive work\n",
    "def find_top_k_policies(D, y_pred, k):\n",
    "    idx_sorted = np.argsort(-y_pred.flatten())\n",
    "    D_flat = D.flatten()[idx_sorted]\n",
    "    _, unique_idx = np.unique(D_flat, return_index=True)\n",
    "    top_k = D_flat[np.sort(unique_idx)][:k]\n",
    "    return top_k"
   ],
   "id": "39284be11e848e5f",
   "outputs": [],
   "execution_count": 23
  },
  {
   "metadata": {
    "ExecuteTime": {
     "end_time": "2025-07-11T15:54:54.889625Z",
     "start_time": "2025-07-11T15:54:54.880418Z"
    }
   },
   "cell_type": "code",
   "source": [
    "def construct_RPS_adaptive(\n",
    "    M, R, H, D_full, y_full, num_top, policies_profiles_masked, policies_ids_profiles,\n",
    "    profiles, all_policies, top_k_indices,\n",
    "    theta_init,  # precomputed lower bound or baseline theta\n",
    "    reg=0.1, max_factor=2.0, step_ratio=5, verbose=True,\n",
    "    adaptive=False,  # pass if already computed for efficiency\n",
    "    recovery_type=\"arm\"  # \"arm\" (policy index) or \"profile\"\n",
    "):\n",
    "    # TODO later will need to remove the top_k_indices argumetn to make this usable without oracle. Just for interpretation right now.\n",
    "    \"\"\"\n",
    "    Adaptive Rashomon set construction:\n",
    "    Increments theta until RPS contains a partition whose best arm(s)\n",
    "    (or profile) include the oracle-best.\n",
    "\n",
    "    Returns:\n",
    "        R_set, R_profiles, theta, found, theta_trace, rps_size_trace,\n",
    "        per_partition: dict of lists (all same len = Rashomon set size), including:\n",
    "            - best_pred_indices (top-k for each partition)\n",
    "            - best_pred_profiles\n",
    "            - regret (oracle minus predicted mean)\n",
    "            - pool_means_r (per-partition policy means)\n",
    "            - y_r_est (per-partition predictions)\n",
    "            - pool_assignments (policy -> pool id mapping)\n",
    "            - total_loss (loss for this partition)\n",
    "    \"\"\"\n",
    "\n",
    "    # get starting threshold\n",
    "    theta = theta_init\n",
    "    theta_step = theta_init / step_ratio\n",
    "    max_theta = theta_init * max_factor\n",
    "    found = False\n",
    "    iteration = 0\n",
    "    theta_trace = []\n",
    "    rps_size_trace = []\n",
    "\n",
    "    # True best policies/profiles\n",
    "    if recovery_type == \"profile\":\n",
    "        best_targets = set(policy_to_profile(all_policies[idx]) for idx in top_k_indices)\n",
    "    else:\n",
    "        best_targets = set(top_k_indices)\n",
    "\n",
    "    from rashomon.loss import compute_policy_means\n",
    "    policy_means = compute_policy_means(D_full, y_full, len(all_policies))\n",
    "\n",
    "\n",
    "    # update theta until actual best arm or profile is included\n",
    "    while not found and theta <= max_theta:\n",
    "        if verbose and adaptive:\n",
    "            print(f\"Trying theta={theta:.6f}\")\n",
    "        R_set, R_profiles = RAggregate(\n",
    "            M, R, H, D_full, y_full, theta, reg=reg, num_workers=1, verbose=verbose\n",
    "        )\n",
    "        theta_trace.append(theta)\n",
    "        rps_size_trace.append(len(R_set))\n",
    "        if len(R_set) == 0:\n",
    "            theta += theta_step * theta_init\n",
    "            iteration += 1\n",
    "            continue\n",
    "\n",
    "        # For each partition in the Rashomon set, check recovery\n",
    "        for r_set in R_set:\n",
    "            # Assign pools for each profile\n",
    "            pi_policies_profiles_r = {}\n",
    "            for k, profile in enumerate(profiles):\n",
    "                if len(R_profiles[k]) == 0:\n",
    "                    continue\n",
    "                sigma_k = R_profiles[k].sigma[r_set[k]]\n",
    "                if sigma_k is None:\n",
    "                    n_policies_profile = len(policies_profiles_masked[k])\n",
    "                    pi_policies_r_k = {i: 0 for i in range(n_policies_profile)}\n",
    "                else:\n",
    "                    _, pi_policies_r_k = extract_pools(\n",
    "                        policies_profiles_masked[k], sigma_k)\n",
    "                pi_policies_profiles_r[k] = pi_policies_r_k\n",
    "\n",
    "            pi_pools_r, pi_policies_r = aggregate_pools(\n",
    "                pi_policies_profiles_r, policies_ids_profiles)\n",
    "            pool_means_r = compute_pool_means(policy_means, pi_pools_r)\n",
    "            y_r_est = make_predictions(D_full, pi_policies_r, pool_means_r)\n",
    "            best_pred_indices = find_top_k_policies(D_full, y_r_est, num_top)\n",
    "\n",
    "            if recovery_type == \"profile\":\n",
    "                # check if any predicted best matched the best\n",
    "                found_profiles = set(policy_to_profile(all_policies[idx]) for idx in best_pred_indices)\n",
    "                if best_targets & found_profiles:\n",
    "                    found = True\n",
    "                    if verbose:\n",
    "                        print(\"----FOUND-----\")\n",
    "                        print(\"actual best profile(s): \", best_targets)\n",
    "                        print(\"found profile(s): \", found_profiles)\n",
    "                    break\n",
    "            else:  # \"arm\"\n",
    "                if best_targets & set(best_pred_indices):\n",
    "                    found = True\n",
    "                    if verbose:\n",
    "                        print(\"----FOUND-----\")\n",
    "                        print(\"actual best arms: \", [int(x) for x in best_targets])\n",
    "                        print(\"best predicted arms: \", [int(x) for x in set(best_pred_indices)])\n",
    "                    break\n",
    "\n",
    "        if verbose:\n",
    "            print(\"Size of RPS\", len(R_set))\n",
    "        if adaptive == False:\n",
    "            break\n",
    "        if not found:\n",
    "            theta += theta_step * theta_init\n",
    "            iteration += 1\n",
    "\n",
    "    if adaptive and not found:\n",
    "        print(f\"Warning: max_theta reached without finding a Rashomon partition covering the best {recovery_type}.\")\n",
    "    if adaptive and verbose:\n",
    "        print(f\"Final theta for RPS: {theta:.4f} (after {iteration} iterations)\")\n",
    "\n",
    "    return R_set, R_profiles, theta, found, theta_trace, rps_size_trace"
   ],
   "id": "b4671badd98b614c",
   "outputs": [],
   "execution_count": 24
  },
  {
   "metadata": {
    "ExecuteTime": {
     "end_time": "2025-07-11T15:54:55.079551Z",
     "start_time": "2025-07-11T15:54:55.076215Z"
    }
   },
   "cell_type": "code",
   "source": [
    "# Subset D1, y1 by profile and remap indices\n",
    "D1_profiles, y1_profiles, global_to_local = subset_wave_data_by_profile(\n",
    "    D1, y1, all_policies, profiles, policies_ids_profiles\n",
    ")"
   ],
   "id": "b4246141efa87a98",
   "outputs": [],
   "execution_count": 25
  },
  {
   "metadata": {
    "ExecuteTime": {
     "end_time": "2025-07-11T15:54:55.240068Z",
     "start_time": "2025-07-11T15:54:55.235729Z"
    }
   },
   "cell_type": "code",
   "source": [
    "# Compute per-profile policy means\n",
    "profile_policy_means = compute_profile_policy_means(D1_profiles, y1_profiles, policies_profiles)\n",
    "\n",
    "# check which profile has highest observed mean\n",
    "for k in profile_policy_means:\n",
    "    pm = profile_policy_means[k]\n",
    "    means = pm[:,0] / np.maximum(pm[:,1], 1)\n",
    "    print(f\"Profile {k}: Max observed mean = {means.max():.3f}\")"
   ],
   "id": "872f1007a2cb989a",
   "outputs": [
    {
     "name": "stdout",
     "output_type": "stream",
     "text": [
      "Profile 1: Max observed mean = 0.000\n",
      "Profile 2: Max observed mean = 3.291\n",
      "Profile 3: Max observed mean = 5.285\n",
      "Profile 4: Max observed mean = 6.093\n",
      "Profile 5: Max observed mean = 6.679\n",
      "Profile 6: Max observed mean = 6.056\n",
      "Profile 7: Max observed mean = 13.082\n"
     ]
    }
   ],
   "execution_count": 26
  },
  {
   "metadata": {
    "ExecuteTime": {
     "end_time": "2025-07-11T15:54:55.412158Z",
     "start_time": "2025-07-11T15:54:55.409848Z"
    }
   },
   "cell_type": "code",
   "source": [
    "# stack all observed units for global RAggregate (this stacks D1/y1 for all observed profiles)\n",
    "D1_full, y1_full = build_global_wave_data(D1_profiles, y1_profiles, policies_profiles, profiles, policies_ids_profiles)"
   ],
   "id": "28fa01a6c44c1931",
   "outputs": [],
   "execution_count": 27
  },
  {
   "metadata": {
    "ExecuteTime": {
     "end_time": "2025-07-11T15:54:55.562211Z",
     "start_time": "2025-07-11T15:54:55.551304Z"
    }
   },
   "cell_type": "code",
   "source": [
    "# get lower bound for theta -- instead of the adaptive version\n",
    "profile_lower_bounds = []\n",
    "for k, profile in enumerate(profiles):\n",
    "    Dk, yk = subset_data(D1_full, y1_full, policies_ids_profiles[k])\n",
    "    if Dk is None:\n",
    "        continue\n",
    "    n_policies_k = len(policies_profiles[k])\n",
    "    pm = compute_policy_means(Dk, yk, n_policies_k)\n",
    "    profile_lb = find_profile_lower_bound(Dk, yk, pm)\n",
    "    profile_lower_bounds.append(profile_lb)\n",
    "theta_global = sum(profile_lower_bounds) * (1+epsilon)\n",
    "print(\"theta_global: \", theta_global)"
   ],
   "id": "71558c3df80398d",
   "outputs": [
    {
     "name": "stdout",
     "output_type": "stream",
     "text": [
      "theta_global:  1179.1816008911176\n"
     ]
    }
   ],
   "execution_count": 28
  },
  {
   "metadata": {
    "ExecuteTime": {
     "end_time": "2025-07-11T15:54:55.718099Z",
     "start_time": "2025-07-11T15:54:55.715698Z"
    }
   },
   "cell_type": "code",
   "source": [
    "# looking at 7 in this example\n",
    "k = 7  # profile index for (1,1,1)\n",
    "print(\"Profile 7: policy indices (global)\", policies_ids_profiles[k])\n",
    "print(\"Profile 7: number of unique observed policies:\", len(np.unique(D1.flatten()[np.isin(D1.flatten(), policies_ids_profiles[k])])))"
   ],
   "id": "599ec77cc67e36b1",
   "outputs": [
    {
     "name": "stdout",
     "output_type": "stream",
     "text": [
      "Profile 7: policy indices (global) [13, 14, 16, 17, 22, 23, 25, 26, 31, 32, 34, 35]\n",
      "Profile 7: number of unique observed policies: 11\n"
     ]
    }
   ],
   "execution_count": 29
  },
  {
   "metadata": {
    "ExecuteTime": {
     "end_time": "2025-07-11T15:54:57.708535Z",
     "start_time": "2025-07-11T15:54:55.889615Z"
    }
   },
   "cell_type": "code",
   "source": [
    "# OPTION 1-----\n",
    "# R_set_other, R_profiles_other = construct_RPS(M, R, H, D1_full, y1_full, theta_global, reg=lambda_reg, num_workers=1, verbose=True)\n",
    "\n",
    "# OPTION 2 -----  Run the adaptive Rashomon constructor:\n",
    "# doing non-adaptive\n",
    "R_set, R_profiles, theta_final, found_best, theta_trace, rps_size_trace = construct_RPS_adaptive(\n",
    "    M, R, H, D1_full, y1_full, num_top, policies_profiles_masked, policies_ids_profiles, profiles, all_policies, top_k_indices, theta_global, reg=lambda_reg, adaptive=False, verbose=True, recovery_type = \"arm\"\n",
    ")"
   ],
   "id": "3840651dc276095",
   "outputs": [
    {
     "name": "stdout",
     "output_type": "stream",
     "text": [
      "Skipping profile (0, 0, 0)\n",
      "(0, 0, 1) 1167.9795890413675\n",
      "Adaptive\n",
      "Profile (0, 0, 1) took 0.0029010772705078125 s adaptively\n",
      "Profile (0, 0, 1) has 2 objects in Rashomon set\n",
      "(0, 1, 0) 1168.271646153301\n",
      "Adaptive\n",
      "Profile (0, 1, 0) took 0.0006411075592041016 s adaptively\n",
      "Profile (0, 1, 0) has 2 objects in Rashomon set\n",
      "(0, 1, 1) 1168.2630740109798\n",
      "Adaptive\n",
      "Profile (0, 1, 1) took 0.0026390552520751953 s adaptively\n",
      "Profile (0, 1, 1) has 4 objects in Rashomon set\n",
      "(1, 0, 0) 1168.516216048313\n",
      "Adaptive\n",
      "Profile (1, 0, 0) took 0.001501321792602539 s adaptively\n",
      "Profile (1, 0, 0) has 4 objects in Rashomon set\n",
      "(1, 0, 1) 1170.2535234673132\n",
      "Adaptive\n",
      "Profile (1, 0, 1) took 0.012575864791870117 s adaptively\n",
      "Profile (1, 0, 1) has 8 objects in Rashomon set\n",
      "(1, 1, 0) 1169.441030405605\n",
      "Adaptive\n",
      "Profile (1, 1, 0) took 0.00800180435180664 s adaptively\n",
      "Profile (1, 1, 0) has 8 objects in Rashomon set\n",
      "(1, 1, 1) 1174.1643213457367\n",
      "Adaptive\n",
      "Profile (1, 1, 1) took 0.018484115600585938 s adaptively\n",
      "Profile (1, 1, 1) has 13 objects in Rashomon set\n",
      "Finding feasible combinations\n",
      "Min = 13.688902788749653, Max = 18.030297569976153\n",
      "----FOUND-----\n",
      "actual best arms:  [32, 33, 34, 35, 23, 25, 26, 28, 29, 31]\n",
      "best predicted arms:  [32, 34, 13, 14, 16, 17, 22, 23, 25, 31]\n",
      "Size of RPS 4085\n"
     ]
    }
   ],
   "execution_count": 30
  },
  {
   "metadata": {
    "ExecuteTime": {
     "end_time": "2025-07-11T15:54:57.740935Z",
     "start_time": "2025-07-11T15:54:57.735212Z"
    }
   },
   "cell_type": "code",
   "source": [
    "print(\"Top-k best policies and their profiles:\")\n",
    "for rank, idx in enumerate(top_k_indices, 1):\n",
    "    policy = all_policies[idx]\n",
    "    profile = policy_to_profile(policy)\n",
    "    print(f\"Rank {rank}: Policy idx {idx}, Policy {[int(i) for i in policy]}, Profile {profile}\")\n",
    "# 3. Inspect the results\n",
    "print(f\"Adaptive RPS size: {len(R_set)}\")\n",
    "if found_best:\n",
    "    print(\"Rashomon set contains a partition that recovers at least one oracle-best arm.\")\n",
    "else:\n",
    "    print(\"Warning: No Rashomon partition found with an oracle-best arm within threshold.\")"
   ],
   "id": "8e2d833777abaa00",
   "outputs": [
    {
     "name": "stdout",
     "output_type": "stream",
     "text": [
      "Top-k best policies and their profiles:\n",
      "Rank 1: Policy idx 35, Policy [3, 2, 2], Profile (1, 1, 1)\n",
      "Rank 2: Policy idx 32, Policy [3, 1, 2], Profile (1, 1, 1)\n",
      "Rank 3: Policy idx 29, Policy [3, 0, 2], Profile (1, 0, 1)\n",
      "Rank 4: Policy idx 34, Policy [3, 2, 1], Profile (1, 1, 1)\n",
      "Rank 5: Policy idx 26, Policy [2, 2, 2], Profile (1, 1, 1)\n",
      "Rank 6: Policy idx 31, Policy [3, 1, 1], Profile (1, 1, 1)\n",
      "Rank 7: Policy idx 28, Policy [3, 0, 1], Profile (1, 0, 1)\n",
      "Rank 8: Policy idx 23, Policy [2, 1, 2], Profile (1, 1, 1)\n",
      "Rank 9: Policy idx 25, Policy [2, 2, 1], Profile (1, 1, 1)\n",
      "Rank 10: Policy idx 33, Policy [3, 2, 0], Profile (1, 1, 0)\n",
      "Adaptive RPS size: 4085\n",
      "Rashomon set contains a partition that recovers at least one oracle-best arm.\n"
     ]
    }
   ],
   "execution_count": 31
  },
  {
   "metadata": {
    "ExecuteTime": {
     "end_time": "2025-07-11T15:54:57.798422Z",
     "start_time": "2025-07-11T15:54:57.795317Z"
    }
   },
   "cell_type": "code",
   "source": [
    "# Gather observed policy indices (in wave 1)\n",
    "observed_policy_indices = set(D1.flatten())\n",
    "# Gather observed profiles (in wave 1)\n",
    "observed_profiles = set()\n",
    "for idx in observed_policy_indices:\n",
    "    prof = policy_to_profile(all_policies[idx])\n",
    "    observed_profiles.add(prof)\n",
    "\n",
    "print(\"\\nObserved profiles in data:\", observed_profiles)\n",
    "print(\"Are all top-k best profiles observed?\")\n",
    "\n",
    "for rank, idx in enumerate(top_k_indices, 1):\n",
    "    policy = all_policies[idx]\n",
    "    prof = policy_to_profile(policy)\n",
    "    print(f\"Best Policy {idx}: Profile {prof}, Observed? {prof in observed_profiles}\")"
   ],
   "id": "4ff68dd869d5cd14",
   "outputs": [
    {
     "name": "stdout",
     "output_type": "stream",
     "text": [
      "\n",
      "Observed profiles in data: {(1, 0, 1), (1, 1, 0), (0, 1, 0), (1, 0, 0), (0, 0, 1), (1, 1, 1), (0, 1, 1)}\n",
      "Are all top-k best profiles observed?\n",
      "Best Policy 35: Profile (1, 1, 1), Observed? True\n",
      "Best Policy 32: Profile (1, 1, 1), Observed? True\n",
      "Best Policy 29: Profile (1, 0, 1), Observed? True\n",
      "Best Policy 34: Profile (1, 1, 1), Observed? True\n",
      "Best Policy 26: Profile (1, 1, 1), Observed? True\n",
      "Best Policy 31: Profile (1, 1, 1), Observed? True\n",
      "Best Policy 28: Profile (1, 0, 1), Observed? True\n",
      "Best Policy 23: Profile (1, 1, 1), Observed? True\n",
      "Best Policy 25: Profile (1, 1, 1), Observed? True\n",
      "Best Policy 33: Profile (1, 1, 0), Observed? True\n"
     ]
    }
   ],
   "execution_count": 32
  },
  {
   "metadata": {
    "ExecuteTime": {
     "end_time": "2025-07-11T15:54:57.892820Z",
     "start_time": "2025-07-11T15:54:57.889770Z"
    }
   },
   "cell_type": "code",
   "source": [
    "for k, rprof in enumerate(R_profiles):\n",
    "    print(f\"Profile {k}: {len(rprof)} poolings in RPS (if observed)\")\n",
    "print(f\"First-wave Rashomon set: {len(R_set)} feasible global partitions (combinations of per-profile poolings).\")\n",
    "# You now have R_set (list of feasible global partition indices) and R_profiles (list of per-profile RashomonSets)"
   ],
   "id": "5cf3e6ed3c264cf9",
   "outputs": [
    {
     "name": "stdout",
     "output_type": "stream",
     "text": [
      "Profile 0: 1 poolings in RPS (if observed)\n",
      "Profile 1: 2 poolings in RPS (if observed)\n",
      "Profile 2: 2 poolings in RPS (if observed)\n",
      "Profile 3: 4 poolings in RPS (if observed)\n",
      "Profile 4: 4 poolings in RPS (if observed)\n",
      "Profile 5: 8 poolings in RPS (if observed)\n",
      "Profile 6: 8 poolings in RPS (if observed)\n",
      "Profile 7: 13 poolings in RPS (if observed)\n",
      "First-wave Rashomon set: 4085 feasible global partitions (combinations of per-profile poolings).\n"
     ]
    }
   ],
   "execution_count": 33
  },
  {
   "metadata": {},
   "cell_type": "markdown",
   "source": "f#### (optional) can look at plots of size, epsilon, and loss",
   "id": "af5aea5f2319792f"
  },
  {
   "metadata": {},
   "cell_type": "markdown",
   "source": "Some plots after the first construction of the RPS to look at RPS size and epsilon, and the error distribution:",
   "id": "648eaac0780ccf76"
  },
  {
   "metadata": {
    "ExecuteTime": {
     "end_time": "2025-07-11T15:54:57.993672Z",
     "start_time": "2025-07-11T15:54:57.983523Z"
    }
   },
   "cell_type": "code",
   "source": [
    "def plot_rps_size_vs_epsilon(aggregate_func, M, R, H, D1_full, y1_full, base_theta, reg=1e-5, epsilons=None):\n",
    "    \"\"\"\n",
    "    Plots RPS size vs epsilon. aggregate_func = RAggregate or similar.\n",
    "    \"\"\"\n",
    "    if epsilons is None:\n",
    "        epsilons = np.linspace(0.01, 0.2, 10)  # sweep from 1% to 20% above min loss\n",
    "    set_sizes = []\n",
    "    min_loss = None\n",
    "    for eps in epsilons:\n",
    "        theta = base_theta * (1 + eps)\n",
    "        R_set, R_profiles = aggregate_func(M, R, H, D1_full, y1_full, theta, reg=reg)\n",
    "        set_sizes.append(len(R_set))\n",
    "        # Find MAP (min loss) if needed\n",
    "        if min_loss is None and len(R_set) > 0:\n",
    "            # Min loss over all models in this set\n",
    "            min_loss = min(\n",
    "                sum(R_profiles[k].loss[r[profile]] for k, profile in enumerate(r))\n",
    "                for r in R_set\n",
    "            )\n",
    "    plt.figure(figsize=(6, 4))\n",
    "    plt.plot(epsilons, set_sizes, marker='o')\n",
    "    plt.xlabel(r'$\\epsilon$')\n",
    "    plt.ylabel('Rashomon Set Size')\n",
    "    plt.title('RPS Size vs. Loss Tolerance')\n",
    "    plt.axvline(x=0.05, color='r', linestyle='--', label='Baseline epsilon')\n",
    "    plt.legend()\n",
    "    plt.tight_layout()\n",
    "    plt.show()\n",
    "\n",
    "# Usage after constructing D1_full, y1_full:\n",
    "# plot_rps_size_vs_epsilon(RAggregate, M, R, H, D1_full, y1_full, theta_global, reg=1e-5)"
   ],
   "id": "71a341b137fafee9",
   "outputs": [],
   "execution_count": 34
  },
  {
   "metadata": {
    "ExecuteTime": {
     "end_time": "2025-07-11T15:54:58.075801Z",
     "start_time": "2025-07-11T15:54:58.073179Z"
    }
   },
   "cell_type": "code",
   "source": [
    "def plot_rps_loss_histogram(R_set, R_profiles):\n",
    "    \"\"\"\n",
    "    Plot histogram of losses across Rashomon set (sum over profiles).\n",
    "    \"\"\"\n",
    "    if len(R_set) == 0:\n",
    "        print(\"Empty Rashomon set.\")\n",
    "        return\n",
    "    losses = []\n",
    "    for r in R_set:\n",
    "        total_loss = sum(R_profiles[k].loss[r[k]] for k in range(len(r)))\n",
    "        losses.append(total_loss)\n",
    "    plt.figure(figsize=(6, 4))\n",
    "    plt.hist(losses, bins=20, color='dodgerblue', alpha=0.7)\n",
    "    plt.axvline(min(losses), color='r', linestyle='--', label='MAP loss')\n",
    "    plt.xlabel('Total Loss')\n",
    "    plt.ylabel('Count')\n",
    "    plt.title('Loss Distribution in RPS')\n",
    "    plt.legend()\n",
    "    plt.tight_layout()\n",
    "    plt.show()\n",
    "\n",
    "# Usage:\n",
    "# plot_rps_loss_histogram(R_set, R_profiles)"
   ],
   "id": "70a9ab58f365e6ae",
   "outputs": [],
   "execution_count": 35
  },
  {
   "metadata": {
    "ExecuteTime": {
     "end_time": "2025-07-11T15:54:58.122695Z",
     "start_time": "2025-07-11T15:54:58.117720Z"
    }
   },
   "cell_type": "code",
   "source": "# plot_rps_size_vs_epsilon(RAggregate, M, R, H, D1_full, y1_full, theta_global, reg=lambda_reg)",
   "id": "1e518384e947b4f6",
   "outputs": [],
   "execution_count": 36
  },
  {
   "metadata": {
    "ExecuteTime": {
     "end_time": "2025-07-11T15:54:58.580580Z",
     "start_time": "2025-07-11T15:54:58.157685Z"
    }
   },
   "cell_type": "code",
   "source": "plot_rps_loss_histogram(R_set, R_profiles)",
   "id": "6690d5f314098c36",
   "outputs": [
    {
     "data": {
      "text/plain": [
       "<Figure size 600x400 with 1 Axes>"
      ],
      "image/png": "[encoded data removed]"
     },
     "metadata": {},
     "output_type": "display_data"
    }
   ],
   "execution_count": 37
  },
  {
   "metadata": {},
   "cell_type": "markdown",
   "source": "## get second wave boundary probabilities and allocation",
   "id": "d7a831de0c156eab"
  },
  {
   "metadata": {
    "ExecuteTime": {
     "end_time": "2025-07-11T15:54:58.636800Z",
     "start_time": "2025-07-11T15:54:58.633516Z"
    }
   },
   "cell_type": "code",
   "source": [
    "def get_policy_neighbors(all_policies):\n",
    "    \"\"\"\n",
    "    Uses lattice_edges helper to get neighbor map for policies.\n",
    "    \"\"\"\n",
    "    edges = lattice_edges(all_policies)  # list of (i, j)\n",
    "    neighbors = {i: [] for i in range(len(all_policies))}\n",
    "    for i, j in edges:\n",
    "        neighbors[i].append(j)\n",
    "        neighbors[j].append(i)  # edges are undirected\n",
    "    return neighbors\n",
    "\n",
    "# Usage:\n",
    "# neighbors = get_policy_neighbors_from_edges(all_policies)"
   ],
   "id": "7f5af0f8d3717068",
   "outputs": [],
   "execution_count": 38
  },
  {
   "metadata": {
    "ExecuteTime": {
     "end_time": "2025-07-11T15:54:58.695023Z",
     "start_time": "2025-07-11T15:54:58.690172Z"
    }
   },
   "cell_type": "code",
   "source": [
    "def compute_global_boundary_matrix(\n",
    "    R_set, R_profiles, neighbors, profiles, policies_profiles_masked, policies_ids_profiles, all_policies\n",
    "):\n",
    "    \"\"\"\n",
    "    Returns boundary_matrix: shape (n_partitions, num_policies)\n",
    "    boundary_matrix[j, i] = number of boundaries for policy i in partition j\n",
    "    (i.e., number of neighbors in a different pool)\n",
    "    \"\"\"\n",
    "    num_policies = len(all_policies)\n",
    "    n_partitions = len(R_set)\n",
    "\n",
    "    boundary_matrix = np.zeros((n_partitions, num_policies), dtype=int)\n",
    "\n",
    "    for j, r in enumerate(R_set):\n",
    "        pi_policies_profiles_r = {}\n",
    "        for k, profile in enumerate(profiles):\n",
    "            if len(R_profiles[k]) == 0:\n",
    "                continue\n",
    "            sigma_k = R_profiles[k].sigma[r[k]]\n",
    "            if sigma_k is None:\n",
    "                continue\n",
    "            _, pi_policies_k = extract_pools(policies_profiles_masked[k], sigma_k)\n",
    "            pi_policies_profiles_r[k] = pi_policies_k\n",
    "        pi_pools_r, pi_policies_r = aggregate_pools(pi_policies_profiles_r, policies_ids_profiles)\n",
    "        for i in range(num_policies):\n",
    "            pool_i = pi_policies_r.get(i, -1)\n",
    "            if pool_i == -1:\n",
    "                continue\n",
    "            # Count number of neighbors in a different pool\n",
    "            count = 0\n",
    "            for nb in neighbors[i]:\n",
    "                pool_nb = pi_policies_r.get(nb, -1)\n",
    "                if pool_nb != -1 and pool_nb != pool_i:\n",
    "                    count += 1\n",
    "            boundary_matrix[j, i] = count\n",
    "    return boundary_matrix"
   ],
   "id": "666313ac137e3da",
   "outputs": [],
   "execution_count": 39
  },
  {
   "metadata": {
    "ExecuteTime": {
     "end_time": "2025-07-11T15:54:58.742175Z",
     "start_time": "2025-07-11T15:54:58.738614Z"
    }
   },
   "cell_type": "code",
   "source": [
    "def get_posterior_weights(R_set, R_profiles):\n",
    "\n",
    "    losses = np.array([sum(R_profiles[k].loss[r[k]] for k in range(len(r))) for r in R_set])\n",
    "    weights = np.exp(-losses)\n",
    "    weights /= weights.sum() if weights.sum() > 0 else 1.0\n",
    "\n",
    "    return weights"
   ],
   "id": "a3800dceffca2413",
   "outputs": [],
   "execution_count": 40
  },
  {
   "metadata": {
    "ExecuteTime": {
     "end_time": "2025-07-11T15:54:58.795469Z",
     "start_time": "2025-07-11T15:54:58.787484Z"
    }
   },
   "cell_type": "code",
   "source": "neighbors = get_policy_neighbors(all_policies)",
   "id": "93eb7a9bbf59eea0",
   "outputs": [],
   "execution_count": 41
  },
  {
   "metadata": {
    "ExecuteTime": {
     "end_time": "2025-07-11T15:55:01.079045Z",
     "start_time": "2025-07-11T15:54:58.854783Z"
    }
   },
   "cell_type": "code",
   "source": [
    "boundary_matrix = compute_global_boundary_matrix(R_set, R_profiles, neighbors, profiles, policies_profiles_masked, policies_ids_profiles, all_policies)\n",
    "binary_boundary_matrix = (boundary_matrix > 0).astype(float)\n"
   ],
   "id": "ffd0074359e41471",
   "outputs": [],
   "execution_count": 42
  },
  {
   "metadata": {
    "ExecuteTime": {
     "end_time": "2025-07-11T15:55:01.133002Z",
     "start_time": "2025-07-11T15:55:01.119678Z"
    }
   },
   "cell_type": "code",
   "source": "posterior_weights = get_posterior_weights(R_set, R_profiles)",
   "id": "9ac4c9ca079e3314",
   "outputs": [],
   "execution_count": 43
  },
  {
   "metadata": {
    "ExecuteTime": {
     "end_time": "2025-07-11T15:55:01.169087Z",
     "start_time": "2025-07-11T15:55:01.163510Z"
    }
   },
   "cell_type": "code",
   "source": [
    "# Weighted average across partitions\n",
    "posterior_boundary_probs = np.average(binary_boundary_matrix, axis=0, weights=posterior_weights)\n",
    "# posterior_weighted_boundary_probs[i]: average number of boundaries for policy i, weighted by RPS posterior\n",
    "# Usage:\n",
    "posterior_boundary_probs = np.round(posterior_boundary_probs, decimals=8)\n"
   ],
   "id": "9c6b27a52c9dc569",
   "outputs": [],
   "execution_count": 44
  },
  {
   "metadata": {
    "ExecuteTime": {
     "end_time": "2025-07-11T15:55:01.222554Z",
     "start_time": "2025-07-11T15:55:01.219644Z"
    }
   },
   "cell_type": "code",
   "source": [
    "# 1. Basic shape check\n",
    "assert posterior_boundary_probs.shape == (len(all_policies),), \"Posterior vector shape mismatch\"\n",
    "\n",
    "# 2. Check range and sum\n",
    "print(\"Posterior boundary min/max:\", posterior_boundary_probs.min(), posterior_boundary_probs.max())\n",
    "# 3. Check for degenerate values\n",
    "assert np.all((posterior_boundary_probs >= 0) & (posterior_boundary_probs <= 1)), \"Probabilities out of bounds\""
   ],
   "id": "5287af692d082aba",
   "outputs": [
    {
     "name": "stdout",
     "output_type": "stream",
     "text": [
      "Posterior boundary min/max: 0.0 1.0\n"
     ]
    }
   ],
   "execution_count": 45
  },
  {
   "metadata": {},
   "cell_type": "markdown",
   "source": "## Next waves",
   "id": "2e022262b87f3125"
  },
  {
   "metadata": {
    "ExecuteTime": {
     "end_time": "2025-07-11T15:55:04.885140Z",
     "start_time": "2025-07-11T15:55:04.870197Z"
    }
   },
   "cell_type": "code",
   "source": [
    "# Set n2 (second-wave sample size, e.g., same as n1 or a new value)\n",
    "n2 = 100\n",
    "\n",
    "# posterior_boundary_probs: already computed above, vector of length num_policies\n",
    "# Use the same allocation function as for wave 1\n",
    "alloc2 = get_allocations(posterior_boundary_probs, n2)\n",
    "\n",
    "print(f\"Second-wave allocations (first 10): {alloc2[:10]}\")\n",
    "print(f\"Total allocated: {alloc2.sum()} (should be {n2})\")"
   ],
   "id": "8bd6f74936372650",
   "outputs": [
    {
     "name": "stdout",
     "output_type": "stream",
     "text": [
      "Second-wave allocations (first 10): [0 3 3 3 3 3 3 2 3 3]\n",
      "Total allocated: 100 (should be 100)\n"
     ]
    }
   ],
   "execution_count": 48
  },
  {
   "metadata": {
    "ExecuteTime": {
     "end_time": "2025-07-11T15:55:36.509190Z",
     "start_time": "2025-07-11T15:55:36.438373Z"
    }
   },
   "cell_type": "code",
   "source": [
    "# Assignments (policy indices) for wave 2\n",
    "D2 = create_assignments_from_alloc(alloc2)  # (n2, 1)\n",
    "\n",
    "# Generate new features and outcomes for wave 2\n",
    "X2, y2 = generate_data_from_assignments(D2, all_policies, phi, sig=4)\n",
    "\n",
    "print(f\"Wave 2 assignments (policy indices): {D2[:10].flatten()}\")\n",
    "print(f\"Wave 2 features X2: {X2[:5, :]}\")\n",
    "print(f\"Wave 2 outcomes y2: {y2[:5, 0]}\")\n",
    "print(f\"Total n_2: {len(D2)} (should match allocation sum: {alloc2.sum()})\")"
   ],
   "id": "dacfd6568664cc6f",
   "outputs": [
    {
     "name": "stdout",
     "output_type": "stream",
     "text": [
      "Wave 2 assignments (policy indices): [1 1 1 2 2 2 3 3 3 4]\n",
      "Wave 2 features X2: [[0. 0. 1.]\n",
      " [0. 0. 1.]\n",
      " [0. 0. 1.]\n",
      " [0. 0. 2.]\n",
      " [0. 0. 2.]]\n",
      "Wave 2 outcomes y2: [-6.52647703  4.39804512 -3.49858632 -0.22764589  0.79703716]\n",
      "Total n_2: 100 (should match allocation sum: 100)\n"
     ]
    }
   ],
   "execution_count": 50
  },
  {
   "metadata": {},
   "cell_type": "markdown",
   "source": "## construct updated RPS",
   "id": "31080f16b8eaf5ec"
  },
  {
   "metadata": {
    "ExecuteTime": {
     "end_time": "2025-07-11T15:55:37.742566Z",
     "start_time": "2025-07-11T15:55:37.726721Z"
    }
   },
   "cell_type": "code",
   "source": [
    "# --- Combine data for both waves ---\n",
    "D_total = np.vstack([D1, D2])\n",
    "y_total = np.vstack([y1, y2])\n",
    "\n",
    "# --- Subset and remap ---\n",
    "D_total_profiles, y_total_profiles, global_to_local_total = subset_wave_data_by_profile(\n",
    "    D_total, y_total, all_policies, profiles, policies_ids_profiles\n",
    ")\n",
    "\n",
    "profile_policy_means_total = compute_profile_policy_means(D_total_profiles, y_total_profiles, policies_profiles)\n",
    "\n",
    "# --- Stack all observed units into D_total_full, y_total_full (global indices) ---\n",
    "D_total_full, y_total_full = build_global_wave_data(\n",
    "    D_total_profiles, y_total_profiles, policies_profiles, profiles, policies_ids_profiles\n",
    ")"
   ],
   "id": "f33639127c630457",
   "outputs": [],
   "execution_count": 51
  },
  {
   "metadata": {
    "ExecuteTime": {
     "end_time": "2025-07-11T15:55:37.947757Z",
     "start_time": "2025-07-11T15:55:37.919782Z"
    }
   },
   "cell_type": "code",
   "source": [
    "# --- Get profile lower bounds and global theta ---\n",
    "profile_lower_bounds_total = []\n",
    "for k in D_total_profiles:\n",
    "    Dk, yk = subset_data(D_total_full, y_total_full, policies_ids_profiles[k])\n",
    "    if Dk is None:\n",
    "        continue\n",
    "    n_policies_k = len(policies_profiles[k])\n",
    "    pm = compute_policy_means(Dk, yk, n_policies_k)\n",
    "    profile_lb = find_profile_lower_bound(Dk, yk, pm)\n",
    "    profile_lower_bounds_total.append(profile_lb)\n",
    "theta_global_total = sum(profile_lower_bounds_total) * (1.05)  # adjust epsilon as needed\n",
    "\n",
    "print(\"theta_global (final): \", theta_global_total) # TODO should we be updating the threshold for each wave??"
   ],
   "id": "924e38c7c081041a",
   "outputs": [
    {
     "name": "stdout",
     "output_type": "stream",
     "text": [
      "theta_global (final):  3330.7977245413767\n"
     ]
    }
   ],
   "execution_count": 52
  },
  {
   "metadata": {
    "ExecuteTime": {
     "end_time": "2025-07-11T15:55:39.946468Z",
     "start_time": "2025-07-11T15:55:38.111946Z"
    }
   },
   "cell_type": "code",
   "source": [
    "# --- Run Rashomon set construction as in first wave ---\n",
    "R_set_total, R_profiles_total, theta_final, found_best, theta_trace, rps_size_trace = construct_RPS_adaptive(\n",
    "    M, R, H, D_total_full, y_total_full, num_top, policies_profiles_masked, policies_ids_profiles,\n",
    "    profiles, all_policies, top_k_indices, theta_global_total, reg=lambda_reg, adaptive=False, verbose=True, recovery_type=\"arm\"\n",
    ")\n",
    "\n",
    "print(f\"Final Rashomon set: {len(R_set_total)} feasible global partitions (with all data).\")\n",
    "for k, rprof in enumerate(R_profiles_total):\n",
    "    print(f\"Profile {k}: {len(rprof)} poolings in RPS (if observed)\")"
   ],
   "id": "1b0971c263ebee56",
   "outputs": [
    {
     "name": "stdout",
     "output_type": "stream",
     "text": [
      "Skipping profile (0, 0, 0)\n",
      "(0, 0, 1) 3315.3716105646517\n",
      "Adaptive\n",
      "Profile (0, 0, 1) took 0.0009157657623291016 s adaptively\n",
      "Profile (0, 0, 1) has 2 objects in Rashomon set\n",
      "(0, 1, 0) 3315.328999722647\n",
      "Adaptive\n",
      "Profile (0, 1, 0) took 0.0005850791931152344 s adaptively\n",
      "Profile (0, 1, 0) has 2 objects in Rashomon set\n",
      "(0, 1, 1) 3315.648975662898\n",
      "Adaptive\n",
      "Profile (0, 1, 1) took 0.0012400150299072266 s adaptively\n",
      "Profile (0, 1, 1) has 4 objects in Rashomon set\n",
      "(1, 0, 0) 3316.223119642091\n",
      "Adaptive\n",
      "Profile (1, 0, 0) took 0.0009601116180419922 s adaptively\n",
      "Profile (1, 0, 0) has 4 objects in Rashomon set\n",
      "(1, 0, 1) 3318.239705391663\n",
      "Adaptive\n",
      "Profile (1, 0, 1) took 0.0035240650177001953 s adaptively\n",
      "Profile (1, 0, 1) has 8 objects in Rashomon set\n",
      "(1, 1, 0) 3316.9232756406636\n",
      "Adaptive\n",
      "Profile (1, 1, 0) took 0.0032896995544433594 s adaptively\n",
      "Profile (1, 1, 0) has 8 objects in Rashomon set\n",
      "(1, 1, 1) 3322.6827358924115\n",
      "Adaptive\n",
      "Profile (1, 1, 1) took 0.010460853576660156 s adaptively\n",
      "Profile (1, 1, 1) has 13 objects in Rashomon set\n",
      "Finding feasible combinations\n",
      "Min = 18.952156963470514, Max = 22.269329096742148\n",
      "----FOUND-----\n",
      "actual best arms:  [32, 33, 34, 35, 23, 25, 26, 28, 29, 31]\n",
      "best predicted arms:  [32, 34, 35, 14, 16, 17, 23, 25, 26, 31]\n",
      "Size of RPS 4085\n",
      "Final Rashomon set: 4085 feasible global partitions (with all data).\n",
      "Profile 0: 1 poolings in RPS (if observed)\n",
      "Profile 1: 2 poolings in RPS (if observed)\n",
      "Profile 2: 2 poolings in RPS (if observed)\n",
      "Profile 3: 4 poolings in RPS (if observed)\n",
      "Profile 4: 4 poolings in RPS (if observed)\n",
      "Profile 5: 8 poolings in RPS (if observed)\n",
      "Profile 6: 8 poolings in RPS (if observed)\n",
      "Profile 7: 13 poolings in RPS (if observed)\n"
     ]
    }
   ],
   "execution_count": 53
  },
  {
   "metadata": {
    "ExecuteTime": {
     "end_time": "2025-07-11T15:55:44.946963Z",
     "start_time": "2025-07-11T15:55:39.972169Z"
    }
   },
   "cell_type": "code",
   "source": [
    "# Compute boundary masks/probabilities as before for both waves:\n",
    "boundary_matrix_1 = compute_global_boundary_matrix(R_set, R_profiles, neighbors, profiles, policies_profiles_masked, policies_ids_profiles, all_policies)\n",
    "binary_boundary_matrix_1 = (boundary_matrix_1 > 0).astype(float)\n",
    "\n",
    "posterior_boundary_probs_1 = np.average(binary_boundary_matrix_1, axis=0, weights=get_posterior_weights(R_set, R_profiles))\n",
    "\n",
    "# get probabilities after\n",
    "boundary_matrix_2 = compute_global_boundary_matrix( R_set_total, R_profiles_total, neighbors, profiles, policies_profiles_masked, policies_ids_profiles, all_policies)\n",
    "binary_boundary_matrix_2 = (boundary_matrix_2 > 0).astype(float)\n",
    "\n",
    "posterior_boundary_probs_2 = np.average(binary_boundary_matrix_2, axis=0, weights=get_posterior_weights(R_set_total, R_profiles_total))\n",
    "\n",
    "# Compare statistics:\n",
    "diff = posterior_boundary_probs_2 - posterior_boundary_probs_1\n",
    "print(\"Number of policies with DECREASED boundary probability:\", (diff < -0.0001).sum())\n",
    "print(\"Number of policies with INCREASED boundary probability:\", (diff > 0.0001).sum())\n",
    "print(\"Mean change in boundary probability:\", diff.mean())\n",
    "print(\"Fraction of policies now at 0 boundary probability:\", (posterior_boundary_probs_2 < 1e-8).mean())\n",
    "print(\"Fraction now at 1 boundary probability:\", (posterior_boundary_probs_2 > 1 - 1e-8).mean())\n"
   ],
   "id": "e8de5f1588d87976",
   "outputs": [
    {
     "name": "stdout",
     "output_type": "stream",
     "text": [
      "Number of policies with DECREASED boundary probability: 2\n",
      "Number of policies with INCREASED boundary probability: 0\n",
      "Mean change in boundary probability: -0.0039355422581625575\n",
      "Fraction of policies now at 0 boundary probability: 0.027777777777777776\n",
      "Fraction now at 1 boundary probability: 0.9166666666666666\n"
     ]
    }
   ],
   "execution_count": 54
  },
  {
   "metadata": {
    "ExecuteTime": {
     "end_time": "2025-07-11T15:55:45.019423Z",
     "start_time": "2025-07-11T15:55:45.013438Z"
    }
   },
   "cell_type": "code",
   "source": [
    "for idx in np.argsort(-np.abs(diff))[:10]:\n",
    "    print(f\"Policy {idx} {[int(x) for x in all_policies[idx]]}: wave1={posterior_boundary_probs_1[idx]:.3f}, wave2={posterior_boundary_probs_2[idx]:.3f}, delta={diff[idx]:.10f}\")\n"
   ],
   "id": "9253b12c779d6312",
   "outputs": [
    {
     "name": "stdout",
     "output_type": "stream",
     "text": [
      "Policy 35 [3, 2, 2]: wave1=0.729, wave2=0.627, delta=-0.1017893982\n",
      "Policy 26 [2, 2, 2]: wave1=0.885, wave2=0.845, delta=-0.0398901231\n",
      "Policy 32 [3, 1, 2]: wave1=1.000, wave2=1.000, delta=0.0000000000\n",
      "Policy 31 [3, 1, 1]: wave1=1.000, wave2=1.000, delta=0.0000000000\n",
      "Policy 30 [3, 1, 0]: wave1=1.000, wave2=1.000, delta=0.0000000000\n",
      "Policy 29 [3, 0, 2]: wave1=1.000, wave2=1.000, delta=0.0000000000\n",
      "Policy 28 [3, 0, 1]: wave1=1.000, wave2=1.000, delta=0.0000000000\n",
      "Policy 27 [3, 0, 0]: wave1=1.000, wave2=1.000, delta=0.0000000000\n",
      "Policy 19 [2, 0, 1]: wave1=1.000, wave2=1.000, delta=0.0000000000\n",
      "Policy 25 [2, 2, 1]: wave1=1.000, wave2=1.000, delta=0.0000000000\n"
     ]
    }
   ],
   "execution_count": 55
  },
  {
   "metadata": {},
   "cell_type": "code",
   "outputs": [],
   "execution_count": null,
   "source": [
    "# # still have neighbors = get_policy_neighbors(all_policies) from before\n",
    "# boundary_matrix_2 = compute_global_boundary_matrix(\n",
    "#     R_set_2, R_profiles_2, neighbors, profiles, policies_profiles_masked, policies_ids_profiles, all_policies\n",
    "# )\n",
    "# binary_boundary_matrix_2 = (boundary_matrix_2 > 0).astype(float)\n",
    "# partition_losses_2, posterior_weights_2 = get_partition_losses(R_set_2, R_profiles_2)\n",
    "# posterior_boundary_probs_2 = np.average(binary_boundary_matrix_2, axis=0, weights=posterior_weights_2)\n",
    "#\n",
    "# # to avoid small numerical errors, round to 8 decimal\n",
    "# posterior_boundary_probs = np.round(posterior_boundary_probs_2, decimals=8)\n",
    "# # Diagnostics: Compare boundary probabilities before/after second wave\n",
    "# diff = posterior_boundary_probs_2 - posterior_boundary_probs_1\n",
    "# print(\"Number of policies with DECREASED boundary probability:\", (diff < -0.00001).sum())\n",
    "# print(\"Number of policies with INCREASED boundary probability:\", (diff > 0.00001).sum())\n",
    "# print(\"Mean change in boundary probability:\", diff.mean())\n",
    "# print(\"Fraction of policies now at 0 boundary probability:\", (posterior_boundary_probs_2 < 1e-8).mean())\n",
    "# print(\"Fraction now at 1 boundary probability:\", (posterior_boundary_probs_2 > 1 - 1e-8).mean())\n",
    "#\n",
    "# # optional - identify largest changes in boundary\n",
    "# for idx in np.argsort(-np.abs(diff))[:10]:\n",
    "#     print(\n",
    "#         f\"Policy {idx} {[int(x) for x in all_policies[idx]]}: wave1={posterior_boundary_probs_1[idx]:.3f}, wave2={posterior_boundary_probs_2[idx]:.3f}, delta={diff[idx]:.10f}\")"
   ],
   "id": "fe8e44819c3675dd"
  },
  {
   "metadata": {},
   "cell_type": "markdown",
   "source": "# ALGORITHM 1: Regret, Evaluation, Visualizations",
   "id": "9d9dccfbe3b0907f"
  },
  {
   "metadata": {
    "ExecuteTime": {
     "end_time": "2025-07-11T15:55:45.154132Z",
     "start_time": "2025-07-11T15:55:45.146417Z"
    }
   },
   "cell_type": "code",
   "source": [
    "import seaborn as sns\n",
    "import pandas as pd\n",
    "import matplotlib.pyplot as plt"
   ],
   "id": "94f007054feae364",
   "outputs": [],
   "execution_count": 56
  },
  {
   "metadata": {
    "ExecuteTime": {
     "end_time": "2025-07-11T15:55:48.179473Z",
     "start_time": "2025-07-11T15:55:45.223831Z"
    }
   },
   "cell_type": "code",
   "source": [
    "regrets = []\n",
    "contains_best = []\n",
    "best_pred_indices_all = []\n",
    "policy_indices_all = []\n",
    "policy_means_all = []\n",
    "# Compute policy means for all observed data in both waves (or all waves)\n",
    "policy_means_total = compute_policy_means(D_total_full, y_total_full, len(all_policies))\n",
    "for i, r_set in enumerate(R_set_total):\n",
    "    pi_policies_profiles_r = {}\n",
    "    for k, profile in enumerate(profiles):\n",
    "        if len(R_profiles_total[k]) == 0:\n",
    "            continue\n",
    "        sigma_k = R_profiles_total[k].sigma[r_set[k]]\n",
    "        if sigma_k is None:\n",
    "            n_policies_profile = len(policies_profiles_masked[k])\n",
    "            pi_policies_r_k = {i: 0 for i in range(n_policies_profile)}\n",
    "        else:\n",
    "            _, pi_policies_r_k = extract_pools(policies_profiles_masked[k], sigma_k)\n",
    "        pi_policies_profiles_r[k] = pi_policies_r_k\n",
    "\n",
    "    pi_pools_r, pi_policies_r = aggregate_pools(pi_policies_profiles_r, policies_ids_profiles)\n",
    "    pool_means_r = compute_pool_means(policy_means_total, pi_pools_r) # TODO this is now listed as not defined\n",
    "\n",
    "    # For all policies\n",
    "    policy_indices = np.array(list(pi_policies_r.keys()))\n",
    "    policy_means = np.array([pool_means_r[pi_policies_r[idx]] for idx in policy_indices])\n",
    "\n",
    "    # For reporting and analysis\n",
    "    policy_indices_all.append(policy_indices)\n",
    "    policy_means_all.append(policy_means)\n",
    "\n",
    "    # For best-arm regret/recovery\n",
    "    best_pred_idx = policy_indices[np.argmax(policy_means)]\n",
    "    regrets.append(float(oracle_beta[top_k_indices[0]] - pool_means_r[pi_policies_r[best_pred_idx]]))\n",
    "    contains_best.append(int(best_pred_idx == top_k_indices[0]))\n",
    "    best_pred_indices_all.append(best_pred_idx)\n",
    "\n",
    "regrets = np.array(regrets)\n",
    "contains_best = np.array(contains_best)"
   ],
   "id": "b6f2d5e53a68517e",
   "outputs": [],
   "execution_count": 57
  },
  {
   "metadata": {
    "ExecuteTime": {
     "end_time": "2025-07-11T15:55:48.225881Z",
     "start_time": "2025-07-11T15:55:48.214435Z"
    }
   },
   "cell_type": "code",
   "source": [
    "# Compute partition losses, MAP index, and posterior weights\n",
    "partition_losses = np.array([\n",
    "    sum(R_profiles_total[k].loss[r_set[k]] for k in range(len(r_set)))\n",
    "    for r_set in R_set_total\n",
    "])\n",
    "weights = np.exp(-partition_losses)\n",
    "weights /= weights.sum() if weights.sum() > 0 else 1.0\n",
    "\n",
    "map_idx = np.argmin(partition_losses)\n",
    "r_set_map = R_set_total[map_idx]"
   ],
   "id": "8a4bd140e71889",
   "outputs": [],
   "execution_count": 58
  },
  {
   "metadata": {
    "ExecuteTime": {
     "end_time": "2025-07-11T15:55:48.387259Z",
     "start_time": "2025-07-11T15:55:48.275719Z"
    }
   },
   "cell_type": "code",
   "source": [
    "# --- MAP partition: pull all needed values from arrays you already computed ---\n",
    "\n",
    "policy_indices_map = policy_indices_all[map_idx]\n",
    "policy_means_map = policy_means_all[map_idx]\n",
    "\n",
    "# Sort the policies by predicted mean (descending)\n",
    "order = np.argsort(-policy_means_map)\n",
    "sorted_idx = policy_indices_map[order]\n",
    "sorted_means = policy_means_map[order]\n",
    "\n",
    "N = 20  # Show top-N MAP-predicted policies\n",
    "\n",
    "# For each policy: true oracle value, oracle rank, is it in top-k?\n",
    "oracle_values = oracle_beta[sorted_idx[:N]]\n",
    "oracle_ranks_map = oracle_ranks[sorted_idx[:N]]\n",
    "is_topk = [idx in top_k_indices for idx in sorted_idx[:N]]\n",
    "\n",
    "print(f\"{'MAP Rank':>8} | {'Policy Idx':>10} | {'Pred Val':>8} | {'Oracle Val':>10} | {'Oracle Rank':>11} | {'Top-k?':>6}\")\n",
    "print('-'*65)\n",
    "for map_rank, (idx, pred, true, rnk, flag) in enumerate(zip(sorted_idx[:N], sorted_means[:N], oracle_values, oracle_ranks_map, is_topk), 1):\n",
    "    tag = \"YES\" if flag else \"\"\n",
    "    print(f\"{map_rank:8} | {idx:10} | {pred:8.3f} | {true:10.3f} | {rnk:11} | {tag:6}\")\n",
    "\n",
    "num_map_in_topk = sum(is_topk)\n",
    "print(f\"Among top {N} MAP-predicted arms, {num_map_in_topk} are in oracle top-{len(top_k_indices)}\")\n",
    "\n",
    "print(\"This shows the top N policies as ranked by the MAP partition (highest predicted means first).\")\n",
    "print(\"For each: Predicted mean (MAP), true (oracle) value, true rank, and whether it is in the oracle top-k.\")\n",
    "# TODO this isn't very readable. might make this a heatmap or something? Or maybe have little tiled squares with a hue and teh entry or jsut the hue?\n",
    "\n",
    "plt.figure(figsize=(10, 1))\n",
    "sns.heatmap(np.array(is_topk[:N]).reshape(1, -1), annot=np.array(sorted_idx[:N]).reshape(1,-1),\n",
    "            fmt=\"\", cmap=sns.color_palette(\"Blues\", as_cmap=True), cbar=False)\n",
    "plt.xlabel(\"MAP Policy Rank\")\n",
    "plt.yticks([])\n",
    "plt.title(\"Is MAP-predicted policy in oracle top-k? (blue = yes)\")\n",
    "plt.show()"
   ],
   "id": "dd0ff0722ca05115",
   "outputs": [
    {
     "name": "stdout",
     "output_type": "stream",
     "text": [
      "MAP Rank | Policy Idx | Pred Val | Oracle Val | Oracle Rank | Top-k?\n",
      "-----------------------------------------------------------------\n",
      "       1 |         26 |   10.509 |     10.800 |           5 | YES   \n",
      "       2 |         34 |   10.509 |     11.400 |           4 | YES   \n",
      "       3 |         25 |   10.509 |      8.400 |           9 | YES   \n",
      "       4 |         35 |   10.509 |     14.800 |           1 | YES   \n",
      "       5 |         28 |    9.771 |      9.000 |           7 | YES   \n",
      "       6 |         29 |    9.771 |     12.000 |           3 | YES   \n",
      "       7 |         23 |    7.436 |      8.900 |           8 | YES   \n",
      "       8 |         32 |    7.436 |     12.900 |           2 | YES   \n",
      "       9 |         31 |    7.436 |      9.700 |           6 | YES   \n",
      "      10 |         22 |    7.436 |      6.700 |          13 |       \n",
      "      11 |         17 |    6.316 |      6.800 |          12 |       \n",
      "      12 |         16 |    6.316 |      5.400 |          18 |       \n",
      "      13 |         27 |    6.307 |      6.000 |          17 |       \n",
      "      14 |         11 |    5.315 |      4.000 |          23 |       \n",
      "      15 |         10 |    5.315 |      3.000 |          25 |       \n",
      "      16 |         19 |    5.315 |      6.000 |          15 |       \n",
      "      17 |         20 |    5.315 |      8.000 |          11 |       \n",
      "      18 |         24 |    4.261 |      6.000 |          16 |       \n",
      "      19 |         33 |    4.261 |      8.000 |          10 | YES   \n",
      "      20 |         30 |    4.261 |      6.500 |          14 |       \n",
      "Among top 20 MAP-predicted arms, 10 are in oracle top-10\n",
      "This shows the top N policies as ranked by the MAP partition (highest predicted means first).\n",
      "For each: Predicted mean (MAP), true (oracle) value, true rank, and whether it is in the oracle top-k.\n"
     ]
    },
    {
     "data": {
      "text/plain": [
       "<Figure size 1000x100 with 1 Axes>"
      ],
      "image/png": "[encoded data removed]"
     },
     "metadata": {},
     "output_type": "display_data"
    }
   ],
   "execution_count": 59
  },
  {
   "metadata": {},
   "cell_type": "markdown",
   "source": "### choose number of policies to display in plots",
   "id": "d293c4c35efaf37e"
  },
  {
   "metadata": {
    "ExecuteTime": {
     "end_time": "2025-07-11T15:55:48.423454Z",
     "start_time": "2025-07-11T15:55:48.420903Z"
    }
   },
   "cell_type": "code",
   "source": [
    "# currently display all!\n",
    "N = num_policies\n",
    "print(N)"
   ],
   "id": "3d1d96452da3fce9",
   "outputs": [
    {
     "name": "stdout",
     "output_type": "stream",
     "text": [
      "36\n"
     ]
    }
   ],
   "execution_count": 60
  },
  {
   "metadata": {},
   "cell_type": "markdown",
   "source": "### visualizations!",
   "id": "ca875ccffd2c6959"
  },
  {
   "metadata": {
    "ExecuteTime": {
     "end_time": "2025-07-11T15:56:06.357038Z",
     "start_time": "2025-07-11T15:56:06.105584Z"
    }
   },
   "cell_type": "code",
   "source": [
    "print(\"This plot shows the true (oracle) value for each of the top N MAP-predicted policies. \")\n",
    "print(\"Red bars indicate the policy is in the oracle top-k. The red line is the MAP-predicted value for each ranked policy.\")\n",
    "\n",
    "import pandas as pd\n",
    "\n",
    "df = pd.DataFrame({\n",
    "    \"MAP_Rank\": np.arange(1, N+1),\n",
    "    \"Policy_Idx\": sorted_idx[:N],\n",
    "    \"MAP_Pred\": sorted_means[:N],\n",
    "    \"Oracle_Value\": oracle_beta[sorted_idx[:N]],\n",
    "    \"Oracle_Rank\": oracle_ranks[sorted_idx[:N]],\n",
    "    \"Is_TopK\": [idx in top_k_indices for idx in sorted_idx[:N]]\n",
    "})\n",
    "\n",
    "plt.figure(figsize=(12,5))\n",
    "sns.barplot(\n",
    "    x=\"MAP_Rank\", y=\"Oracle_Value\", data=df,\n",
    "    hue=\"Is_TopK\", dodge=False,\n",
    "    palette={True: \"red\", False: \"steelblue\"},\n",
    "    alpha=1, edgecolor='white'\n",
    ")\n",
    "sns.lineplot(\n",
    "    x=\"MAP_Rank\", y=\"MAP_Pred\", data=df,\n",
    "    marker=\"o\", color=\"crimson\", label=\"MAP Predicted Mean\"\n",
    ")\n",
    "plt.ylabel(\"True Outcome Value\")\n",
    "plt.xlabel(\"MAP Policy Ranking\")\n",
    "plt.title(f\"MAP Predicted Policies: Oracle Value and Predicted Mean (Top {N})\")\n",
    "handles, labels = plt.gca().get_legend_handles_labels()\n",
    "# Fix legend so that it clearly shows color mapping and the line\n",
    "from matplotlib.patches import Patch\n",
    "new_handles = [\n",
    "    Patch(facecolor='red', edgecolor='white', label='Oracle Top-k'),\n",
    "    Patch(facecolor='steelblue', edgecolor='white', label='Not Top-k'),\n",
    "    handles[-1]  # The line for MAP Predicted Mean\n",
    "]\n",
    "plt.legend(handles=new_handles, title=\"\")\n",
    "plt.xticks(np.arange(-1, N, 1)+1)\n",
    "plt.tight_layout()\n",
    "plt.show()"
   ],
   "id": "bd95b1b10ba42843",
   "outputs": [
    {
     "name": "stdout",
     "output_type": "stream",
     "text": [
      "This plot shows the true (oracle) value for each of the top N MAP-predicted policies. \n",
      "Red bars indicate the policy is in the oracle top-k. The red line is the MAP-predicted value for each ranked policy.\n"
     ]
    },
    {
     "data": {
      "text/plain": [
       "<Figure size 1200x500 with 1 Axes>"
      ],
      "image/png": "[encoded data removed]"
     },
     "metadata": {},
     "output_type": "display_data"
    }
   ],
   "execution_count": 63
  },
  {
   "metadata": {
    "ExecuteTime": {
     "end_time": "2025-07-11T15:56:25.753234Z",
     "start_time": "2025-07-11T15:56:25.584521Z"
    }
   },
   "cell_type": "code",
   "source": [
    "# For each policy in MAP order, compute its regret vs. oracle-best\n",
    "print(\"This plot shows the regret (difference in true outcome vs. true best) for the policies that the MAP chose as its top N.\")\n",
    "print(\"Lower is better; zero means the MAP-picked policy matches the true best.\")\n",
    "\n",
    "regrets_per_policy = oracle_beta[top_k_indices[0]] - oracle_beta[sorted_idx[:N]]\n",
    "\n",
    "policy_labels = [str(idx) for idx in sorted_idx[:N]]\n",
    "plt.figure(figsize=(12,4))\n",
    "sns.barplot(x=policy_labels, y=regrets_per_policy, color=\"cornflowerblue\", edgecolor=\"black\")\n",
    "plt.ylabel(\"Regret vs. Oracle Best\")\n",
    "plt.xlabel(\"MAP Policy Index (Top N)\")\n",
    "plt.title(f\"Regret for MAP's Top {N} Policies\")\n",
    "plt.tight_layout()\n",
    "plt.show()\n",
    "# TODO careful with empty\n",
    "print(f\"MAP top-{N} min regret: {regrets_per_policy.min():.3f}  max regret: {regrets_per_policy.max():.3f}\")"
   ],
   "id": "a0a5a31d87aa1f28",
   "outputs": [
    {
     "name": "stdout",
     "output_type": "stream",
     "text": [
      "This plot shows the regret (difference in true outcome vs. true best) for the policies that the MAP chose as its top N.\n",
      "Lower is better; zero means the MAP-picked policy matches the true best.\n"
     ]
    },
    {
     "data": {
      "text/plain": [
       "<Figure size 1200x400 with 1 Axes>"
      ],
      "image/png": "[encoded data removed]"
     },
     "metadata": {},
     "output_type": "display_data"
    },
    {
     "name": "stdout",
     "output_type": "stream",
     "text": [
      "MAP top-36 min regret: 0.000  max regret: 14.800\n"
     ]
    }
   ],
   "execution_count": 68
  },
  {
   "metadata": {},
   "cell_type": "markdown",
   "source": "**Regression!**: for MAP predicted mean for a policy and the true mean",
   "id": "ef93e3371445d9fb"
  },
  {
   "metadata": {
    "ExecuteTime": {
     "end_time": "2025-07-11T15:56:36.004756Z",
     "start_time": "2025-07-11T15:56:35.852804Z"
    }
   },
   "cell_type": "code",
   "source": [
    "from sklearn.linear_model import LinearRegression\n",
    "from sklearn.metrics import r2_score\n",
    "\n",
    "# Remove NaNs for regression\n",
    "mask = ~np.isnan(df.MAP_Pred) & ~np.isnan(df.Oracle_Value)\n",
    "X = df.Oracle_Value[mask].values.reshape(-1, 1)\n",
    "y = df.MAP_Pred[mask].values\n",
    "model = LinearRegression().fit(X, y)\n",
    "y_pred = model.predict(X)\n",
    "r2 = r2_score(y, y_pred)\n",
    "slope = model.coef_[0]\n",
    "intercept = model.intercept_\n",
    "print(f\"Regression results: R2 = {r2:.3f}, Slope = {slope:.2f}, Intercept = {intercept:.2f}\")\n",
    "\n",
    "print(\"This scatterplot shows, for the MAP's top N policies, the predicted mean (y-axis) vs. the true (oracle) value (x-axis).\")\n",
    "plt.figure(figsize=(12,4))\n",
    "sns.scatterplot(x=\"Oracle_Value\", y=\"MAP_Pred\", data=df, color=\"dodgerblue\", s=80, edgecolor=\"black\")\n",
    "sns.regplot(x=\"Oracle_Value\", y=\"MAP_Pred\", data=df, scatter=False, color=\"crimson\", line_kws={'label':\"Regression\"})\n",
    "plt.plot(\n",
    "    [df.Oracle_Value.min(), df.Oracle_Value.max()],\n",
    "    [df.Oracle_Value.min(), df.Oracle_Value.max()],\n",
    "    'k--', alpha=0.7, label=\"Ideal\"\n",
    ")\n",
    "plt.xlabel(\"True Oracle Value\")\n",
    "plt.ylabel(\"MAP Predicted Mean\")\n",
    "plt.title(f\"MAP's Top {N} Policies: Regression on True vs Predicted\")\n",
    "plt.legend()\n",
    "plt.tight_layout()\n",
    "plt.show()"
   ],
   "id": "f67581a83951dde3",
   "outputs": [
    {
     "name": "stdout",
     "output_type": "stream",
     "text": [
      "Regression results: R2 = 0.803, Slope = 0.72, Intercept = 1.02\n",
      "This scatterplot shows, for the MAP's top N policies, the predicted mean (y-axis) vs. the true (oracle) value (x-axis).\n"
     ]
    },
    {
     "data": {
      "text/plain": [
       "<Figure size 1200x400 with 1 Axes>"
      ],
      "image/png": "[encoded data removed]"
     },
     "metadata": {},
     "output_type": "display_data"
    }
   ],
   "execution_count": 71
  },
  {
   "metadata": {
    "ExecuteTime": {
     "end_time": "2025-07-11T15:56:27.961169Z",
     "start_time": "2025-07-11T15:56:27.901930Z"
    }
   },
   "cell_type": "code",
   "source": [
    "print(\"This plot shows the true value (orange bars) and MAP-predicted mean (red line) for the best policies, ranked by their actual best order.\")\n",
    "print(\"It helps diagnose whether MAP predictions are systematically biased for the actual best policies.\")\n",
    "\n",
    "plt.figure(figsize=(12,4))\n",
    "sns.barplot(x=\"Oracle_Rank\", y=\"Oracle_Value\", data=df, color=\"orange\", edgecolor=\"black\", label=\"Oracle Value\")\n",
    "sns.lineplot(x=\"Oracle_Rank\", y=\"MAP_Pred\", data=df, marker=\"o\", color=\"crimson\", label=\"MAP Prediction\")\n",
    "plt.ylabel(\"Value\")\n",
    "plt.xlabel(\"Oracle Policy Rank\")\n",
    "plt.title(f\"Oracle Top {N} Policies: True vs MAP Predicted Mean\")\n",
    "plt.legend()\n",
    "plt.xticks(np.arange(-1, N, 1)+1)\n",
    "plt.tight_layout()\n",
    "plt.show()\n",
    "print(\"Oracle top-N: Min/Max regret (MAP predicted minus true):\",\n",
    "      (df2.Oracle_Value - df2.MAP_Pred).min(), (df2.Oracle_Value - df2.MAP_Pred).max())"
   ],
   "id": "2b5eb054134363e7",
   "outputs": [
    {
     "name": "stdout",
     "output_type": "stream",
     "text": [
      "This plot shows the true value (orange bars) and MAP-predicted mean (red line) for the best policies, ranked by their actual best order.\n",
      "It helps diagnose whether MAP predictions are systematically biased for the actual best policies.\n"
     ]
    },
    {
     "ename": "NameError",
     "evalue": "name 'df2' is not defined",
     "output_type": "error",
     "traceback": [
      "\u001B[31m---------------------------------------------------------------------------\u001B[39m",
      "\u001B[31mNameError\u001B[39m                                 Traceback (most recent call last)",
      "\u001B[36mCell\u001B[39m\u001B[36m \u001B[39m\u001B[32mIn[70]\u001B[39m\u001B[32m, line 5\u001B[39m\n\u001B[32m      2\u001B[39m \u001B[38;5;28mprint\u001B[39m(\u001B[33m\"\u001B[39m\u001B[33mIt helps diagnose whether MAP predictions are systematically biased for the actual best policies.\u001B[39m\u001B[33m\"\u001B[39m)\n\u001B[32m      4\u001B[39m plt.figure(figsize=(\u001B[32m12\u001B[39m,\u001B[32m4\u001B[39m))\n\u001B[32m----> \u001B[39m\u001B[32m5\u001B[39m sns.barplot(x=\u001B[33m\"\u001B[39m\u001B[33mOracle_Rank\u001B[39m\u001B[33m\"\u001B[39m, y=\u001B[33m\"\u001B[39m\u001B[33mOracle_Value\u001B[39m\u001B[33m\"\u001B[39m, data=\u001B[43mdf2\u001B[49m, color=\u001B[33m\"\u001B[39m\u001B[33morange\u001B[39m\u001B[33m\"\u001B[39m, edgecolor=\u001B[33m\"\u001B[39m\u001B[33mblack\u001B[39m\u001B[33m\"\u001B[39m, label=\u001B[33m\"\u001B[39m\u001B[33mOracle Value\u001B[39m\u001B[33m\"\u001B[39m)\n\u001B[32m      6\u001B[39m sns.lineplot(x=\u001B[33m\"\u001B[39m\u001B[33mOracle_Rank\u001B[39m\u001B[33m\"\u001B[39m, y=\u001B[33m\"\u001B[39m\u001B[33mMAP_Pred\u001B[39m\u001B[33m\"\u001B[39m, data=df2, marker=\u001B[33m\"\u001B[39m\u001B[33mo\u001B[39m\u001B[33m\"\u001B[39m, color=\u001B[33m\"\u001B[39m\u001B[33mcrimson\u001B[39m\u001B[33m\"\u001B[39m, label=\u001B[33m\"\u001B[39m\u001B[33mMAP Prediction\u001B[39m\u001B[33m\"\u001B[39m)\n\u001B[32m      7\u001B[39m plt.ylabel(\u001B[33m\"\u001B[39m\u001B[33mValue\u001B[39m\u001B[33m\"\u001B[39m)\n",
      "\u001B[31mNameError\u001B[39m: name 'df2' is not defined"
     ]
    },
    {
     "data": {
      "text/plain": [
       "<Figure size 1200x400 with 0 Axes>"
      ]
     },
     "metadata": {},
     "output_type": "display_data"
    }
   ],
   "execution_count": 70
  },
  {
   "metadata": {
    "ExecuteTime": {
     "end_time": "2025-07-08T23:07:16.224725Z",
     "start_time": "2025-07-08T23:07:16.218828Z"
    }
   },
   "cell_type": "code",
   "source": "",
   "id": "8bf3803790ca3611",
   "outputs": [],
   "execution_count": null
  },
  {
   "metadata": {},
   "cell_type": "markdown",
   "source": "## across the RPS",
   "id": "79642601525e1560"
  },
  {
   "metadata": {},
   "cell_type": "markdown",
   "source": "How often are policies pooled together with the best arm?",
   "id": "dfb44847659af453"
  },
  {
   "metadata": {
    "ExecuteTime": {
     "end_time": "2025-07-08T23:03:49.887340Z",
     "start_time": "2025-07-08T23:03:47.955071Z"
    }
   },
   "cell_type": "code",
   "source": [
    "# for each partition in the RPS, for each policy, check if in the same pool as the oracle best arm\n",
    "# posterior average - fro each policy, what fraction of posterior mass puts it in the same pool as the oracle best?\n",
    "# For each partition, track which policies are in the same pool as the oracle best arm\n",
    "best_arm_idx = top_k_indices[0]  # oracle best\n",
    "in_same_pool_matrix = np.zeros((len(R_set_total), num_policies), dtype=float)\n",
    "\n",
    "for j, r_set in enumerate(R_set_total):\n",
    "    pi_policies_profiles_r = {}\n",
    "    for k, profile in enumerate(profiles):\n",
    "        if len(R_profiles_total[k]) == 0:\n",
    "            continue\n",
    "        sigma_k = R_profiles_total[k].sigma[r_set[k]]\n",
    "        if sigma_k is None:\n",
    "            n_policies_profile = len(policies_profiles_masked[k])\n",
    "            pi_policies_r_k = {i: 0 for i in range(n_policies_profile)}\n",
    "        else:\n",
    "            _, pi_policies_r_k = extract_pools(policies_profiles_masked[k], sigma_k)\n",
    "        pi_policies_profiles_r[k] = pi_policies_r_k\n",
    "    pi_pools_r, pi_policies_r = aggregate_pools(pi_policies_profiles_r, policies_ids_profiles)\n",
    "    # Find the pool id for best arm\n",
    "    if best_arm_idx not in pi_policies_r:\n",
    "        continue\n",
    "    best_arm_pool = pi_policies_r[best_arm_idx]\n",
    "    for idx in pi_policies_r:\n",
    "        in_same_pool_matrix[j, idx] = (pi_policies_r[idx] == best_arm_pool)\n",
    "\n",
    "# Posterior-weighted \"same pool\" probabilities for each policy\n",
    "in_same_pool_prob = np.average(in_same_pool_matrix, axis=0, weights=weights)\n",
    "plt.figure(figsize=(12,4))\n",
    "sns.barplot(x=np.arange(num_policies), y=in_same_pool_prob, color=\"deepskyblue\", edgecolor=\"black\")\n",
    "plt.xlabel(\"Policy Index\")\n",
    "plt.ylabel(\"Posterior P(same pool as best)\")\n",
    "plt.title(\"Posterior Probability: Policy Shares Pool with Oracle Best\")\n",
    "labels = [str(tuple(int(x) for x in p)) for p in all_policies]\n",
    "plt.xticks(ticks=np.arange(num_policies), labels=labels, rotation=90)\n",
    "plt.tight_layout()\n",
    "plt.show()\n"
   ],
   "id": "7e60a6c6023c13e1",
   "outputs": [
    {
     "data": {
      "text/plain": [
       "<Figure size 1200x400 with 1 Axes>"
      ],
      "image/png": "[encoded data removed]"
     },
     "metadata": {},
     "output_type": "display_data"
    }
   ],
   "execution_count": 167
  },
  {
   "metadata": {},
   "cell_type": "markdown",
   "source": "Which policies are on the boundary most frequently?",
   "id": "2bf7d59347f70e8d"
  },
  {
   "metadata": {
    "ExecuteTime": {
     "end_time": "2025-07-08T23:03:50.355070Z",
     "start_time": "2025-07-08T23:03:50.244049Z"
    }
   },
   "cell_type": "code",
   "source": [
    "plt.figure(figsize=(10,4))\n",
    "sns.histplot(posterior_boundary_probs_2, bins=20, color=\"purple\", edgecolor=\"white\")\n",
    "plt.xlabel('Posterior Boundary Probability (Wave 2)')\n",
    "plt.ylabel('Policy Count')\n",
    "plt.title('Distribution of Posterior Boundary Probabilities (Wave 2)')\n",
    "plt.tight_layout()\n",
    "plt.show()"
   ],
   "id": "8f8f6850352fd032",
   "outputs": [
    {
     "data": {
      "text/plain": [
       "<Figure size 1000x400 with 1 Axes>"
      ],
      "image/png": "[encoded data removed]"
     },
     "metadata": {},
     "output_type": "display_data"
    }
   ],
   "execution_count": 168
  },
  {
   "metadata": {},
   "cell_type": "markdown",
   "source": "How robust is the identification of the best arm / pool across the RPS?",
   "id": "94f9bb69117dc040"
  },
  {
   "metadata": {
    "ExecuteTime": {
     "end_time": "2025-07-08T23:03:52.098036Z",
     "start_time": "2025-07-08T23:03:51.982189Z"
    }
   },
   "cell_type": "code",
   "source": [
    "# Track which arm is best in each partition\n",
    "best_arm_counts = np.zeros(num_policies, dtype=int)\n",
    "for i in range(len(R_set_total)):\n",
    "    idx = policy_indices_all[i][np.argmax(policy_means_all[i])]\n",
    "    best_arm_counts[idx] += 1\n",
    "print(\"Policies identified as best in any partition (index, count):\")\n",
    "for idx, count in enumerate(best_arm_counts):\n",
    "    if count > 0:\n",
    "        print(f\"Policy {idx}: {count} times\")\n",
    "# TODO says no cm.get_cmap...\n",
    "from matplotlib import colormaps\n",
    "# Normalize color by rank (lower is better)\n",
    "oracle_rank_for_plot = np.array([oracle_ranks[i] for i in range(num_policies)])\n",
    "norm = plt.Normalize(oracle_rank_for_plot.min(), oracle_rank_for_plot.max())\n",
    "colors = colormaps[\"Reds\"](1 - 1.3*norm(oracle_rank_for_plot))  # \"Best\" = brightest\n",
    "\n",
    "plt.figure(figsize=(12,4))\n",
    "bars = plt.bar(np.arange(num_policies), best_arm_counts, color=colors)\n",
    "plt.xlabel(\"Policy Index\")\n",
    "plt.ylabel(\"Count (Best Arm in Partition)\")\n",
    "plt.title(\"Best Arm Frequency Across Rashomon Set (colored by oracle rank)\")\n",
    "plt.tight_layout()\n",
    "plt.show()\n",
    "# also remove the pasted list it looks bad"
   ],
   "id": "ee101df2f5e119d6",
   "outputs": [
    {
     "name": "stdout",
     "output_type": "stream",
     "text": [
      "Policies identified as best in any partition (index, count):\n",
      "Policy 13: 493 times\n",
      "Policy 14: 420 times\n",
      "Policy 16: 420 times\n",
      "Policy 17: 74 times\n",
      "Policy 19: 200 times\n",
      "Policy 20: 73 times\n",
      "Policy 22: 573 times\n",
      "Policy 23: 74 times\n",
      "Policy 25: 74 times\n",
      "Policy 28: 616 times\n",
      "Policy 29: 85 times\n",
      "Policy 31: 833 times\n",
      "Policy 32: 75 times\n",
      "Policy 34: 75 times\n"
     ]
    },
    {
     "data": {
      "text/plain": [
       "<Figure size 1200x400 with 1 Axes>"
      ],
      "image/png": "[encoded data removed]"
     },
     "metadata": {},
     "output_type": "display_data"
    }
   ],
   "execution_count": 169
  },
  {
   "metadata": {},
   "cell_type": "markdown",
   "source": "#### What is the average pool size for each policy in the posterior?",
   "id": "de10971a8dc8f0ea"
  },
  {
   "metadata": {
    "ExecuteTime": {
     "end_time": "2025-07-08T21:39:53.574228Z",
     "start_time": "2025-07-08T21:39:44.693992Z"
    }
   },
   "cell_type": "code",
   "source": [
    "avg_pool_size = np.zeros(num_policies)\n",
    "for i in range(len(R_set_total)):\n",
    "    pi_policies_r = {}\n",
    "    for k, profile in enumerate(profiles):\n",
    "        if len(R_profiles_total[k]) == 0:\n",
    "            continue\n",
    "        sigma_k = R_profiles_total[k].sigma[R_set_total[i][k]]\n",
    "        if sigma_k is None:\n",
    "            n_policies_profile = len(policies_profiles_masked[k])\n",
    "            pi_policies_r_k = {i: 0 for i in range(n_policies_profile)}\n",
    "        else:\n",
    "            _, pi_policies_r_k = extract_pools(policies_profiles_masked[k], sigma_k)\n",
    "        pi_policies_r.update({policies_ids_profiles[k][j]: pool for j, pool in pi_policies_r_k.items()})\n",
    "    pool_counts = {}\n",
    "    for pool_id in set(pi_policies_r.values()):\n",
    "        count = sum(1 for v in pi_policies_r.values() if v == pool_id)\n",
    "        for idx in [k for k,v in pi_policies_r.items() if v==pool_id]:\n",
    "            pool_counts[idx] = count\n",
    "    for idx in pool_counts:\n",
    "        avg_pool_size[idx] += pool_counts[idx] * weights[i]\n",
    "avg_pool_size /= weights.sum()\n",
    "plt.figure(figsize=(12,4))\n",
    "sns.barplot(x=np.arange(num_policies), y=avg_pool_size, color=\"goldenrod\")\n",
    "plt.xlabel(\"Policy Index\")\n",
    "plt.ylabel(\"Posterior-Weighted Average Pool Size\")\n",
    "plt.title(\"Posterior Average Pool Size for Each Policy\")\n",
    "plt.tight_layout()\n",
    "plt.show()"
   ],
   "id": "403cfbb8abddaa23",
   "outputs": [
    {
     "data": {
      "text/plain": [
       "<Figure size 1200x400 with 1 Axes>"
      ],
      "image/png": "[encoded data removed]"
     },
     "metadata": {},
     "output_type": "display_data"
    }
   ],
   "execution_count": 174
  },
  {
   "metadata": {},
   "cell_type": "code",
   "outputs": [],
   "execution_count": null,
   "source": "",
   "id": "97d181ac5835af85"
  }
 ],
 "metadata": {
  "kernelspec": {
   "display_name": "Python 3",
   "language": "python",
   "name": "python3"
  },
  "language_info": {
   "codemirror_mode": {
    "name": "ipython",
    "version": 2
   },
   "file_extension": ".py",
   "mimetype": "text/x-python",
   "name": "python",
   "nbconvert_exporter": "python",
   "pygments_lexer": "ipython2",
   "version": "2.7.6"
  }
 },
 "nbformat": 4,
 "nbformat_minor": 5
}
