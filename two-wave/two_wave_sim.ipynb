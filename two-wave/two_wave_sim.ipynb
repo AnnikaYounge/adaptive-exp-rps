{
 "cells": [
  {
   "metadata": {},
   "cell_type": "markdown",
   "source": "# Two-wave RPS Algorithm",
   "id": "3821486d2362d731"
  },
  {
   "metadata": {
    "ExecuteTime": {
     "end_time": "2025-06-28T21:22:54.976671Z",
     "start_time": "2025-06-28T21:22:54.187412Z"
    }
   },
   "cell_type": "code",
   "source": [
    "import numpy as np\n",
    "from allocation import compute_initial_boundary_probs, compute_wave_boundary_probs, allocate_wave, assign_treatments\n",
    "from data_gen import get_beta_underlying_causal, generate_outcomes\n",
    "from rashomon.hasse import enumerate_policies\n",
    "\n",
    "from construct_RPS import construct_RPS"
   ],
   "id": "5242302164f6663e",
   "outputs": [],
   "execution_count": 1
  },
  {
   "metadata": {},
   "cell_type": "markdown",
   "source": "### 1. First-wave allocation",
   "id": "df6535a12f16459b"
  },
  {
   "metadata": {
    "ExecuteTime": {
     "end_time": "2025-06-28T21:22:55.784410Z",
     "start_time": "2025-06-28T21:22:55.776450Z"
    }
   },
   "cell_type": "code",
   "source": [
    "# get lattice\n",
    "M = 4\n",
    "R = [2,3,3,4]\n",
    "H = 20\n",
    "n1 = 500\n",
    "\n",
    "R_vec = np.full(M, R) if np.isscalar(R) else np.array(R) # allow for heterogeneity in levels\n",
    "policies = enumerate_policies(M, R)\n",
    "policies = np.array(enumerate_policies(M, R))\n",
    "K = len(policies[0])\n",
    "\n",
    "boundary_probs = compute_initial_boundary_probs(policies, R, H)\n",
    "n1_alloc = allocate_wave(boundary_probs, n1)\n",
    "\n",
    "beta = get_beta_underlying_causal(policies, M, R, kind=\"gauss\")\n",
    "\n",
    "D1 = assign_treatments(n1_alloc)\n",
    "\n",
    "sigma_noise = 5\n",
    "outcome_seed = 53\n",
    "\n",
    "y1 = generate_outcomes(D=D1, beta=beta, sigma_noise=sigma_noise, random_seed=outcome_seed)"
   ],
   "id": "193da5cfc81258b5",
   "outputs": [],
   "execution_count": 2
  },
  {
   "metadata": {},
   "cell_type": "markdown",
   "source": "### 2. Construct first-wave RPS",
   "id": "d65ec763ab104f39"
  },
  {
   "metadata": {
    "ExecuteTime": {
     "end_time": "2025-06-28T21:22:56.648625Z",
     "start_time": "2025-06-28T21:22:56.645079Z"
    }
   },
   "cell_type": "code",
   "source": [
    "lambda_r = 0.01\n",
    "eps = 0.05\n",
    "verbose = True"
   ],
   "id": "bf3efc3328c7bf10",
   "outputs": [],
   "execution_count": 3
  },
  {
   "metadata": {
    "ExecuteTime": {
     "end_time": "2025-06-28T21:22:57.167220Z",
     "start_time": "2025-06-28T21:22:57.136401Z"
    }
   },
   "cell_type": "code",
   "source": [
    "R_set, R_profiles, theta_global, policies, profiles, profile_to_policies, profile_to_indices, nonempty_profile_ids = construct_RPS(policies, M, R, D1, y1, H, eps, lambda_r, verbose=False)\n",
    "\n",
    "print(f\"RPS has: {len(R_set)} feasible partitions over {len(R_profiles)} observed profiles.\")"
   ],
   "id": "1749e681207bae85",
   "outputs": [
    {
     "name": "stdout",
     "output_type": "stream",
     "text": [
      "RPS has: 57 feasible partitions over 14 observed profiles.\n"
     ]
    }
   ],
   "execution_count": 4
  },
  {
   "metadata": {},
   "cell_type": "markdown",
   "source": "### 3. Second-wave allocation and simulation",
   "id": "e216bc08a51b126c"
  },
  {
   "metadata": {
    "ExecuteTime": {
     "end_time": "2025-06-28T21:22:59.446667Z",
     "start_time": "2025-06-28T21:22:59.340163Z"
    }
   },
   "cell_type": "code",
   "source": [
    "n2 = 500\n",
    "\n",
    "boundary_probs_2 = compute_wave_boundary_probs(R_set, R_profiles, policies, profiles, profile_to_policies, profile_to_indices, nonempty_profile_ids)\n",
    "\n",
    "alloc2 = allocate_wave(boundary_probs_2, n2)\n",
    "D2 = assign_treatments(alloc2)\n",
    "y2 = generate_outcomes(D=D2, beta=beta, sigma_noise=sigma_noise, random_seed=55)\n",
    "D = np.vstack([D1, D2])\n",
    "y = np.concatenate([y1, y2])"
   ],
   "id": "3542cb980c3cfd85",
   "outputs": [],
   "execution_count": 5
  },
  {
   "metadata": {
    "ExecuteTime": {
     "end_time": "2025-06-28T21:23:00.347942Z",
     "start_time": "2025-06-28T21:23:00.299032Z"
    }
   },
   "cell_type": "code",
   "source": [
    "R_set, R_profiles, theta_global, policies, profiles, profile_to_policies, profile_to_indices, nonempty_profile_ids = construct_RPS(policies, M, R, D, y, H, eps, lambda_r, verbose=False)\n",
    "# TODO Does theta recalculate each time?\n",
    "\n",
    "print(f\"RPS has: {len(R_set)} feasible partitions over {len(R_profiles)} observed profiles.\")"
   ],
   "id": "934b4ab24796a63a",
   "outputs": [
    {
     "name": "stdout",
     "output_type": "stream",
     "text": [
      "RPS has: 247 feasible partitions over 14 observed profiles.\n"
     ]
    }
   ],
   "execution_count": 6
  },
  {
   "metadata": {},
   "cell_type": "code",
   "source": "",
   "id": "33b075942db7267a",
   "outputs": [],
   "execution_count": null
  }
 ],
 "metadata": {
  "kernelspec": {
   "display_name": "Python 3",
   "language": "python",
   "name": "python3"
  },
  "language_info": {
   "codemirror_mode": {
    "name": "ipython",
    "version": 2
   },
   "file_extension": ".py",
   "mimetype": "text/x-python",
   "name": "python",
   "nbconvert_exporter": "python",
   "pygments_lexer": "ipython2",
   "version": "2.7.6"
  }
 },
 "nbformat": 4,
 "nbformat_minor": 5
}
