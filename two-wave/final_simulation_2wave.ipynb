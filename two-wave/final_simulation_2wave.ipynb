{
 "cells": [
  {
   "cell_type": "code",
   "id": "initial_id",
   "metadata": {
    "collapsed": true,
    "ExecuteTime": {
     "end_time": "2025-07-08T19:43:53.215846Z",
     "start_time": "2025-07-08T19:43:52.143784Z"
    }
   },
   "source": [
    "import numpy as np\n",
    "from rashomon.hasse import enumerate_policies, enumerate_profiles, policy_to_profile\n",
    "from rashomon.aggregate import RAggregate\n",
    "from rashomon.metrics import find_best_policies\n",
    "from rashomon.extract_pools import lattice_edges, extract_pools, aggregate_pools\n",
    "from rashomon.aggregate import subset_data, find_profile_lower_bound\n",
    "from rashomon.loss import compute_policy_means, compute_pool_means\n",
    "import matplotlib.pyplot as plt\n",
    "from rashomon.metrics import compute_all_metrics, make_predictions\n"
   ],
   "outputs": [],
   "execution_count": 1
  },
  {
   "metadata": {},
   "cell_type": "markdown",
   "source": "## 1. Enumerate policies and profiles, build mappings",
   "id": "a5da813b91eb3f7f"
  },
  {
   "metadata": {
    "ExecuteTime": {
     "end_time": "2025-07-08T19:43:54.523776Z",
     "start_time": "2025-07-08T19:43:54.517874Z"
    }
   },
   "cell_type": "code",
   "source": [
    "# ------------------------\n",
    "# 1. ENUMERATE POLICIES AND PROFILES\n",
    "# ------------------------\n",
    "M = 3  # number of features\n",
    "R = np.array([4, 3, 3])  # levels per feature\n",
    "\n",
    "\n",
    "# Enumerate all policies and profiles\n",
    "all_policies = enumerate_policies(M, R)\n",
    "num_policies = len(all_policies)\n",
    "profiles, profile_map = enumerate_profiles(M)\n",
    "num_profiles = len(profiles)\n",
    "\n",
    "# Profile index mappings (always by int index, not tuple)\n",
    "policies_profiles = {}\n",
    "policies_ids_profiles = {}\n",
    "\n",
    "for k, profile in enumerate(profiles):\n",
    "    # Find indices in all_policies whose profile matches this profile\n",
    "    idxs = [i for i, p in enumerate(all_policies) if policy_to_profile(p) == profile]\n",
    "    policies_ids_profiles[k] = idxs\n",
    "    policies_profiles[k] = [all_policies[i] for i in idxs]\n",
    "\n",
    "# Masked policies (remove baseline features for each profile)\n",
    "policies_profiles_masked = {}\n",
    "for k, profile in enumerate(profiles):\n",
    "    profile_mask = [bool(v) for v in profile]\n",
    "    masked_policies = [tuple([pol[i] for i in range(M) if profile_mask[i]]) for pol in policies_profiles[k]]\n",
    "    policies_profiles_masked[k] = masked_policies"
   ],
   "id": "8e80353c771b73f",
   "outputs": [],
   "execution_count": 2
  },
  {
   "metadata": {},
   "cell_type": "markdown",
   "source": "Get a safe value for H.",
   "id": "d3a0b5459a9b3da"
  },
  {
   "metadata": {
    "ExecuteTime": {
     "end_time": "2025-07-08T19:43:56.867487Z",
     "start_time": "2025-07-08T19:43:56.861099Z"
    }
   },
   "cell_type": "code",
   "source": [
    "def get_max_possible_H(policies_profiles):\n",
    "    \"\"\"\n",
    "    Returns robust (pre-allocation) max H across all profiles.\n",
    "    \"\"\"\n",
    "    max_H = max(len(policies) for policies in policies_profiles.values())\n",
    "    profile_H = {k: len(policies) for k, policies in policies_profiles.items()}\n",
    "    return profile_H, max_H\n",
    "\n",
    "# Usage:\n",
    "profile_H, robust_H = get_max_possible_H(policies_profiles)\n",
    "print(f\"Profile-wise max pools: {profile_H}\")\n",
    "print(f\"Robust (safe) H for experiment: {robust_H}\")\n",
    "\n",
    "H = robust_H # H is our chosen max number of pools per profile\n",
    "lambda_reg = 0.1 # reg parameter\n",
    "epsilon = 0.05"
   ],
   "id": "f5de3b2e2b274da8",
   "outputs": [
    {
     "name": "stdout",
     "output_type": "stream",
     "text": [
      "Profile-wise max pools: {0: 1, 1: 2, 2: 2, 3: 4, 4: 3, 5: 6, 6: 6, 7: 12}\n",
      "Robust (safe) H for experiment: 12\n"
     ]
    }
   ],
   "execution_count": 3
  },
  {
   "metadata": {},
   "cell_type": "markdown",
   "source": "## set up the underlying causal function and get ground truths",
   "id": "9b677569b5194c0c"
  },
  {
   "metadata": {
    "ExecuteTime": {
     "end_time": "2025-07-08T19:43:57.686334Z",
     "start_time": "2025-07-08T19:43:57.682071Z"
    }
   },
   "cell_type": "code",
   "source": [
    "# ------------------------\n",
    "# 2. DEFINE CAUSAL FUNCTION φ (policy tuple -> outcome)\n",
    "# ------------------------\n",
    "\n",
    "def phi(policy):\n",
    "    \"\"\"Ground truth function (edit as needed for your scenario).\"\"\"\n",
    "    x = np.array(policy)\n",
    "    return 2 * x[0] + 0.5 * x[1]**2 + x[0]*x[2] + 0.2 * x[1] * x[2]"
   ],
   "id": "30f01d63b47db3de",
   "outputs": [],
   "execution_count": 4
  },
  {
   "metadata": {
    "ExecuteTime": {
     "end_time": "2025-07-08T19:43:58.485881Z",
     "start_time": "2025-07-08T19:43:58.479547Z"
    }
   },
   "cell_type": "code",
   "source": [
    "# ------------------------\n",
    "# 3. GROUND TRUTH OUTCOMES FOR EACH POLICY (NO NOISE)\n",
    "# ------------------------\n",
    "\n",
    "# Vector of ground truth means, in policy-index order\n",
    "oracle_beta = np.array([phi(p) for p in all_policies])  # shape: (num_policies,)\n",
    "\n",
    "# Top k best arms\n",
    "num_top = 10\n",
    "\n",
    "# Sorted indices of oracle_beta, descending\n",
    "top_k_indices = np.argsort(oracle_beta)[-num_top:][::-1]  # highest first\n",
    "print(top_k_indices)\n",
    "# get info for each\n",
    "top_k_policies = [all_policies[i] for i in top_k_indices]\n",
    "top_k_values = oracle_beta[top_k_indices]\n",
    "\n",
    "for rank, (idx, pol, val) in enumerate(zip(top_k_indices, top_k_policies, top_k_values), 1):\n",
    "    print(f\"Rank {rank}: Index {idx}, Policy {list(map(int, pol))}, Value {val}\")"
   ],
   "id": "9f61cd05aa810b53",
   "outputs": [
    {
     "name": "stdout",
     "output_type": "stream",
     "text": [
      "[35 32 29 34 26 31 28 23 25 33]\n",
      "Rank 1: Index 35, Policy [3, 2, 2], Value 14.8\n",
      "Rank 2: Index 32, Policy [3, 1, 2], Value 12.9\n",
      "Rank 3: Index 29, Policy [3, 0, 2], Value 12.0\n",
      "Rank 4: Index 34, Policy [3, 2, 1], Value 11.4\n",
      "Rank 5: Index 26, Policy [2, 2, 2], Value 10.8\n",
      "Rank 6: Index 31, Policy [3, 1, 1], Value 9.7\n",
      "Rank 7: Index 28, Policy [3, 0, 1], Value 9.0\n",
      "Rank 8: Index 23, Policy [2, 1, 2], Value 8.9\n",
      "Rank 9: Index 25, Policy [2, 2, 1], Value 8.4\n",
      "Rank 10: Index 33, Policy [3, 2, 0], Value 8.0\n"
     ]
    }
   ],
   "execution_count": 5
  },
  {
   "metadata": {},
   "cell_type": "markdown",
   "source": "## determine boundary probabilities and allocation",
   "id": "458d31d64684851f"
  },
  {
   "metadata": {
    "ExecuteTime": {
     "end_time": "2025-07-08T19:44:01.086947Z",
     "start_time": "2025-07-08T19:44:01.082518Z"
    }
   },
   "cell_type": "code",
   "source": [
    "# --- First-Wave Boundary Probability Calculation and Allocation ---\n",
    "def boundary_probability(policy, R, H):\n",
    "    prod = 1.0\n",
    "    for i in range(len(policy)):\n",
    "        vi = policy[i]\n",
    "        Ri = R[i]\n",
    "        numerator = 2 * min(vi, Ri - 1 - vi)\n",
    "        denom = Ri - 1\n",
    "        if denom == 0:\n",
    "            continue\n",
    "        factor = 1 - numerator / denom\n",
    "        prod *= factor**(H-1)\n",
    "    return 1 - prod\n",
    "\n",
    "# TODO compare to old\n",
    "def compute_boundary_probabilities(all_policies, R, H):\n",
    "    \"\"\"Returns an array of P(v ∈ ∂Π|H) for all policies.\"\"\"\n",
    "    return np.array([boundary_probability(p, R, H) for p in all_policies])\n"
   ],
   "id": "b2574306b889284d",
   "outputs": [],
   "execution_count": 6
  },
  {
   "metadata": {
    "ExecuteTime": {
     "end_time": "2025-07-08T19:44:01.436951Z",
     "start_time": "2025-07-08T19:44:01.434676Z"
    }
   },
   "cell_type": "code",
   "source": [
    "def get_allocations(probs, n1):\n",
    "    \"\"\"\n",
    "    probs: array of length num_policies (boundary probabilities for each arm)\n",
    "    n1: total first-wave sample size\n",
    "    Returns integer allocation array (sum = n1)\n",
    "    \"\"\"\n",
    "    total_prob = probs.sum()\n",
    "    alloc_floats = n1 * probs / total_prob\n",
    "    # Integer allocation: round, then correct for sum\n",
    "    alloc_ints = np.floor(alloc_floats).astype(int)\n",
    "    remainder = n1 - alloc_ints.sum()\n",
    "    # Distribute remaining units to policies with largest fractional part\n",
    "    if remainder > 0:\n",
    "        frac = alloc_floats - alloc_ints\n",
    "        idx_sorted = np.argsort(-frac)  # descending fractional part\n",
    "        for i in idx_sorted[:remainder]:\n",
    "            alloc_ints[i] += 1\n",
    "    return alloc_ints"
   ],
   "id": "155a0b4905c8f7fb",
   "outputs": [],
   "execution_count": 7
  },
  {
   "metadata": {
    "ExecuteTime": {
     "end_time": "2025-07-08T19:44:01.691720Z",
     "start_time": "2025-07-08T19:44:01.689240Z"
    }
   },
   "cell_type": "code",
   "source": [
    "# --- Usage ---\n",
    "n1 = 100\n",
    "boundary_probs = compute_boundary_probabilities(all_policies, R, H)\n",
    "alloc1 = get_allocations(boundary_probs, n1)\n",
    "\n",
    "print(f\"Total allocated: {alloc1.sum()} (should be {n1})\")"
   ],
   "id": "8109b6dabbc44c79",
   "outputs": [
    {
     "name": "stdout",
     "output_type": "stream",
     "text": [
      "Total allocated: 100 (should be 100)\n"
     ]
    }
   ],
   "execution_count": 8
  },
  {
   "metadata": {},
   "cell_type": "markdown",
   "source": "## create assignments and generate data",
   "id": "7bc7a3426951b82e"
  },
  {
   "metadata": {
    "ExecuteTime": {
     "end_time": "2025-07-08T19:44:02.141802Z",
     "start_time": "2025-07-08T19:44:02.139372Z"
    }
   },
   "cell_type": "code",
   "source": [
    "# --- Generate first-wave data (assignments and observed outcomes) ---\n",
    "def create_assignments_from_alloc(alloc):\n",
    "    \"\"\"\n",
    "    Given integer allocation vector over policies, returns a (n_1, 1) array of policy indices.\n",
    "    \"\"\"\n",
    "    D = []\n",
    "    for i, count in enumerate(alloc):\n",
    "        if count > 0:\n",
    "            D.extend([i] * count)\n",
    "    D = np.array(D, dtype=int).reshape(-1, 1)\n",
    "    return D\n",
    "\n",
    "# Use allocation from previous step:\n",
    "D1 = create_assignments_from_alloc(alloc1)  # (n_1, 1)"
   ],
   "id": "e3951c0091fffc54",
   "outputs": [],
   "execution_count": 9
  },
  {
   "metadata": {
    "ExecuteTime": {
     "end_time": "2025-07-08T19:44:02.365907Z",
     "start_time": "2025-07-08T19:44:02.362896Z"
    }
   },
   "cell_type": "code",
   "source": [
    "def generate_data_from_assignments(D, all_policies, phi, var=1.0):\n",
    "    \"\"\"\n",
    "    For a given list of policy indices (D), generate features X and outcomes y using phi.\n",
    "    Arguments:\n",
    "        D: (n, 1) array of assigned policy indices (ints from 0 to num_policies-1)\n",
    "        all_policies: list of policy tuples (global)\n",
    "        phi: function mapping policy tuple -> expected outcome\n",
    "        var: outcome noise variance (can be scalar or array-like of same length as D)\n",
    "    Returns:\n",
    "        X: (n, M) array of assigned policy features\n",
    "        y: (n, 1) array of outcomes\n",
    "    \"\"\"\n",
    "    n = D.shape[0]\n",
    "    X = np.zeros((n, len(all_policies[0])))\n",
    "    y = np.zeros((n, 1))\n",
    "    for i in range(n):\n",
    "        v = all_policies[D[i, 0]]\n",
    "        X[i, :] = v\n",
    "        mu_i = phi(v)\n",
    "        sigma_i = np.sqrt(var) if np.isscalar(var) else np.sqrt(var[D[i, 0]])\n",
    "        y[i, 0] = np.random.normal(loc=mu_i, scale=sigma_i)\n",
    "    return X, y"
   ],
   "id": "31caada0ff03a1ac",
   "outputs": [],
   "execution_count": 10
  },
  {
   "metadata": {
    "ExecuteTime": {
     "end_time": "2025-07-08T19:44:02.533509Z",
     "start_time": "2025-07-08T19:44:02.525899Z"
    }
   },
   "cell_type": "code",
   "source": [
    "# Now generate X1 and y1 (features and noisy outcomes) using the assignment-based generator:\n",
    "X1, y1 = generate_data_from_assignments(D1, all_policies, phi, var=1.0)\n",
    "\n",
    "print(f\"Wave 1 assignments (policy indices): {D1[:10].flatten()}\")\n",
    "print(f\"Total n_1: {len(D1)} (should match allocation sum: {alloc1.sum()})\")\n"
   ],
   "id": "9297ee4f9a33e7",
   "outputs": [
    {
     "name": "stdout",
     "output_type": "stream",
     "text": [
      "Wave 1 assignments (policy indices): [1 1 1 1 3 3 3 4 4 4]\n",
      "Total n_1: 100 (should match allocation sum: 100)\n"
     ]
    }
   ],
   "execution_count": 11
  },
  {
   "metadata": {},
   "cell_type": "markdown",
   "source": "Print the minimum feasible value for H now that we know which profiles are observed here and which are unobserved.",
   "id": "b55124b99dba6490"
  },
  {
   "metadata": {
    "ExecuteTime": {
     "end_time": "2025-07-08T19:44:02.851229Z",
     "start_time": "2025-07-08T19:44:02.847066Z"
    }
   },
   "cell_type": "code",
   "source": [
    "def get_min_feasible_H(D, all_policies, profiles, policies_ids_profiles):\n",
    "    \"\"\"\n",
    "    Returns the minimum feasible H for each profile (dict),\n",
    "    and the global max across all observed profiles.\n",
    "    \"\"\"\n",
    "    unique_policies_per_profile = {}\n",
    "    for k in policies_ids_profiles:\n",
    "        idxs = set(policies_ids_profiles[k])\n",
    "        # Which units in D are assigned to profile k?\n",
    "        mask = np.isin(D.flatten(), list(idxs))\n",
    "        observed = D[mask].flatten() if np.any(mask) else []\n",
    "        num_unique = len(np.unique(observed))\n",
    "        unique_policies_per_profile[k] = num_unique\n",
    "    global_H = max(unique_policies_per_profile.values())\n",
    "    return unique_policies_per_profile, global_H\n",
    "\n",
    "# Example usage (after D1 is constructed):\n",
    "unique_policies, min_H = get_min_feasible_H(D1, all_policies, profiles, policies_ids_profiles)\n",
    "print(f\"Unique policies per profile: {unique_policies}\")\n",
    "print(f\"Set H >= {min_H} for feasibility.\")"
   ],
   "id": "9aaa46f86f09fd8b",
   "outputs": [
    {
     "name": "stdout",
     "output_type": "stream",
     "text": [
      "Unique policies per profile: {0: 0, 1: 1, 2: 1, 3: 3, 4: 2, 5: 5, 6: 5, 7: 11}\n",
      "Set H >= 11 for feasibility.\n"
     ]
    }
   ],
   "execution_count": 12
  },
  {
   "metadata": {},
   "cell_type": "markdown",
   "source": "## Enumerate RPS",
   "id": "7b4b5ddeac813fee"
  },
  {
   "metadata": {
    "ExecuteTime": {
     "end_time": "2025-07-08T19:44:03.202603Z",
     "start_time": "2025-07-08T19:44:03.198969Z"
    }
   },
   "cell_type": "code",
   "source": [
    "# --- 1. Prepare mappings for profile subsetting ---\n",
    "\n",
    "# Recall: policies_profiles[k] = list of policies for profile k\n",
    "#         policies_ids_profiles[k] = list of global indices for those policies\n",
    "\n",
    "def subset_wave_data_by_profile(D1, y1, all_policies, profiles, policies_ids_profiles):\n",
    "    \"\"\"\n",
    "    For each profile, subset D1/y1 to only units assigned to this profile.\n",
    "    Returns:\n",
    "        D1_profiles: dict k -> (n_k, 1) policy indices (profile-local, 0-based)\n",
    "        y1_profiles: dict k -> (n_k, 1) outcomes\n",
    "        global_to_local: dict k -> dict mapping global policy idx to profile-local idx\n",
    "    \"\"\"\n",
    "    D1_profiles = {}\n",
    "    y1_profiles = {}\n",
    "    global_to_local = {}\n",
    "    for k, idxs in policies_ids_profiles.items():\n",
    "        # Build set for fast membership\n",
    "        idxs_set = set(idxs)\n",
    "        # Mask: which units in D1 assigned to this profile?\n",
    "        mask = np.array([d[0] in idxs_set for d in D1])\n",
    "        if not np.any(mask):\n",
    "            continue  # no data for this profile\n",
    "        D1_k = D1[mask].flatten()\n",
    "        y1_k = y1[mask]\n",
    "        # Remap global indices to profile-local (as expected by RAggregate)\n",
    "        glob2loc = {glob: loc for loc, glob in enumerate(idxs)}\n",
    "        D1_k_profile = np.array([glob2loc[d] for d in D1_k]).reshape(-1, 1)\n",
    "        D1_profiles[k] = D1_k_profile\n",
    "        y1_profiles[k] = y1_k\n",
    "        global_to_local[k] = glob2loc\n",
    "    return D1_profiles, y1_profiles, global_to_local"
   ],
   "id": "5e8137f010ecbd95",
   "outputs": [],
   "execution_count": 13
  },
  {
   "metadata": {
    "ExecuteTime": {
     "end_time": "2025-07-08T19:44:03.351431Z",
     "start_time": "2025-07-08T19:44:03.348594Z"
    }
   },
   "cell_type": "code",
   "source": [
    "# --- 2. Compute policy means for each profile ---\n",
    "\n",
    "def compute_profile_policy_means(D1_profiles, y1_profiles, policies_profiles):\n",
    "    \"\"\"\n",
    "    For each profile, compute policy means/counts.\n",
    "    Returns: dict k -> policy_means (num_policies_in_profile, 2)\n",
    "    \"\"\"\n",
    "    profile_policy_means = {}\n",
    "    for k in D1_profiles.keys():\n",
    "        n_policies = len(policies_profiles[k])\n",
    "        pm = compute_policy_means(D1_profiles[k], y1_profiles[k], n_policies)\n",
    "        profile_policy_means[k] = pm\n",
    "    return profile_policy_means"
   ],
   "id": "df2e39c12a275e9e",
   "outputs": [],
   "execution_count": 14
  },
  {
   "metadata": {
    "ExecuteTime": {
     "end_time": "2025-07-08T19:44:03.720663Z",
     "start_time": "2025-07-08T19:44:03.716997Z"
    }
   },
   "cell_type": "code",
   "source": [
    "def build_global_wave_data(D1_profiles, y1_profiles, policies_profiles, profiles, policies_ids_profiles):\n",
    "    \"\"\"\n",
    "    Stacks all observed profiles into arrays for RAggregate.\n",
    "    Critically: converts local profile indices back to global indices using policies_ids_profiles.\n",
    "    Returns D1_full (global indices), y1_full\n",
    "    \"\"\"\n",
    "    D_list, y_list = [], []\n",
    "    for k in D1_profiles.keys():\n",
    "        idxs = policies_ids_profiles[k]\n",
    "        D1_k_profile = D1_profiles[k].flatten()\n",
    "        # Map each local index back to its global policy index for this profile\n",
    "        D1_k_global = np.array([idxs[local_idx] for local_idx in D1_k_profile]).reshape(-1, 1)\n",
    "        D_list.append(D1_k_global)\n",
    "        y_list.append(y1_profiles[k])\n",
    "    D1_full = np.vstack(D_list)\n",
    "    y1_full = np.vstack(y_list)\n",
    "    return D1_full, y1_full"
   ],
   "id": "3d15618e4fa3fa4e",
   "outputs": [],
   "execution_count": 15
  },
  {
   "metadata": {
    "ExecuteTime": {
     "end_time": "2025-07-08T19:44:04.012115Z",
     "start_time": "2025-07-08T19:44:04.009204Z"
    }
   },
   "cell_type": "code",
   "source": [
    "# --- Run RAggregate (Global RPS Construction) ---\n",
    "\n",
    "def construct_RPS_basic(M, R, H, D1, y1, theta, reg=0.001, num_workers=1, verbose=False):\n",
    "    \"\"\"\n",
    "    Calls RAggregate to enumerate Rashomon sets for observed profiles, given all data.\n",
    "    \"\"\"\n",
    "    R_set, R_profiles = RAggregate(M, R, H, D1, y1, theta, reg=reg, num_workers=num_workers, verbose=verbose)\n",
    "    return R_set, R_profiles"
   ],
   "id": "c77adf8ade1f1c3b",
   "outputs": [],
   "execution_count": 16
  },
  {
   "metadata": {
    "ExecuteTime": {
     "end_time": "2025-07-08T19:44:04.316183Z",
     "start_time": "2025-07-08T19:44:04.312929Z"
    }
   },
   "cell_type": "code",
   "source": [
    "def find_top_k_policies(D, y_pred, k):\n",
    "    idx_sorted = np.argsort(-y_pred.flatten())\n",
    "    D_flat = D.flatten()[idx_sorted]\n",
    "    _, unique_idx = np.unique(D_flat, return_index=True)\n",
    "    top_k = D_flat[np.sort(unique_idx)][:k]\n",
    "    return top_k"
   ],
   "id": "39284be11e848e5f",
   "outputs": [],
   "execution_count": 17
  },
  {
   "metadata": {
    "ExecuteTime": {
     "end_time": "2025-07-08T19:45:01.164275Z",
     "start_time": "2025-07-08T19:45:01.139797Z"
    }
   },
   "cell_type": "code",
   "source": [
    "def construct_RPS_adaptive(\n",
    "    M, R, H, D_full, y_full, num_top, policies_profiles_masked, policies_ids_profiles,\n",
    "    profiles, all_policies, top_k_indices,\n",
    "    theta_init,  # precomputed lower bound or baseline theta\n",
    "    reg=0.1, max_factor=2.0, step_ratio=5, verbose=True,\n",
    "    adaptive=False,  # pass if already computed for efficiency\n",
    "    recovery_type=\"arm\"  # \"arm\" (policy index) or \"profile\"\n",
    "):\n",
    "    # TODO later will need to remove the top_k_indices argumetn to make this usable without oracle. Just for interpretation right now.\n",
    "    \"\"\"\n",
    "    Adaptive Rashomon set construction:\n",
    "    Increments theta until RPS contains a partition whose best arm(s)\n",
    "    (or profile) include the oracle-best.\n",
    "\n",
    "    Returns:\n",
    "        R_set, R_profiles, theta, found, theta_trace, rps_size_trace,\n",
    "        per_partition: dict of lists (all same len = Rashomon set size), including:\n",
    "            - best_pred_indices (top-k for each partition)\n",
    "            - best_pred_profiles\n",
    "            - regret (oracle minus predicted mean)\n",
    "            - pool_means_r (per-partition policy means)\n",
    "            - y_r_est (per-partition predictions)\n",
    "            - pool_assignments (policy -> pool id mapping)\n",
    "            - total_loss (loss for this partition)\n",
    "    \"\"\"\n",
    "\n",
    "    theta = theta_init\n",
    "    theta_step = theta_init / step_ratio\n",
    "    max_theta = theta_init * max_factor\n",
    "    found = False\n",
    "    iteration = 0\n",
    "    theta_trace = []\n",
    "    rps_size_trace = []\n",
    "\n",
    "    # True best policies/profiles\n",
    "    if recovery_type == \"profile\":\n",
    "        best_targets = set(policy_to_profile(all_policies[idx]) for idx in top_k_indices)\n",
    "    else:\n",
    "        best_targets = set(top_k_indices)\n",
    "\n",
    "    from rashomon.loss import compute_policy_means\n",
    "    policy_means = compute_policy_means(D_full, y_full, len(all_policies))\n",
    "\n",
    "\n",
    "    while not found and theta <= max_theta:\n",
    "        if verbose and adaptive:\n",
    "            print(f\"Trying theta={theta:.6f}\")\n",
    "        R_set, R_profiles = RAggregate(\n",
    "            M, R, H, D_full, y_full, theta, reg=reg, num_workers=1, verbose=verbose\n",
    "        )\n",
    "        theta_trace.append(theta)\n",
    "        rps_size_trace.append(len(R_set))\n",
    "        if len(R_set) == 0:\n",
    "            theta += theta_step * theta_init\n",
    "            iteration += 1\n",
    "            continue\n",
    "\n",
    "        # For each partition in the Rashomon set, check recovery\n",
    "        for r_set in R_set:\n",
    "            # Assign pools for each profile\n",
    "            pi_policies_profiles_r = {}\n",
    "            for k, profile in enumerate(profiles):\n",
    "                if len(R_profiles[k]) == 0:\n",
    "                    continue\n",
    "                sigma_k = R_profiles[k].sigma[r_set[k]]\n",
    "                if sigma_k is None:\n",
    "                    n_policies_profile = len(policies_profiles_masked[k])\n",
    "                    pi_policies_r_k = {i: 0 for i in range(n_policies_profile)}\n",
    "                else:\n",
    "                    _, pi_policies_r_k = extract_pools(\n",
    "                        policies_profiles_masked[k], sigma_k)\n",
    "                pi_policies_profiles_r[k] = pi_policies_r_k\n",
    "\n",
    "            pi_pools_r, pi_policies_r = aggregate_pools(\n",
    "                pi_policies_profiles_r, policies_ids_profiles)\n",
    "            pool_means_r = compute_pool_means(policy_means, pi_pools_r)\n",
    "            y_r_est = make_predictions(D_full, pi_policies_r, pool_means_r)\n",
    "            best_pred_indices = find_top_k_policies(D_full, y_r_est, num_top)\n",
    "\n",
    "            if recovery_type == \"profile\":\n",
    "                # Did any predicted-best policy match a best profile?\n",
    "                found_profiles = set(policy_to_profile(all_policies[idx]) for idx in best_pred_indices)\n",
    "                if best_targets & found_profiles:\n",
    "                    found = True\n",
    "                    if verbose:\n",
    "                        print(\"----FOUND-----\")\n",
    "                        print(\"actual best profile(s): \", best_targets)\n",
    "                        print(\"found profile(s): \", found_profiles)\n",
    "                    break\n",
    "            else:  # \"arm\"\n",
    "                if best_targets & set(best_pred_indices):\n",
    "                    found = True\n",
    "                    if verbose:\n",
    "                        print(\"----FOUND-----\")\n",
    "                        print(\"actual best arms: \", [int(x) for x in best_targets])\n",
    "                        print(\"best predicted arms: \", [int(x) for x in set(best_pred_indices)])\n",
    "                    break\n",
    "\n",
    "        if verbose:\n",
    "            print(\"Size of RPS\", len(R_set))\n",
    "        if adaptive == False:\n",
    "            break\n",
    "        if not found:\n",
    "            theta += theta_step * theta_init\n",
    "            iteration += 1\n",
    "\n",
    "    if adaptive and not found:\n",
    "        print(f\"Warning: max_theta reached without finding a Rashomon partition covering the best {recovery_type}.\")\n",
    "    if adaptive and verbose:\n",
    "        print(f\"Final theta for RPS: {theta:.4f} (after {iteration} iterations)\")\n",
    "\n",
    "    return R_set, R_profiles, theta, found, theta_trace, rps_size_trace"
   ],
   "id": "b4671badd98b614c",
   "outputs": [],
   "execution_count": 25
  },
  {
   "metadata": {
    "ExecuteTime": {
     "end_time": "2025-07-08T19:45:01.639134Z",
     "start_time": "2025-07-08T19:45:01.635861Z"
    }
   },
   "cell_type": "code",
   "source": [
    "# 1. Subset D1, y1 by profile and remap indices\n",
    "D1_profiles, y1_profiles, global_to_local = subset_wave_data_by_profile(\n",
    "    D1, y1, all_policies, profiles, policies_ids_profiles\n",
    ")"
   ],
   "id": "b4246141efa87a98",
   "outputs": [],
   "execution_count": 26
  },
  {
   "metadata": {
    "ExecuteTime": {
     "end_time": "2025-07-08T19:45:01.946637Z",
     "start_time": "2025-07-08T19:45:01.942013Z"
    }
   },
   "cell_type": "code",
   "source": [
    "# 2. Compute per-profile policy means\n",
    "profile_policy_means = compute_profile_policy_means(D1_profiles, y1_profiles, policies_profiles)\n",
    "\n",
    "# Which profile has highest observed mean?\n",
    "for k in profile_policy_means:\n",
    "    pm = profile_policy_means[k]\n",
    "    means = pm[:,0] / np.maximum(pm[:,1], 1)\n",
    "    print(f\"Profile {k}: Max observed mean = {means.max():.3f}\")"
   ],
   "id": "872f1007a2cb989a",
   "outputs": [
    {
     "name": "stdout",
     "output_type": "stream",
     "text": [
      "Profile 1: Max observed mean = 0.000\n",
      "Profile 2: Max observed mean = 1.023\n",
      "Profile 3: Max observed mean = 2.489\n",
      "Profile 4: Max observed mean = 3.973\n",
      "Profile 5: Max observed mean = 9.227\n",
      "Profile 6: Max observed mean = 6.828\n",
      "Profile 7: Max observed mean = 12.918\n"
     ]
    }
   ],
   "execution_count": 27
  },
  {
   "metadata": {
    "ExecuteTime": {
     "end_time": "2025-07-08T19:45:02.095239Z",
     "start_time": "2025-07-08T19:45:02.092967Z"
    }
   },
   "cell_type": "code",
   "source": [
    "# 3. Stack all observed units for global RAggregate (this stacks D1/y1 for all observed profiles)\n",
    "D1_full, y1_full = build_global_wave_data(D1_profiles, y1_profiles, policies_profiles, profiles, policies_ids_profiles)"
   ],
   "id": "28fa01a6c44c1931",
   "outputs": [],
   "execution_count": 28
  },
  {
   "metadata": {
    "ExecuteTime": {
     "end_time": "2025-07-08T19:45:02.270549Z",
     "start_time": "2025-07-08T19:45:02.258192Z"
    }
   },
   "cell_type": "code",
   "source": [
    "# get lower bound for theta\n",
    "profile_lower_bounds = []\n",
    "for k, profile in enumerate(profiles):\n",
    "    Dk, yk = subset_data(D1_full, y1_full, policies_ids_profiles[k])\n",
    "    if Dk is None:\n",
    "        continue\n",
    "    n_policies_k = len(policies_profiles[k])\n",
    "    pm = compute_policy_means(Dk, yk, n_policies_k)\n",
    "    profile_lb = find_profile_lower_bound(Dk, yk, pm)\n",
    "    profile_lower_bounds.append(profile_lb)\n",
    "theta_global = sum(profile_lower_bounds) * (1+epsilon)\n",
    "print(\"theta_global: \", theta_global)"
   ],
   "id": "71558c3df80398d",
   "outputs": [
    {
     "name": "stdout",
     "output_type": "stream",
     "text": [
      "theta_global:  63.692351425727345\n"
     ]
    }
   ],
   "execution_count": 29
  },
  {
   "metadata": {
    "ExecuteTime": {
     "end_time": "2025-07-08T19:45:02.453138Z",
     "start_time": "2025-07-08T19:45:02.450937Z"
    }
   },
   "cell_type": "code",
   "source": [
    "k = 7  # profile index for (1,1,1)\n",
    "print(\"Profile 7: policy indices (global)\", policies_ids_profiles[k])\n",
    "print(\"Profile 7: number of unique observed policies:\", len(np.unique(D1.flatten()[np.isin(D1.flatten(), policies_ids_profiles[k])])))"
   ],
   "id": "599ec77cc67e36b1",
   "outputs": [
    {
     "name": "stdout",
     "output_type": "stream",
     "text": [
      "Profile 7: policy indices (global) [13, 14, 16, 17, 22, 23, 25, 26, 31, 32, 34, 35]\n",
      "Profile 7: number of unique observed policies: 11\n"
     ]
    }
   ],
   "execution_count": 30
  },
  {
   "metadata": {
    "ExecuteTime": {
     "end_time": "2025-07-08T19:45:04.277230Z",
     "start_time": "2025-07-08T19:45:03.095319Z"
    }
   },
   "cell_type": "code",
   "source": [
    "# OPTION 1-----\n",
    "# R_set_other, R_profiles_other = construct_RPS(M, R, H, D1_full, y1_full, theta_global, reg=lambda_reg, num_workers=1, verbose=True)\n",
    "\n",
    "# OPTION 2 -----  Run the adaptive Rashomon constructor:\n",
    "R_set, R_profiles, theta_final, found_best, theta_trace, rps_size_trace = construct_RPS_adaptive(\n",
    "    M, R, H, D1_full, y1_full, num_top, policies_profiles_masked, policies_ids_profiles, profiles, all_policies, top_k_indices, theta_global, reg=lambda_reg, adaptive=False, verbose=True, recovery_type = \"arm\"\n",
    ")"
   ],
   "id": "3840651dc276095",
   "outputs": [
    {
     "name": "stdout",
     "output_type": "stream",
     "text": [
      "Skipping profile (0, 0, 0)\n",
      "(0, 0, 1) 63.0892459985186\n",
      "Adaptive\n",
      "Profile (0, 0, 1) took 0.0007312297821044922 s adaptively\n",
      "Profile (0, 0, 1) has 2 objects in Rashomon set\n",
      "(0, 1, 0) 63.095361713526415\n",
      "Adaptive\n",
      "Profile (0, 1, 0) took 0.0004260540008544922 s adaptively\n",
      "Profile (0, 1, 0) has 2 objects in Rashomon set\n",
      "(0, 1, 1) 63.13317562897486\n",
      "Adaptive\n",
      "Profile (0, 1, 1) took 0.0011301040649414062 s adaptively\n",
      "Profile (0, 1, 1) has 4 objects in Rashomon set\n",
      "(1, 0, 0) 63.200898521281694\n",
      "Adaptive\n",
      "Profile (1, 0, 0) took 0.0009899139404296875 s adaptively\n",
      "Profile (1, 0, 0) has 4 objects in Rashomon set\n",
      "(1, 0, 1) 63.13797887762822\n",
      "Adaptive\n",
      "Profile (1, 0, 1) took 0.003239154815673828 s adaptively\n",
      "Profile (1, 0, 1) has 8 objects in Rashomon set\n",
      "(1, 1, 0) 63.24380959996524\n",
      "Adaptive\n",
      "Profile (1, 1, 0) took 0.0037207603454589844 s adaptively\n",
      "Profile (1, 1, 0) has 8 objects in Rashomon set\n",
      "(1, 1, 1) 63.3064267015834\n",
      "Adaptive\n",
      "Profile (1, 1, 1) took 0.009942054748535156 s adaptively\n",
      "Profile (1, 1, 1) has 13 objects in Rashomon set\n",
      "Finding feasible combinations\n",
      "Min = 2.9257098171903815, Max = 7.1710951785124175\n",
      "----FOUND-----\n",
      "actual best arms:  [32, 33, 34, 35, 23, 25, 26, 28, 29, 31]\n",
      "best predicted arms:  [32, 34, 19, 20, 22, 23, 25, 26, 28, 31]\n",
      "Size of RPS 4085\n"
     ]
    }
   ],
   "execution_count": 31
  },
  {
   "metadata": {
    "ExecuteTime": {
     "end_time": "2025-07-08T19:45:13.002970Z",
     "start_time": "2025-07-08T19:45:12.997121Z"
    }
   },
   "cell_type": "code",
   "source": [
    "print(\"Top-k best policies and their profiles:\")\n",
    "for rank, idx in enumerate(top_k_indices, 1):\n",
    "    policy = all_policies[idx]\n",
    "    profile = policy_to_profile(policy)\n",
    "    print(f\"Rank {rank}: Policy idx {idx}, Policy {[int(i) for i in policy]}, Profile {profile}\")\n",
    "# 3. Inspect the results\n",
    "print(f\"Adaptive RPS size: {len(R_set)}\")\n",
    "print(f\"Final theta used: {theta_final:.4f}\")\n",
    "if found_best:\n",
    "    print(\"Rashomon set contains a partition that recovers at least one oracle-best arm.\")\n",
    "else:\n",
    "    print(\"Warning: No Rashomon partition found with an oracle-best arm within threshold.\")"
   ],
   "id": "8e2d833777abaa00",
   "outputs": [
    {
     "name": "stdout",
     "output_type": "stream",
     "text": [
      "Top-k best policies and their profiles:\n",
      "Rank 1: Policy idx 35, Policy [3, 2, 2], Profile (1, 1, 1)\n",
      "Rank 2: Policy idx 32, Policy [3, 1, 2], Profile (1, 1, 1)\n",
      "Rank 3: Policy idx 29, Policy [3, 0, 2], Profile (1, 0, 1)\n",
      "Rank 4: Policy idx 34, Policy [3, 2, 1], Profile (1, 1, 1)\n",
      "Rank 5: Policy idx 26, Policy [2, 2, 2], Profile (1, 1, 1)\n",
      "Rank 6: Policy idx 31, Policy [3, 1, 1], Profile (1, 1, 1)\n",
      "Rank 7: Policy idx 28, Policy [3, 0, 1], Profile (1, 0, 1)\n",
      "Rank 8: Policy idx 23, Policy [2, 1, 2], Profile (1, 1, 1)\n",
      "Rank 9: Policy idx 25, Policy [2, 2, 1], Profile (1, 1, 1)\n",
      "Rank 10: Policy idx 33, Policy [3, 2, 0], Profile (1, 1, 0)\n",
      "Adaptive RPS size: 4085\n",
      "Final theta used: 63.6924\n",
      "Rashomon set contains a partition that recovers at least one oracle-best arm.\n"
     ]
    }
   ],
   "execution_count": 32
  },
  {
   "metadata": {
    "ExecuteTime": {
     "end_time": "2025-07-08T19:45:19.012282Z",
     "start_time": "2025-07-08T19:45:19.004080Z"
    }
   },
   "cell_type": "code",
   "source": [
    "# Gather observed policy indices (in wave 1)\n",
    "observed_policy_indices = set(D1.flatten())\n",
    "# Gather observed profiles (in wave 1)\n",
    "observed_profiles = set()\n",
    "for idx in observed_policy_indices:\n",
    "    prof = policy_to_profile(all_policies[idx])\n",
    "    observed_profiles.add(prof)\n",
    "\n",
    "print(\"\\nObserved profiles in data:\", observed_profiles)\n",
    "print(\"Are all top-k best profiles observed?\")\n",
    "\n",
    "for rank, idx in enumerate(top_k_indices, 1):\n",
    "    policy = all_policies[idx]\n",
    "    prof = policy_to_profile(policy)\n",
    "    print(f\"Best Policy {idx}: Profile {prof}, Observed? {prof in observed_profiles}\")"
   ],
   "id": "4ff68dd869d5cd14",
   "outputs": [
    {
     "name": "stdout",
     "output_type": "stream",
     "text": [
      "\n",
      "Observed profiles in data: {(1, 0, 1), (1, 1, 0), (0, 1, 0), (1, 0, 0), (0, 0, 1), (1, 1, 1), (0, 1, 1)}\n",
      "Are all top-k best profiles observed?\n",
      "Best Policy 35: Profile (1, 1, 1), Observed? True\n",
      "Best Policy 32: Profile (1, 1, 1), Observed? True\n",
      "Best Policy 29: Profile (1, 0, 1), Observed? True\n",
      "Best Policy 34: Profile (1, 1, 1), Observed? True\n",
      "Best Policy 26: Profile (1, 1, 1), Observed? True\n",
      "Best Policy 31: Profile (1, 1, 1), Observed? True\n",
      "Best Policy 28: Profile (1, 0, 1), Observed? True\n",
      "Best Policy 23: Profile (1, 1, 1), Observed? True\n",
      "Best Policy 25: Profile (1, 1, 1), Observed? True\n",
      "Best Policy 33: Profile (1, 1, 0), Observed? True\n"
     ]
    }
   ],
   "execution_count": 33
  },
  {
   "metadata": {
    "ExecuteTime": {
     "end_time": "2025-07-08T19:45:19.284234Z",
     "start_time": "2025-07-08T19:45:19.281581Z"
    }
   },
   "cell_type": "code",
   "source": [
    "for k, rprof in enumerate(R_profiles):\n",
    "    print(f\"Profile {k}: {len(rprof)} poolings in RPS (if observed)\")\n",
    "print(f\"First-wave Rashomon set: {len(R_set)} feasible global partitions (combinations of per-profile poolings).\")\n",
    "# You now have R_set (list of feasible global partition indices) and R_profiles (list of per-profile RashomonSets)"
   ],
   "id": "5cf3e6ed3c264cf9",
   "outputs": [
    {
     "name": "stdout",
     "output_type": "stream",
     "text": [
      "Profile 0: 1 poolings in RPS (if observed)\n",
      "Profile 1: 2 poolings in RPS (if observed)\n",
      "Profile 2: 2 poolings in RPS (if observed)\n",
      "Profile 3: 4 poolings in RPS (if observed)\n",
      "Profile 4: 4 poolings in RPS (if observed)\n",
      "Profile 5: 8 poolings in RPS (if observed)\n",
      "Profile 6: 8 poolings in RPS (if observed)\n",
      "Profile 7: 13 poolings in RPS (if observed)\n",
      "First-wave Rashomon set: 4085 feasible global partitions (combinations of per-profile poolings).\n"
     ]
    }
   ],
   "execution_count": 34
  },
  {
   "metadata": {},
   "cell_type": "markdown",
   "source": "f#### (optional) can look at plots of size, epsilon, and loss",
   "id": "af5aea5f2319792f"
  },
  {
   "metadata": {},
   "cell_type": "markdown",
   "source": "Some plots after the first construction of the RPS to look at RPS size and epsilon, and the error distribution:",
   "id": "648eaac0780ccf76"
  },
  {
   "metadata": {
    "ExecuteTime": {
     "end_time": "2025-07-08T19:45:21.706456Z",
     "start_time": "2025-07-08T19:45:21.700759Z"
    }
   },
   "cell_type": "code",
   "source": [
    "def plot_rps_size_vs_epsilon(aggregate_func, M, R, H, D1_full, y1_full, base_theta, reg=1e-5, epsilons=None):\n",
    "    \"\"\"\n",
    "    Plots RPS size vs epsilon. aggregate_func = RAggregate or similar.\n",
    "    \"\"\"\n",
    "    if epsilons is None:\n",
    "        epsilons = np.linspace(0.01, 0.2, 10)  # sweep from 1% to 20% above min loss\n",
    "    set_sizes = []\n",
    "    min_loss = None\n",
    "    for eps in epsilons:\n",
    "        theta = base_theta * (1 + eps)\n",
    "        R_set, R_profiles = aggregate_func(M, R, H, D1_full, y1_full, theta, reg=reg)\n",
    "        set_sizes.append(len(R_set))\n",
    "        # Find MAP (min loss) if needed\n",
    "        if min_loss is None and len(R_set) > 0:\n",
    "            # Min loss over all models in this set\n",
    "            min_loss = min(\n",
    "                sum(R_profiles[k].loss[r[profile]] for k, profile in enumerate(r))\n",
    "                for r in R_set\n",
    "            )\n",
    "    plt.figure(figsize=(6, 4))\n",
    "    plt.plot(epsilons, set_sizes, marker='o')\n",
    "    plt.xlabel(r'$\\epsilon$')\n",
    "    plt.ylabel('Rashomon Set Size')\n",
    "    plt.title('RPS Size vs. Loss Tolerance')\n",
    "    plt.axvline(x=0.05, color='r', linestyle='--', label='Baseline epsilon')\n",
    "    plt.legend()\n",
    "    plt.tight_layout()\n",
    "    plt.show()\n",
    "\n",
    "# Usage after constructing D1_full, y1_full:\n",
    "# plot_rps_size_vs_epsilon(RAggregate, M, R, H, D1_full, y1_full, theta_global, reg=1e-5)"
   ],
   "id": "71a341b137fafee9",
   "outputs": [],
   "execution_count": 35
  },
  {
   "metadata": {
    "ExecuteTime": {
     "end_time": "2025-07-08T19:45:22.016298Z",
     "start_time": "2025-07-08T19:45:22.013780Z"
    }
   },
   "cell_type": "code",
   "source": [
    "def plot_rps_loss_histogram(R_set, R_profiles):\n",
    "    \"\"\"\n",
    "    Plot histogram of losses across Rashomon set (sum over profiles).\n",
    "    \"\"\"\n",
    "    if len(R_set) == 0:\n",
    "        print(\"Empty Rashomon set.\")\n",
    "        return\n",
    "    losses = []\n",
    "    for r in R_set:\n",
    "        total_loss = sum(R_profiles[k].loss[r[k]] for k in range(len(r)))\n",
    "        losses.append(total_loss)\n",
    "    plt.figure(figsize=(6, 4))\n",
    "    plt.hist(losses, bins=20, color='dodgerblue', alpha=0.7)\n",
    "    plt.axvline(min(losses), color='r', linestyle='--', label='MAP loss')\n",
    "    plt.xlabel('Total Loss')\n",
    "    plt.ylabel('Count')\n",
    "    plt.title('Loss Distribution in RPS')\n",
    "    plt.legend()\n",
    "    plt.tight_layout()\n",
    "    plt.show()\n",
    "\n",
    "# Usage:\n",
    "# plot_rps_loss_histogram(R_set, R_profiles)"
   ],
   "id": "70a9ab58f365e6ae",
   "outputs": [],
   "execution_count": 36
  },
  {
   "metadata": {
    "ExecuteTime": {
     "end_time": "2025-07-08T19:45:22.442268Z",
     "start_time": "2025-07-08T19:45:22.438815Z"
    }
   },
   "cell_type": "code",
   "source": "# plot_rps_size_vs_epsilon(RAggregate, M, R, H, D1_full, y1_full, theta_global, reg=lambda_reg)",
   "id": "1e518384e947b4f6",
   "outputs": [],
   "execution_count": 37
  },
  {
   "metadata": {
    "ExecuteTime": {
     "end_time": "2025-07-08T19:45:22.937977Z",
     "start_time": "2025-07-08T19:45:22.811660Z"
    }
   },
   "cell_type": "code",
   "source": "plot_rps_loss_histogram(R_set, R_profiles)",
   "id": "6690d5f314098c36",
   "outputs": [
    {
     "data": {
      "text/plain": [
       "<Figure size 600x400 with 1 Axes>"
      ],
      "image/png": "[encoded data removed]"
     },
     "metadata": {},
     "output_type": "display_data"
    }
   ],
   "execution_count": 38
  },
  {
   "metadata": {},
   "cell_type": "markdown",
   "source": "## get second wave boundary probabilities and allocation",
   "id": "d7a831de0c156eab"
  },
  {
   "metadata": {
    "ExecuteTime": {
     "end_time": "2025-07-08T19:45:23.703699Z",
     "start_time": "2025-07-08T19:45:23.700682Z"
    }
   },
   "cell_type": "code",
   "source": [
    "def get_policy_neighbors(all_policies):\n",
    "    \"\"\"\n",
    "    Uses lattice_edges helper to get neighbor map for policies.\n",
    "    \"\"\"\n",
    "    edges = lattice_edges(all_policies)  # list of (i, j)\n",
    "    neighbors = {i: [] for i in range(len(all_policies))}\n",
    "    for i, j in edges:\n",
    "        neighbors[i].append(j)\n",
    "        neighbors[j].append(i)  # edges are undirected\n",
    "    return neighbors\n",
    "\n",
    "# Usage:\n",
    "# neighbors = get_policy_neighbors_from_edges(all_policies)"
   ],
   "id": "7f5af0f8d3717068",
   "outputs": [],
   "execution_count": 39
  },
  {
   "metadata": {
    "ExecuteTime": {
     "end_time": "2025-07-08T19:45:23.967357Z",
     "start_time": "2025-07-08T19:45:23.963990Z"
    }
   },
   "cell_type": "code",
   "source": [
    "def compute_global_boundary_matrix(\n",
    "    R_set, R_profiles, neighbors, profiles, policies_profiles_masked, policies_ids_profiles, all_policies\n",
    "):\n",
    "    \"\"\"\n",
    "    Returns boundary_matrix: shape (n_partitions, num_policies)\n",
    "    boundary_matrix[j, i] = number of boundaries for policy i in partition j\n",
    "    (i.e., number of neighbors in a different pool)\n",
    "    \"\"\"\n",
    "    num_policies = len(all_policies)\n",
    "    n_partitions = len(R_set)\n",
    "\n",
    "    boundary_matrix = np.zeros((n_partitions, num_policies), dtype=int)\n",
    "\n",
    "    for j, r in enumerate(R_set):\n",
    "        pi_policies_profiles_r = {}\n",
    "        for k, profile in enumerate(profiles):\n",
    "            if len(R_profiles[k]) == 0:\n",
    "                continue\n",
    "            sigma_k = R_profiles[k].sigma[r[k]]\n",
    "            if sigma_k is None:\n",
    "                continue\n",
    "            _, pi_policies_k = extract_pools(policies_profiles_masked[k], sigma_k)\n",
    "            pi_policies_profiles_r[k] = pi_policies_k\n",
    "        pi_pools_r, pi_policies_r = aggregate_pools(pi_policies_profiles_r, policies_ids_profiles)\n",
    "        for i in range(num_policies):\n",
    "            pool_i = pi_policies_r.get(i, -1)\n",
    "            if pool_i == -1:\n",
    "                continue\n",
    "            # Count number of neighbors in a different pool\n",
    "            count = 0\n",
    "            for nb in neighbors[i]:\n",
    "                pool_nb = pi_policies_r.get(nb, -1)\n",
    "                if pool_nb != -1 and pool_nb != pool_i:\n",
    "                    count += 1\n",
    "            boundary_matrix[j, i] = count\n",
    "    return boundary_matrix"
   ],
   "id": "666313ac137e3da",
   "outputs": [],
   "execution_count": 40
  },
  {
   "metadata": {
    "ExecuteTime": {
     "end_time": "2025-07-08T19:45:24.322767Z",
     "start_time": "2025-07-08T19:45:24.319392Z"
    }
   },
   "cell_type": "code",
   "source": [
    "def get_posterior_weights(R_set, R_profiles):\n",
    "\n",
    "    losses = np.array([sum(R_profiles[k].loss[r[k]] for k in range(len(r))) for r in R_set])\n",
    "    weights = np.exp(-losses)\n",
    "    weights /= weights.sum() if weights.sum() > 0 else 1.0\n",
    "\n",
    "    return weights"
   ],
   "id": "a3800dceffca2413",
   "outputs": [],
   "execution_count": 41
  },
  {
   "metadata": {
    "ExecuteTime": {
     "end_time": "2025-07-08T19:45:24.617343Z",
     "start_time": "2025-07-08T19:45:24.611961Z"
    }
   },
   "cell_type": "code",
   "source": "neighbors = get_policy_neighbors(all_policies)",
   "id": "93eb7a9bbf59eea0",
   "outputs": [],
   "execution_count": 42
  },
  {
   "metadata": {
    "ExecuteTime": {
     "end_time": "2025-07-08T19:45:26.448363Z",
     "start_time": "2025-07-08T19:45:25.006856Z"
    }
   },
   "cell_type": "code",
   "source": [
    "boundary_matrix = compute_global_boundary_matrix(R_set, R_profiles, neighbors, profiles, policies_profiles_masked, policies_ids_profiles, all_policies)\n",
    "binary_boundary_matrix = (boundary_matrix > 0).astype(float)\n"
   ],
   "id": "ffd0074359e41471",
   "outputs": [],
   "execution_count": 43
  },
  {
   "metadata": {
    "ExecuteTime": {
     "end_time": "2025-07-08T19:45:26.487162Z",
     "start_time": "2025-07-08T19:45:26.466372Z"
    }
   },
   "cell_type": "code",
   "source": "posterior_weights = get_posterior_weights(R_set, R_profiles)",
   "id": "9ac4c9ca079e3314",
   "outputs": [],
   "execution_count": 44
  },
  {
   "metadata": {
    "ExecuteTime": {
     "end_time": "2025-07-08T19:45:26.578513Z",
     "start_time": "2025-07-08T19:45:26.574918Z"
    }
   },
   "cell_type": "code",
   "source": [
    "# Weighted average across partitions\n",
    "posterior_boundary_probs = np.average(binary_boundary_matrix, axis=0, weights=posterior_weights)\n",
    "# posterior_weighted_boundary_probs[i]: average number of boundaries for policy i, weighted by RPS posterior\n",
    "# Usage:\n",
    "posterior_boundary_probs = np.round(posterior_boundary_probs, decimals=8)\n"
   ],
   "id": "9c6b27a52c9dc569",
   "outputs": [],
   "execution_count": 45
  },
  {
   "metadata": {
    "ExecuteTime": {
     "end_time": "2025-07-08T19:45:26.633828Z",
     "start_time": "2025-07-08T19:45:26.628216Z"
    }
   },
   "cell_type": "code",
   "source": [
    "# 1. Basic shape check\n",
    "assert posterior_boundary_probs.shape == (len(all_policies),), \"Posterior vector shape mismatch\"\n",
    "\n",
    "# 2. Check range and sum\n",
    "print(\"Posterior boundary min/max:\", posterior_boundary_probs.min(), posterior_boundary_probs.max())\n",
    "# 3. Check for degenerate values\n",
    "assert np.all((posterior_boundary_probs >= 0) & (posterior_boundary_probs <= 1)), \"Probabilities out of bounds\""
   ],
   "id": "5287af692d082aba",
   "outputs": [
    {
     "name": "stdout",
     "output_type": "stream",
     "text": [
      "Posterior boundary min/max: 0.0 1.0\n"
     ]
    }
   ],
   "execution_count": 46
  },
  {
   "metadata": {
    "ExecuteTime": {
     "end_time": "2025-07-08T19:45:27.411714Z",
     "start_time": "2025-07-08T19:45:27.238567Z"
    }
   },
   "cell_type": "code",
   "source": [
    "# Visualize the distribution\n",
    "plt.hist(posterior_boundary_probs, bins=20)\n",
    "plt.xlabel('Posterior Boundary Probability')\n",
    "plt.ylabel('Policy Count')\n",
    "plt.title('Distribution of Posterior Boundary Probabilities')\n",
    "plt.show()"
   ],
   "id": "98d0cceb49bde494",
   "outputs": [
    {
     "data": {
      "text/plain": [
       "<Figure size 640x480 with 1 Axes>"
      ],
      "image/png": "[encoded data removed]"
     },
     "metadata": {},
     "output_type": "display_data"
    }
   ],
   "execution_count": 47
  },
  {
   "metadata": {},
   "cell_type": "markdown",
   "source": "## Next waves",
   "id": "2e022262b87f3125"
  },
  {
   "metadata": {
    "ExecuteTime": {
     "end_time": "2025-07-08T19:45:28.194640Z",
     "start_time": "2025-07-08T19:45:28.186671Z"
    }
   },
   "cell_type": "code",
   "source": [
    "# Set n2 (second-wave sample size, e.g., same as n1 or a new value)\n",
    "n2 = 100\n",
    "\n",
    "# posterior_boundary_probs: already computed above, vector of length num_policies\n",
    "# Use the same allocation function as for wave 1\n",
    "alloc2 = get_allocations(posterior_boundary_probs, n2)\n",
    "\n",
    "print(f\"Second-wave allocations (first 10): {alloc2[:10]}\")\n",
    "print(f\"Total allocated: {alloc2.sum()} (should be {n2})\")"
   ],
   "id": "8bd6f74936372650",
   "outputs": [
    {
     "name": "stdout",
     "output_type": "stream",
     "text": [
      "Second-wave allocations (first 10): [0 3 3 3 3 3 3 3 3 3]\n",
      "Total allocated: 100 (should be 100)\n"
     ]
    }
   ],
   "execution_count": 48
  },
  {
   "metadata": {
    "ExecuteTime": {
     "end_time": "2025-07-08T19:45:28.525932Z",
     "start_time": "2025-07-08T19:45:28.515779Z"
    }
   },
   "cell_type": "code",
   "source": [
    "# Assignments (policy indices) for wave 2\n",
    "D2 = create_assignments_from_alloc(alloc2)  # (n2, 1)\n",
    "\n",
    "# Generate new features and outcomes for wave 2\n",
    "X2, y2 = generate_data_from_assignments(D2, all_policies, phi, var=1.0)\n",
    "\n",
    "print(f\"Wave 2 assignments (policy indices): {D2[:10].flatten()}\")\n",
    "print(f\"Wave 2 features X2: {X2[:5, :]}\")\n",
    "print(f\"Wave 2 outcomes y2: {y2[:5, 0]}\")\n",
    "print(f\"Total n_2: {len(D2)} (should match allocation sum: {alloc2.sum()})\")"
   ],
   "id": "dacfd6568664cc6f",
   "outputs": [
    {
     "name": "stdout",
     "output_type": "stream",
     "text": [
      "Wave 2 assignments (policy indices): [1 1 1 2 2 2 3 3 3 4]\n",
      "Wave 2 features X2: [[0. 0. 1.]\n",
      " [0. 0. 1.]\n",
      " [0. 0. 1.]\n",
      " [0. 0. 2.]\n",
      " [0. 0. 2.]]\n",
      "Wave 2 outcomes y2: [ 0.25222654  0.98226641  0.27353614 -0.07203657 -0.74619978]\n",
      "Total n_2: 100 (should match allocation sum: 100)\n"
     ]
    }
   ],
   "execution_count": 49
  },
  {
   "metadata": {},
   "cell_type": "markdown",
   "source": "## construct updated RPS",
   "id": "31080f16b8eaf5ec"
  },
  {
   "metadata": {
    "ExecuteTime": {
     "end_time": "2025-07-08T19:45:29.345349Z",
     "start_time": "2025-07-08T19:45:29.338179Z"
    }
   },
   "cell_type": "code",
   "source": [
    "# --- Combine data for both waves ---\n",
    "D_total = np.vstack([D1, D2])\n",
    "y_total = np.vstack([y1, y2])\n",
    "\n",
    "# --- Subset and remap ---\n",
    "D_total_profiles, y_total_profiles, global_to_local_total = subset_wave_data_by_profile(\n",
    "    D_total, y_total, all_policies, profiles, policies_ids_profiles\n",
    ")\n",
    "\n",
    "profile_policy_means_total = compute_profile_policy_means(D_total_profiles, y_total_profiles, policies_profiles)\n",
    "\n",
    "# --- Stack all observed units into D_total_full, y_total_full (global indices) ---\n",
    "D_total_full, y_total_full = build_global_wave_data(\n",
    "    D_total_profiles, y_total_profiles, policies_profiles, profiles, policies_ids_profiles\n",
    ")"
   ],
   "id": "f33639127c630457",
   "outputs": [],
   "execution_count": 50
  },
  {
   "metadata": {
    "ExecuteTime": {
     "end_time": "2025-07-08T19:45:29.667021Z",
     "start_time": "2025-07-08T19:45:29.659436Z"
    }
   },
   "cell_type": "code",
   "source": [
    "# --- Get profile lower bounds and global theta ---\n",
    "profile_lower_bounds_total = []\n",
    "for k in D_total_profiles:\n",
    "    Dk, yk = subset_data(D_total_full, y_total_full, policies_ids_profiles[k])\n",
    "    if Dk is None:\n",
    "        continue\n",
    "    n_policies_k = len(policies_profiles[k])\n",
    "    pm = compute_policy_means(Dk, yk, n_policies_k)\n",
    "    profile_lb = find_profile_lower_bound(Dk, yk, pm)\n",
    "    profile_lower_bounds_total.append(profile_lb)\n",
    "theta_global_total = sum(profile_lower_bounds_total) * (1.05)  # adjust epsilon as needed\n",
    "\n",
    "print(\"theta_global (final): \", theta_global_total) # TODO should we be updating the threshold for each wave??"
   ],
   "id": "924e38c7c081041a",
   "outputs": [
    {
     "name": "stdout",
     "output_type": "stream",
     "text": [
      "theta_global (final):  175.3200790016132\n"
     ]
    }
   ],
   "execution_count": 51
  },
  {
   "metadata": {
    "ExecuteTime": {
     "end_time": "2025-07-08T19:45:31.205927Z",
     "start_time": "2025-07-08T19:45:29.974907Z"
    }
   },
   "cell_type": "code",
   "source": [
    "# --- Run Rashomon set construction as in first wave ---\n",
    "R_set_total, R_profiles_total, theta_final, found_best, theta_trace, rps_size_trace = construct_RPS_adaptive(\n",
    "    M, R, H, D_total_full, y_total_full, num_top, policies_profiles_masked, policies_ids_profiles,\n",
    "    profiles, all_policies, top_k_indices, theta_global_total, reg=lambda_reg, adaptive=False, verbose=True, recovery_type=\"arm\"\n",
    ")\n",
    "\n",
    "print(f\"Final Rashomon set: {len(R_set_total)} feasible global partitions (with all data).\")\n",
    "for k, rprof in enumerate(R_profiles_total):\n",
    "    print(f\"Profile {k}: {len(rprof)} poolings in RPS (if observed)\")"
   ],
   "id": "1b0971c263ebee56",
   "outputs": [
    {
     "name": "stdout",
     "output_type": "stream",
     "text": [
      "Skipping profile (0, 0, 0)\n",
      "(0, 0, 1) 174.49515084414872\n",
      "Adaptive\n",
      "Profile (0, 0, 1) took 0.0007131099700927734 s adaptively\n",
      "Profile (0, 0, 1) has 2 objects in Rashomon set\n",
      "(0, 1, 0) 174.5247542003473\n",
      "Adaptive\n",
      "Profile (0, 1, 0) took 0.0004229545593261719 s adaptively\n",
      "Profile (0, 1, 0) has 2 objects in Rashomon set\n",
      "(0, 1, 1) 174.56616330232904\n",
      "Adaptive\n",
      "Profile (0, 1, 1) took 0.0013120174407958984 s adaptively\n",
      "Profile (0, 1, 1) has 4 objects in Rashomon set\n",
      "(1, 0, 0) 174.57272290060556\n",
      "Adaptive\n",
      "Profile (1, 0, 0) took 0.0009589195251464844 s adaptively\n",
      "Profile (1, 0, 0) has 4 objects in Rashomon set\n",
      "(1, 0, 1) 174.6217744990338\n",
      "Adaptive\n",
      "Profile (1, 0, 1) took 0.003292083740234375 s adaptively\n",
      "Profile (1, 0, 1) has 8 objects in Rashomon set\n",
      "(1, 1, 0) 174.64868464898413\n",
      "Adaptive\n",
      "Profile (1, 1, 0) took 0.003774881362915039 s adaptively\n",
      "Profile (1, 1, 0) has 8 objects in Rashomon set\n",
      "(1, 1, 1) 174.80215750151208\n",
      "Adaptive\n",
      "Profile (1, 1, 1) took 0.010095834732055664 s adaptively\n",
      "Profile (1, 1, 1) has 13 objects in Rashomon set\n",
      "Finding feasible combinations\n",
      "Min = 3.4455390984452867, Max = 7.629764586738979\n",
      "----FOUND-----\n",
      "actual best arms:  [32, 33, 34, 35, 23, 25, 26, 28, 29, 31]\n",
      "best predicted arms:  [34, 35, 13, 17, 22, 23, 25, 26, 28, 29]\n",
      "Size of RPS 4085\n",
      "Final Rashomon set: 4085 feasible global partitions (with all data).\n",
      "Profile 0: 1 poolings in RPS (if observed)\n",
      "Profile 1: 2 poolings in RPS (if observed)\n",
      "Profile 2: 2 poolings in RPS (if observed)\n",
      "Profile 3: 4 poolings in RPS (if observed)\n",
      "Profile 4: 4 poolings in RPS (if observed)\n",
      "Profile 5: 8 poolings in RPS (if observed)\n",
      "Profile 6: 8 poolings in RPS (if observed)\n",
      "Profile 7: 13 poolings in RPS (if observed)\n"
     ]
    }
   ],
   "execution_count": 52
  },
  {
   "metadata": {
    "ExecuteTime": {
     "end_time": "2025-07-08T19:45:34.074474Z",
     "start_time": "2025-07-08T19:45:31.235521Z"
    }
   },
   "cell_type": "code",
   "source": [
    "# Compute boundary masks/probabilities as before for both waves:\n",
    "boundary_matrix_1 = compute_global_boundary_matrix(R_set, R_profiles, neighbors, profiles, policies_profiles_masked, policies_ids_profiles, all_policies)\n",
    "binary_boundary_matrix_1 = (boundary_matrix_1 > 0).astype(float)\n",
    "\n",
    "posterior_boundary_probs_1 = np.average(binary_boundary_matrix_1, axis=0, weights=get_posterior_weights(R_set, R_profiles))\n",
    "\n",
    "boundary_matrix_2 = compute_global_boundary_matrix( R_set_total, R_profiles_total, neighbors, profiles, policies_profiles_masked, policies_ids_profiles, all_policies)\n",
    "binary_boundary_matrix_2 = (boundary_matrix_2 > 0).astype(float)\n",
    "\n",
    "posterior_boundary_probs_2 = np.average(binary_boundary_matrix_2, axis=0, weights=get_posterior_weights(R_set_total, R_profiles_total))\n",
    "\n",
    "# Compare statistics:\n",
    "diff = posterior_boundary_probs_2 - posterior_boundary_probs_1\n",
    "print(\"Number of policies with DECREASED boundary probability:\", (diff < -0.0001).sum())\n",
    "print(\"Number of policies with INCREASED boundary probability:\", (diff > 0.0001).sum())\n",
    "print(\"Mean change in boundary probability:\", diff.mean())\n",
    "print(\"Fraction of policies now at 0 boundary probability:\", (posterior_boundary_probs_2 < 1e-8).mean())\n",
    "print(\"Fraction now at 1 boundary probability:\", (posterior_boundary_probs_2 > 1 - 1e-8).mean())\n"
   ],
   "id": "e8de5f1588d87976",
   "outputs": [
    {
     "name": "stdout",
     "output_type": "stream",
     "text": [
      "Number of policies with DECREASED boundary probability: 2\n",
      "Number of policies with INCREASED boundary probability: 0\n",
      "Mean change in boundary probability: -0.0009463826144299809\n",
      "Fraction of policies now at 0 boundary probability: 0.027777777777777776\n",
      "Fraction now at 1 boundary probability: 0.9166666666666666\n"
     ]
    }
   ],
   "execution_count": 53
  },
  {
   "metadata": {
    "ExecuteTime": {
     "end_time": "2025-07-08T19:46:10.597378Z",
     "start_time": "2025-07-08T19:46:10.586496Z"
    }
   },
   "cell_type": "code",
   "source": [
    "for idx in np.argsort(-np.abs(diff))[:10]:\n",
    "    print(f\"Policy {idx} {all_policies[idx]}: wave1={posterior_boundary_probs_1[idx]:.3f}, wave2={posterior_boundary_probs_2[idx]:.3f}, delta={diff[idx]:.10f}\")\n"
   ],
   "id": "9253b12c779d6312",
   "outputs": [
    {
     "name": "stdout",
     "output_type": "stream",
     "text": [
      "Policy 35 (np.int64(3), np.int64(2), np.int64(2)): wave1=0.613, wave2=0.587, delta=-0.0255278993\n",
      "Policy 26 (np.int64(2), np.int64(2), np.int64(2)): wave1=0.912, wave2=0.904, delta=-0.0085418748\n",
      "Policy 32 (np.int64(3), np.int64(1), np.int64(2)): wave1=1.000, wave2=1.000, delta=0.0000000000\n",
      "Policy 31 (np.int64(3), np.int64(1), np.int64(1)): wave1=1.000, wave2=1.000, delta=0.0000000000\n",
      "Policy 30 (np.int64(3), np.int64(1), np.int64(0)): wave1=1.000, wave2=1.000, delta=0.0000000000\n",
      "Policy 29 (np.int64(3), np.int64(0), np.int64(2)): wave1=1.000, wave2=1.000, delta=0.0000000000\n",
      "Policy 28 (np.int64(3), np.int64(0), np.int64(1)): wave1=1.000, wave2=1.000, delta=0.0000000000\n",
      "Policy 27 (np.int64(3), np.int64(0), np.int64(0)): wave1=1.000, wave2=1.000, delta=0.0000000000\n",
      "Policy 19 (np.int64(2), np.int64(0), np.int64(1)): wave1=1.000, wave2=1.000, delta=0.0000000000\n",
      "Policy 25 (np.int64(2), np.int64(2), np.int64(1)): wave1=1.000, wave2=1.000, delta=0.0000000000\n"
     ]
    }
   ],
   "execution_count": 55
  },
  {
   "metadata": {},
   "cell_type": "markdown",
   "source": "## Regret and Evaluation",
   "id": "9d9dccfbe3b0907f"
  },
  {
   "metadata": {
    "ExecuteTime": {
     "end_time": "2025-07-08T19:46:12.355338Z",
     "start_time": "2025-07-08T19:46:12.346286Z"
    }
   },
   "cell_type": "code",
   "outputs": [],
   "execution_count": 56,
   "source": "policy_means_total = compute_policy_means(D_total, y_total, num_policies)",
   "id": "b993989ae5445247"
  }
 ],
 "metadata": {
  "kernelspec": {
   "display_name": "Python 3",
   "language": "python",
   "name": "python3"
  },
  "language_info": {
   "codemirror_mode": {
    "name": "ipython",
    "version": 2
   },
   "file_extension": ".py",
   "mimetype": "text/x-python",
   "name": "python",
   "nbconvert_exporter": "python",
   "pygments_lexer": "ipython2",
   "version": "2.7.6"
  }
 },
 "nbformat": 4,
 "nbformat_minor": 5
}
